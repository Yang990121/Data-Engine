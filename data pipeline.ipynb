{
 "cells": [
  {
   "cell_type": "code",
   "execution_count": 1,
   "metadata": {},
   "outputs": [],
   "source": [
    "import pandas as pd\n",
    "import numpy as np;\n",
    "\n",
    "\n",
    "import matplotlib.pyplot as plt\n",
    "import seaborn as sns"
   ]
  },
  {
   "cell_type": "markdown",
   "metadata": {},
   "source": [
    "### Read in filter_data csv"
   ]
  },
  {
   "cell_type": "code",
   "execution_count": 2,
   "metadata": {},
   "outputs": [
    {
     "name": "stderr",
     "output_type": "stream",
     "text": [
      "/var/folders/wx/4zj8vyds7kv6w4t2k82r4lcr0000gn/T/ipykernel_16220/285384369.py:1: DtypeWarning: Columns (3) have mixed types. Specify dtype option on import or set low_memory=False.\n",
      "  df = pd.read_csv('ETL/01_Data_Collection/01_dataset/processed_data/filtered_df3.csv')\n"
     ]
    },
    {
     "data": {
      "text/plain": [
       "(717069, 50)"
      ]
     },
     "execution_count": 2,
     "metadata": {},
     "output_type": "execute_result"
    }
   ],
   "source": [
    "df = pd.read_csv('ETL/01_Data_Collection/01_dataset/processed_data/filtered_df3.csv')\n",
    "df = df.sort_values('month')\n",
    "df.shape"
   ]
  },
  {
   "cell_type": "code",
   "execution_count": 3,
   "metadata": {},
   "outputs": [
    {
     "data": {
      "text/plain": [
       "(717069, 50)"
      ]
     },
     "execution_count": 3,
     "metadata": {},
     "output_type": "execute_result"
    }
   ],
   "source": [
    "df['month'] = pd.to_datetime(df['month'])\n",
    "# filter for the last 5 years\n",
    "df1 = df[df['month'] > '2015-01-01']\n",
    "df.shape"
   ]
  },
  {
   "cell_type": "code",
   "execution_count": 4,
   "metadata": {},
   "outputs": [
    {
     "name": "stderr",
     "output_type": "stream",
     "text": [
      "/var/folders/wx/4zj8vyds7kv6w4t2k82r4lcr0000gn/T/ipykernel_16220/1415232116.py:2: SettingWithCopyWarning: \n",
      "A value is trying to be set on a copy of a slice from a DataFrame.\n",
      "Try using .loc[row_indexer,col_indexer] = value instead\n",
      "\n",
      "See the caveats in the documentation: https://pandas.pydata.org/pandas-docs/stable/user_guide/indexing.html#returning-a-view-versus-a-copy\n",
      "  df1['month'] = pd.to_datetime(df1['month'])\n",
      "/var/folders/wx/4zj8vyds7kv6w4t2k82r4lcr0000gn/T/ipykernel_16220/1415232116.py:3: SettingWithCopyWarning: \n",
      "A value is trying to be set on a copy of a slice from a DataFrame.\n",
      "Try using .loc[row_indexer,col_indexer] = value instead\n",
      "\n",
      "See the caveats in the documentation: https://pandas.pydata.org/pandas-docs/stable/user_guide/indexing.html#returning-a-view-versus-a-copy\n",
      "  df1['lease_commence_date'] = pd.to_datetime(df1['lease_commence_date'])\n",
      "/var/folders/wx/4zj8vyds7kv6w4t2k82r4lcr0000gn/T/ipykernel_16220/1415232116.py:5: SettingWithCopyWarning: \n",
      "A value is trying to be set on a copy of a slice from a DataFrame.\n",
      "Try using .loc[row_indexer,col_indexer] = value instead\n",
      "\n",
      "See the caveats in the documentation: https://pandas.pydata.org/pandas-docs/stable/user_guide/indexing.html#returning-a-view-versus-a-copy\n",
      "  df1.loc[:,'age_of_flat'] = df1['month'].dt.year - df1['lease_commence_date'].dt.year\n"
     ]
    }
   ],
   "source": [
    "# use month and lease_commence_date to calculate the age of the flat\n",
    "df1['month'] = pd.to_datetime(df1['month'])\n",
    "df1['lease_commence_date'] = pd.to_datetime(df1['lease_commence_date'])\n",
    "\n",
    "df1.loc[:,'age_of_flat'] = df1['month'].dt.year - df1['lease_commence_date'].dt.year\n",
    "\n",
    "df1 = df1.drop(columns=['lease_commence_date'])\n",
    "\n",
    "df1 = df1.sort_values('month')"
   ]
  },
  {
   "cell_type": "code",
   "execution_count": 5,
   "metadata": {},
   "outputs": [],
   "source": [
    "columns_of_interest = ['avg_storey_range', 'floor_area_sqm', 'normalized_resale_price',\n",
    "       'total_dwelling_units', 'vacancy', 'commercial', \n",
    "       'mrt_interchange', 'flat_model', 'town', 'age_of_flat']\n",
    "\n"
   ]
  },
  {
   "cell_type": "code",
   "execution_count": 6,
   "metadata": {},
   "outputs": [],
   "source": [
    "threshold = 0.05*len(df1)"
   ]
  },
  {
   "cell_type": "code",
   "execution_count": 7,
   "metadata": {},
   "outputs": [],
   "source": [
    "# only keep relevant columns\n",
    "df1 = df1[columns_of_interest]"
   ]
  },
  {
   "cell_type": "markdown",
   "metadata": {},
   "source": [
    "## Let's look at Cat. Variables first"
   ]
  },
  {
   "cell_type": "code",
   "execution_count": 8,
   "metadata": {},
   "outputs": [],
   "source": [
    "df1['flat_model'] = df1['flat_model'].str.lower()\n",
    "df1['town'] = df1['town'].str.lower()"
   ]
  },
  {
   "cell_type": "code",
   "execution_count": 9,
   "metadata": {},
   "outputs": [],
   "source": [
    "# find the flat_models that have less than 10,000\n",
    "other_models = df1['flat_model'].value_counts()[df1['flat_model'].value_counts() < threshold].index\n",
    "other_models = list(other_models)\n",
    "\n",
    "# replace the flat_models that have less than 10,000 with 'other'\n",
    "df1['flat_model'] = df1['flat_model'].replace(other_models, 'other')\n"
   ]
  },
  {
   "cell_type": "code",
   "execution_count": 10,
   "metadata": {},
   "outputs": [],
   "source": [
    "# find the flat_types that have less than 10,000\n",
    "other_models = df1['town'].value_counts()[df1['town'].value_counts() < threshold].index\n",
    "other_models = list(other_models)\n",
    "\n",
    "# replace the flat_models that have less than 10,000 with 'other'\n",
    "df1['town'] = df1['town'].replace(other_models, 'other')\n"
   ]
  },
  {
   "cell_type": "markdown",
   "metadata": {},
   "source": [
    "### Numeric Variables"
   ]
  },
  {
   "cell_type": "code",
   "execution_count": 11,
   "metadata": {},
   "outputs": [],
   "source": [
    "columns_to_be_scaled = ['avg_storey_range', \n",
    "       'floor_area_sqm',\n",
    "       'normalized_resale_price', \n",
    "       'total_dwelling_units', 'vacancy']\n"
   ]
  },
  {
   "cell_type": "code",
   "execution_count": 12,
   "metadata": {},
   "outputs": [],
   "source": [
    "# min_max scaling for all numerical columns\n",
    "#from sklearn.preprocessing import MinMaxScaler\n",
    "\n",
    "#scaler = MinMaxScaler()\n",
    "#df1[columns_to_be_scaled] = scaler.fit_transform(df1[columns_to_be_scaled])\n",
    "\n",
    "scaling_dic = {}\n",
    "\n",
    "for col in columns_to_be_scaled:\n",
    "  col_min = min(df1[col])\n",
    "  col_max = max(df1[col])\n",
    "  df1[col] = df1[col].apply(lambda x: (x-col_min)/(col_max-col_min))\n",
    "  scaling_dic[col] = (col_min, col_max)\n"
   ]
  },
  {
   "cell_type": "code",
   "execution_count": 13,
   "metadata": {},
   "outputs": [
    {
     "data": {
      "text/plain": [
       "{'avg_storey_range': (2.0, 50.0),\n",
       " 'floor_area_sqm': (31.0, 280.0),\n",
       " 'normalized_resale_price': (154209.1203140869, 1540198.2919407086),\n",
       " 'total_dwelling_units': (2, 570),\n",
       " 'vacancy': (20, 110)}"
      ]
     },
     "execution_count": 13,
     "metadata": {},
     "output_type": "execute_result"
    }
   ],
   "source": [
    "scaling_dic\n",
    "\n",
    "## store somewhere"
   ]
  },
  {
   "cell_type": "code",
   "execution_count": 14,
   "metadata": {},
   "outputs": [
    {
     "data": {
      "text/plain": [
       "Index(['avg_storey_range', 'floor_area_sqm', 'normalized_resale_price',\n",
       "       'total_dwelling_units', 'vacancy', 'commercial', 'mrt_interchange',\n",
       "       'flat_model', 'town', 'age_of_flat'],\n",
       "      dtype='object')"
      ]
     },
     "execution_count": 14,
     "metadata": {},
     "output_type": "execute_result"
    }
   ],
   "source": [
    "df1.columns"
   ]
  },
  {
   "cell_type": "code",
   "execution_count": null,
   "metadata": {},
   "outputs": [],
   "source": []
  },
  {
   "cell_type": "markdown",
   "metadata": {},
   "source": [
    "# Summary"
   ]
  },
  {
   "cell_type": "markdown",
   "metadata": {},
   "source": [
    " - Grouped duplicate categories in Categorical variables e.g. Model A and model A\n",
    " - Grouped categories that appear less frequently to avoid overfitting\n",
    " - Min-Max scaling for numeric variables"
   ]
  },
  {
   "cell_type": "markdown",
   "metadata": {},
   "source": []
  }
 ],
 "metadata": {
  "kernelspec": {
   "display_name": "pred_analytics",
   "language": "python",
   "name": "python3"
  },
  "language_info": {
   "codemirror_mode": {
    "name": "ipython",
    "version": 3
   },
   "file_extension": ".py",
   "mimetype": "text/x-python",
   "name": "python",
   "nbconvert_exporter": "python",
   "pygments_lexer": "ipython3",
   "version": "3.9.16"
  }
 },
 "nbformat": 4,
 "nbformat_minor": 2
}
