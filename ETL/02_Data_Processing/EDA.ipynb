{
 "cells": [
  {
   "cell_type": "code",
   "execution_count": 3,
   "metadata": {},
   "outputs": [],
   "source": [
    "import pandas as pd\n",
    "import numpy as np\n",
    "\n",
    "import matplotlib.pyplot as plt\n",
    "import seaborn as sns"
   ]
  },
  {
   "cell_type": "code",
   "execution_count": 12,
   "metadata": {},
   "outputs": [
    {
     "name": "stderr",
     "output_type": "stream",
     "text": [
      "/var/folders/cj/29w3grxs70lgdvq77tw2_7040000gn/T/ipykernel_68796/4133549922.py:1: DtypeWarning: Columns (4) have mixed types. Specify dtype option on import or set low_memory=False.\n",
      "  df = pd.read_csv('final.csv')\n"
     ]
    }
   ],
   "source": [
    "df = pd.read_csv('final.csv')\n",
    "df = df.drop(columns=['Unnamed: 0.1', 'Unnamed: 0'])\n",
    "df1 = df.copy()"
   ]
  },
  {
   "cell_type": "code",
   "execution_count": 13,
   "metadata": {},
   "outputs": [
    {
     "data": {
      "text/html": [
       "<div>\n",
       "<style scoped>\n",
       "    .dataframe tbody tr th:only-of-type {\n",
       "        vertical-align: middle;\n",
       "    }\n",
       "\n",
       "    .dataframe tbody tr th {\n",
       "        vertical-align: top;\n",
       "    }\n",
       "\n",
       "    .dataframe thead th {\n",
       "        text-align: right;\n",
       "    }\n",
       "</style>\n",
       "<table border=\"1\" class=\"dataframe\">\n",
       "  <thead>\n",
       "    <tr style=\"text-align: right;\">\n",
       "      <th></th>\n",
       "      <th>month</th>\n",
       "      <th>town</th>\n",
       "      <th>flat_type</th>\n",
       "      <th>block</th>\n",
       "      <th>street_name</th>\n",
       "      <th>storey_range</th>\n",
       "      <th>floor_area_sqm</th>\n",
       "      <th>flat_model</th>\n",
       "      <th>lease_commence_date</th>\n",
       "      <th>resale_price</th>\n",
       "      <th>...</th>\n",
       "      <th>sec_sch_nearest_dist</th>\n",
       "      <th>sec_sch_name</th>\n",
       "      <th>cutoff_point</th>\n",
       "      <th>affiliation</th>\n",
       "      <th>year</th>\n",
       "      <th>quarter</th>\n",
       "      <th>inflation</th>\n",
       "      <th>normalized_resale_price</th>\n",
       "      <th>latitude</th>\n",
       "      <th>longitude</th>\n",
       "    </tr>\n",
       "  </thead>\n",
       "  <tbody>\n",
       "    <tr>\n",
       "      <th>0</th>\n",
       "      <td>1998-01</td>\n",
       "      <td>ANG MO KIO</td>\n",
       "      <td>3 ROOM</td>\n",
       "      <td>216</td>\n",
       "      <td>ANG MO KIO AVE 1</td>\n",
       "      <td>10 TO 12</td>\n",
       "      <td>73.0</td>\n",
       "      <td>NEW GENERATION</td>\n",
       "      <td>1976</td>\n",
       "      <td>170500.0</td>\n",
       "      <td>...</td>\n",
       "      <td>177.562823</td>\n",
       "      <td>Ang Mo Kio Secondary School</td>\n",
       "      <td>224</td>\n",
       "      <td>0</td>\n",
       "      <td>1998</td>\n",
       "      <td>1</td>\n",
       "      <td>1.302993</td>\n",
       "      <td>222160.322453</td>\n",
       "      <td>1.366197</td>\n",
       "      <td>103.841505</td>\n",
       "    </tr>\n",
       "    <tr>\n",
       "      <th>1</th>\n",
       "      <td>1998-05</td>\n",
       "      <td>ANG MO KIO</td>\n",
       "      <td>3 ROOM</td>\n",
       "      <td>216</td>\n",
       "      <td>ANG MO KIO AVE 1</td>\n",
       "      <td>07 TO 09</td>\n",
       "      <td>73.0</td>\n",
       "      <td>NEW GENERATION</td>\n",
       "      <td>1976</td>\n",
       "      <td>170000.0</td>\n",
       "      <td>...</td>\n",
       "      <td>177.562823</td>\n",
       "      <td>Ang Mo Kio Secondary School</td>\n",
       "      <td>224</td>\n",
       "      <td>0</td>\n",
       "      <td>1998</td>\n",
       "      <td>2</td>\n",
       "      <td>1.414592</td>\n",
       "      <td>240480.602810</td>\n",
       "      <td>1.366197</td>\n",
       "      <td>103.841505</td>\n",
       "    </tr>\n",
       "    <tr>\n",
       "      <th>2</th>\n",
       "      <td>1998-07</td>\n",
       "      <td>ANG MO KIO</td>\n",
       "      <td>3 ROOM</td>\n",
       "      <td>216</td>\n",
       "      <td>ANG MO KIO AVE 1</td>\n",
       "      <td>01 TO 03</td>\n",
       "      <td>73.0</td>\n",
       "      <td>NEW GENERATION</td>\n",
       "      <td>1976</td>\n",
       "      <td>157000.0</td>\n",
       "      <td>...</td>\n",
       "      <td>177.562823</td>\n",
       "      <td>Ang Mo Kio Secondary School</td>\n",
       "      <td>224</td>\n",
       "      <td>0</td>\n",
       "      <td>1998</td>\n",
       "      <td>3</td>\n",
       "      <td>1.625165</td>\n",
       "      <td>255150.866106</td>\n",
       "      <td>1.366197</td>\n",
       "      <td>103.841505</td>\n",
       "    </tr>\n",
       "    <tr>\n",
       "      <th>3</th>\n",
       "      <td>1998-07</td>\n",
       "      <td>ANG MO KIO</td>\n",
       "      <td>3 ROOM</td>\n",
       "      <td>216</td>\n",
       "      <td>ANG MO KIO AVE 1</td>\n",
       "      <td>01 TO 03</td>\n",
       "      <td>73.0</td>\n",
       "      <td>NEW GENERATION</td>\n",
       "      <td>1976</td>\n",
       "      <td>150000.0</td>\n",
       "      <td>...</td>\n",
       "      <td>177.562823</td>\n",
       "      <td>Ang Mo Kio Secondary School</td>\n",
       "      <td>224</td>\n",
       "      <td>0</td>\n",
       "      <td>1998</td>\n",
       "      <td>3</td>\n",
       "      <td>1.625165</td>\n",
       "      <td>243774.712840</td>\n",
       "      <td>1.366197</td>\n",
       "      <td>103.841505</td>\n",
       "    </tr>\n",
       "    <tr>\n",
       "      <th>4</th>\n",
       "      <td>1998-07</td>\n",
       "      <td>ANG MO KIO</td>\n",
       "      <td>4 ROOM</td>\n",
       "      <td>216</td>\n",
       "      <td>ANG MO KIO AVE 1</td>\n",
       "      <td>10 TO 12</td>\n",
       "      <td>88.0</td>\n",
       "      <td>NEW GENERATION</td>\n",
       "      <td>1976</td>\n",
       "      <td>263000.0</td>\n",
       "      <td>...</td>\n",
       "      <td>177.562823</td>\n",
       "      <td>Ang Mo Kio Secondary School</td>\n",
       "      <td>224</td>\n",
       "      <td>0</td>\n",
       "      <td>1998</td>\n",
       "      <td>3</td>\n",
       "      <td>1.625165</td>\n",
       "      <td>427418.329846</td>\n",
       "      <td>1.366197</td>\n",
       "      <td>103.841505</td>\n",
       "    </tr>\n",
       "  </tbody>\n",
       "</table>\n",
       "<p>5 rows × 42 columns</p>\n",
       "</div>"
      ],
      "text/plain": [
       "     month        town flat_type block       street_name storey_range  \\\n",
       "0  1998-01  ANG MO KIO    3 ROOM   216  ANG MO KIO AVE 1     10 TO 12   \n",
       "1  1998-05  ANG MO KIO    3 ROOM   216  ANG MO KIO AVE 1     07 TO 09   \n",
       "2  1998-07  ANG MO KIO    3 ROOM   216  ANG MO KIO AVE 1     01 TO 03   \n",
       "3  1998-07  ANG MO KIO    3 ROOM   216  ANG MO KIO AVE 1     01 TO 03   \n",
       "4  1998-07  ANG MO KIO    4 ROOM   216  ANG MO KIO AVE 1     10 TO 12   \n",
       "\n",
       "   floor_area_sqm      flat_model  lease_commence_date  resale_price  ...  \\\n",
       "0            73.0  NEW GENERATION                 1976      170500.0  ...   \n",
       "1            73.0  NEW GENERATION                 1976      170000.0  ...   \n",
       "2            73.0  NEW GENERATION                 1976      157000.0  ...   \n",
       "3            73.0  NEW GENERATION                 1976      150000.0  ...   \n",
       "4            88.0  NEW GENERATION                 1976      263000.0  ...   \n",
       "\n",
       "  sec_sch_nearest_dist                 sec_sch_name  cutoff_point  \\\n",
       "0           177.562823  Ang Mo Kio Secondary School           224   \n",
       "1           177.562823  Ang Mo Kio Secondary School           224   \n",
       "2           177.562823  Ang Mo Kio Secondary School           224   \n",
       "3           177.562823  Ang Mo Kio Secondary School           224   \n",
       "4           177.562823  Ang Mo Kio Secondary School           224   \n",
       "\n",
       "   affiliation  year  quarter  inflation normalized_resale_price  latitude  \\\n",
       "0            0  1998        1   1.302993           222160.322453  1.366197   \n",
       "1            0  1998        2   1.414592           240480.602810  1.366197   \n",
       "2            0  1998        3   1.625165           255150.866106  1.366197   \n",
       "3            0  1998        3   1.625165           243774.712840  1.366197   \n",
       "4            0  1998        3   1.625165           427418.329846  1.366197   \n",
       "\n",
       "    longitude  \n",
       "0  103.841505  \n",
       "1  103.841505  \n",
       "2  103.841505  \n",
       "3  103.841505  \n",
       "4  103.841505  \n",
       "\n",
       "[5 rows x 42 columns]"
      ]
     },
     "execution_count": 13,
     "metadata": {},
     "output_type": "execute_result"
    }
   ],
   "source": [
    "df1.head()"
   ]
  },
  {
   "cell_type": "code",
   "execution_count": 14,
   "metadata": {},
   "outputs": [
    {
     "data": {
      "text/plain": [
       "Index(['month', 'town', 'flat_type', 'block', 'street_name', 'storey_range',\n",
       "       'floor_area_sqm', 'flat_model', 'lease_commence_date', 'resale_price',\n",
       "       'address', 'commercial', 'market_hawker', 'multistorey_carpark',\n",
       "       'precinct_pavilion', 'total_dwelling_units', 'postal', 'planning_area',\n",
       "       'mall_nearest_distance', 'hawker_nearest_distance',\n",
       "       'hawker_food_stalls', 'hawker_market_stalls', 'mrt_nearest_distance',\n",
       "       'mrt_name', 'bus_interchange', 'mrt_interchange',\n",
       "       'bus_stop_nearest_distance', 'bus_stop_name',\n",
       "       'pri_sch_nearest_distance', 'pri_sch_name', 'vacancy',\n",
       "       'pri_sch_affiliation', 'sec_sch_nearest_dist', 'sec_sch_name',\n",
       "       'cutoff_point', 'affiliation', 'year', 'quarter', 'inflation',\n",
       "       'normalized_resale_price', 'latitude', 'longitude'],\n",
       "      dtype='object')"
      ]
     },
     "execution_count": 14,
     "metadata": {},
     "output_type": "execute_result"
    }
   ],
   "source": [
    "df1.columns"
   ]
  },
  {
   "cell_type": "code",
   "execution_count": 20,
   "metadata": {},
   "outputs": [
    {
     "name": "stdout",
     "output_type": "stream",
     "text": [
      "Index(['floor_area_sqm', 'lease_commence_date', 'resale_price', 'commercial',\n",
      "       'market_hawker', 'multistorey_carpark', 'precinct_pavilion',\n",
      "       'total_dwelling_units', 'postal', 'mall_nearest_distance',\n",
      "       'hawker_nearest_distance', 'hawker_food_stalls', 'hawker_market_stalls',\n",
      "       'mrt_nearest_distance', 'bus_interchange', 'mrt_interchange',\n",
      "       'bus_stop_nearest_distance', 'pri_sch_nearest_distance', 'vacancy',\n",
      "       'pri_sch_affiliation', 'sec_sch_nearest_dist', 'cutoff_point',\n",
      "       'affiliation', 'year', 'quarter', 'inflation',\n",
      "       'normalized_resale_price', 'latitude', 'longitude'],\n",
      "      dtype='object')\n",
      "\n",
      "\n",
      "Index(['address', 'block', 'bus_stop_name', 'flat_model', 'flat_type', 'month',\n",
      "       'mrt_name', 'planning_area', 'pri_sch_name', 'sec_sch_name',\n",
      "       'storey_range', 'street_name', 'town'],\n",
      "      dtype='object')\n"
     ]
    }
   ],
   "source": [
    "# show the numerical columns and categorical columns respectively\n",
    "numerical_columns = df1.select_dtypes(include=[np.number]).columns\n",
    "categorical_columns = df1.columns.difference(numerical_columns)\n",
    "\n",
    "print(numerical_columns)\n",
    "print('\\n')\n",
    "print(categorical_columns)"
   ]
  },
  {
   "cell_type": "markdown",
   "metadata": {},
   "source": [
    "## Let's look at Cat. Variables first"
   ]
  },
  {
   "cell_type": "code",
   "execution_count": 24,
   "metadata": {},
   "outputs": [
    {
     "data": {
      "text/html": [
       "<div>\n",
       "<style scoped>\n",
       "    .dataframe tbody tr th:only-of-type {\n",
       "        vertical-align: middle;\n",
       "    }\n",
       "\n",
       "    .dataframe tbody tr th {\n",
       "        vertical-align: top;\n",
       "    }\n",
       "\n",
       "    .dataframe thead th {\n",
       "        text-align: right;\n",
       "    }\n",
       "</style>\n",
       "<table border=\"1\" class=\"dataframe\">\n",
       "  <thead>\n",
       "    <tr style=\"text-align: right;\">\n",
       "      <th></th>\n",
       "      <th>address</th>\n",
       "      <th>block</th>\n",
       "      <th>bus_stop_name</th>\n",
       "      <th>flat_model</th>\n",
       "      <th>flat_type</th>\n",
       "      <th>month</th>\n",
       "      <th>mrt_name</th>\n",
       "      <th>planning_area</th>\n",
       "      <th>pri_sch_name</th>\n",
       "      <th>sec_sch_name</th>\n",
       "      <th>storey_range</th>\n",
       "      <th>street_name</th>\n",
       "      <th>town</th>\n",
       "    </tr>\n",
       "  </thead>\n",
       "  <tbody>\n",
       "    <tr>\n",
       "      <th>0</th>\n",
       "      <td>216, ANG MO KIO AVE 1</td>\n",
       "      <td>216</td>\n",
       "      <td>BLK 220</td>\n",
       "      <td>NEW GENERATION</td>\n",
       "      <td>3 ROOM</td>\n",
       "      <td>1998-01</td>\n",
       "      <td>Ang Mo Kio</td>\n",
       "      <td>Ang Mo Kio</td>\n",
       "      <td>Ang Mo Kio Primary School</td>\n",
       "      <td>Ang Mo Kio Secondary School</td>\n",
       "      <td>10 TO 12</td>\n",
       "      <td>ANG MO KIO AVE 1</td>\n",
       "      <td>ANG MO KIO</td>\n",
       "    </tr>\n",
       "    <tr>\n",
       "      <th>1</th>\n",
       "      <td>216, ANG MO KIO AVE 1</td>\n",
       "      <td>216</td>\n",
       "      <td>BLK 220</td>\n",
       "      <td>NEW GENERATION</td>\n",
       "      <td>3 ROOM</td>\n",
       "      <td>1998-05</td>\n",
       "      <td>Ang Mo Kio</td>\n",
       "      <td>Ang Mo Kio</td>\n",
       "      <td>Ang Mo Kio Primary School</td>\n",
       "      <td>Ang Mo Kio Secondary School</td>\n",
       "      <td>07 TO 09</td>\n",
       "      <td>ANG MO KIO AVE 1</td>\n",
       "      <td>ANG MO KIO</td>\n",
       "    </tr>\n",
       "    <tr>\n",
       "      <th>2</th>\n",
       "      <td>216, ANG MO KIO AVE 1</td>\n",
       "      <td>216</td>\n",
       "      <td>BLK 220</td>\n",
       "      <td>NEW GENERATION</td>\n",
       "      <td>3 ROOM</td>\n",
       "      <td>1998-07</td>\n",
       "      <td>Ang Mo Kio</td>\n",
       "      <td>Ang Mo Kio</td>\n",
       "      <td>Ang Mo Kio Primary School</td>\n",
       "      <td>Ang Mo Kio Secondary School</td>\n",
       "      <td>01 TO 03</td>\n",
       "      <td>ANG MO KIO AVE 1</td>\n",
       "      <td>ANG MO KIO</td>\n",
       "    </tr>\n",
       "    <tr>\n",
       "      <th>3</th>\n",
       "      <td>216, ANG MO KIO AVE 1</td>\n",
       "      <td>216</td>\n",
       "      <td>BLK 220</td>\n",
       "      <td>NEW GENERATION</td>\n",
       "      <td>3 ROOM</td>\n",
       "      <td>1998-07</td>\n",
       "      <td>Ang Mo Kio</td>\n",
       "      <td>Ang Mo Kio</td>\n",
       "      <td>Ang Mo Kio Primary School</td>\n",
       "      <td>Ang Mo Kio Secondary School</td>\n",
       "      <td>01 TO 03</td>\n",
       "      <td>ANG MO KIO AVE 1</td>\n",
       "      <td>ANG MO KIO</td>\n",
       "    </tr>\n",
       "    <tr>\n",
       "      <th>4</th>\n",
       "      <td>216, ANG MO KIO AVE 1</td>\n",
       "      <td>216</td>\n",
       "      <td>BLK 220</td>\n",
       "      <td>NEW GENERATION</td>\n",
       "      <td>4 ROOM</td>\n",
       "      <td>1998-07</td>\n",
       "      <td>Ang Mo Kio</td>\n",
       "      <td>Ang Mo Kio</td>\n",
       "      <td>Ang Mo Kio Primary School</td>\n",
       "      <td>Ang Mo Kio Secondary School</td>\n",
       "      <td>10 TO 12</td>\n",
       "      <td>ANG MO KIO AVE 1</td>\n",
       "      <td>ANG MO KIO</td>\n",
       "    </tr>\n",
       "  </tbody>\n",
       "</table>\n",
       "</div>"
      ],
      "text/plain": [
       "                 address block bus_stop_name      flat_model flat_type  \\\n",
       "0  216, ANG MO KIO AVE 1   216       BLK 220  NEW GENERATION    3 ROOM   \n",
       "1  216, ANG MO KIO AVE 1   216       BLK 220  NEW GENERATION    3 ROOM   \n",
       "2  216, ANG MO KIO AVE 1   216       BLK 220  NEW GENERATION    3 ROOM   \n",
       "3  216, ANG MO KIO AVE 1   216       BLK 220  NEW GENERATION    3 ROOM   \n",
       "4  216, ANG MO KIO AVE 1   216       BLK 220  NEW GENERATION    4 ROOM   \n",
       "\n",
       "     month    mrt_name planning_area               pri_sch_name  \\\n",
       "0  1998-01  Ang Mo Kio    Ang Mo Kio  Ang Mo Kio Primary School   \n",
       "1  1998-05  Ang Mo Kio    Ang Mo Kio  Ang Mo Kio Primary School   \n",
       "2  1998-07  Ang Mo Kio    Ang Mo Kio  Ang Mo Kio Primary School   \n",
       "3  1998-07  Ang Mo Kio    Ang Mo Kio  Ang Mo Kio Primary School   \n",
       "4  1998-07  Ang Mo Kio    Ang Mo Kio  Ang Mo Kio Primary School   \n",
       "\n",
       "                  sec_sch_name storey_range       street_name        town  \n",
       "0  Ang Mo Kio Secondary School     10 TO 12  ANG MO KIO AVE 1  ANG MO KIO  \n",
       "1  Ang Mo Kio Secondary School     07 TO 09  ANG MO KIO AVE 1  ANG MO KIO  \n",
       "2  Ang Mo Kio Secondary School     01 TO 03  ANG MO KIO AVE 1  ANG MO KIO  \n",
       "3  Ang Mo Kio Secondary School     01 TO 03  ANG MO KIO AVE 1  ANG MO KIO  \n",
       "4  Ang Mo Kio Secondary School     10 TO 12  ANG MO KIO AVE 1  ANG MO KIO  "
      ]
     },
     "execution_count": 24,
     "metadata": {},
     "output_type": "execute_result"
    }
   ],
   "source": [
    "df_cat = df1[categorical_columns]\n",
    "df_cat.head()"
   ]
  },
  {
   "cell_type": "code",
   "execution_count": 25,
   "metadata": {},
   "outputs": [
    {
     "name": "stdout",
     "output_type": "stream",
     "text": [
      "address: 9013\n",
      "block: 2995\n",
      "bus_stop_name: 1637\n",
      "flat_model: 32\n",
      "flat_type: 8\n",
      "month: 312\n",
      "mrt_name: 94\n",
      "planning_area: 32\n",
      "pri_sch_name: 177\n",
      "sec_sch_name: 134\n",
      "storey_range: 25\n",
      "street_name: 547\n",
      "town: 26\n"
     ]
    }
   ],
   "source": [
    "# check nunique values of each categorical column\n",
    "for col in df_cat.columns:\n",
    "    print(f'{col}: {df_cat[col].nunique()}')"
   ]
  },
  {
   "cell_type": "markdown",
   "metadata": {},
   "source": [
    "### flat_model, flat_type, storey_range and town appear to be the only relavant features"
   ]
  },
  {
   "cell_type": "code",
   "execution_count": 28,
   "metadata": {},
   "outputs": [],
   "source": [
    "cat_variations = ['flat_model', 'flat_type', 'storey_range', 'town']\n",
    "\n",
    "# town and planning_area are the very much similar, so we can drop planning_area"
   ]
  },
  {
   "cell_type": "code",
   "execution_count": 31,
   "metadata": {},
   "outputs": [
    {
     "data": {
      "text/plain": [
       "storey_range\n",
       "04 TO 06    179166\n",
       "07 TO 09    161013\n",
       "01 TO 03    143135\n",
       "10 TO 12    137002\n",
       "13 TO 15     49936\n",
       "16 TO 18     19529\n",
       "19 TO 21      8959\n",
       "22 TO 24      5804\n",
       "25 TO 27      2719\n",
       "01 TO 05      2699\n",
       "06 TO 10      2472\n",
       "28 TO 30      1382\n",
       "11 TO 15      1259\n",
       "31 TO 33       448\n",
       "34 TO 36       432\n",
       "37 TO 39       409\n",
       "16 TO 20       265\n",
       "40 TO 42       203\n",
       "21 TO 25        92\n",
       "43 TO 45        44\n",
       "46 TO 48        41\n",
       "26 TO 30        39\n",
       "49 TO 51        17\n",
       "36 TO 40         7\n",
       "31 TO 35         2\n",
       "Name: count, dtype: int64"
      ]
     },
     "execution_count": 31,
     "metadata": {},
     "output_type": "execute_result"
    }
   ],
   "source": [
    "df_cat['storey_range'].value_counts()\n",
    "\n",
    "# needs further cleaning this one"
   ]
  },
  {
   "cell_type": "code",
   "execution_count": 37,
   "metadata": {},
   "outputs": [
    {
     "ename": "TypeError",
     "evalue": "inner() got multiple values for argument 'ax'",
     "output_type": "error",
     "traceback": [
      "\u001b[0;31m---------------------------------------------------------------------------\u001b[0m",
      "\u001b[0;31mTypeError\u001b[0m                                 Traceback (most recent call last)",
      "Cell \u001b[0;32mIn[37], line 4\u001b[0m\n\u001b[1;32m      2\u001b[0m fig, axs \u001b[38;5;241m=\u001b[39m plt\u001b[38;5;241m.\u001b[39msubplots(\u001b[38;5;241m1\u001b[39m, \u001b[38;5;241m3\u001b[39m, figsize\u001b[38;5;241m=\u001b[39m(\u001b[38;5;241m15\u001b[39m, \u001b[38;5;241m3\u001b[39m))\n\u001b[1;32m      3\u001b[0m \u001b[38;5;66;03m# count plot for flat_model\u001b[39;00m\n\u001b[0;32m----> 4\u001b[0m \u001b[43mplt\u001b[49m\u001b[38;5;241;43m.\u001b[39;49m\u001b[43mbar\u001b[49m\u001b[43m(\u001b[49m\u001b[43mdf_cat\u001b[49m\u001b[43m[\u001b[49m\u001b[38;5;124;43m'\u001b[39;49m\u001b[38;5;124;43mflat_model\u001b[39;49m\u001b[38;5;124;43m'\u001b[39;49m\u001b[43m]\u001b[49m\u001b[38;5;241;43m.\u001b[39;49m\u001b[43munique\u001b[49m\u001b[43m(\u001b[49m\u001b[43m)\u001b[49m\u001b[43m,\u001b[49m\u001b[43m \u001b[49m\u001b[43mdf_cat\u001b[49m\u001b[43m[\u001b[49m\u001b[38;5;124;43m'\u001b[39;49m\u001b[38;5;124;43mflat_model\u001b[39;49m\u001b[38;5;124;43m'\u001b[39;49m\u001b[43m]\u001b[49m\u001b[38;5;241;43m.\u001b[39;49m\u001b[43mvalue_counts\u001b[49m\u001b[43m(\u001b[49m\u001b[43m)\u001b[49m\u001b[43m,\u001b[49m\u001b[43m \u001b[49m\u001b[43max\u001b[49m\u001b[38;5;241;43m=\u001b[39;49m\u001b[43maxs\u001b[49m\u001b[43m[\u001b[49m\u001b[38;5;241;43m0\u001b[39;49m\u001b[43m]\u001b[49m\u001b[43m)\u001b[49m\n\u001b[1;32m      6\u001b[0m \u001b[38;5;66;03m# count plot for flat_type\u001b[39;00m\n\u001b[1;32m      7\u001b[0m sns\u001b[38;5;241m.\u001b[39mcountplot(df_cat[\u001b[38;5;124m'\u001b[39m\u001b[38;5;124mflat_type\u001b[39m\u001b[38;5;124m'\u001b[39m], ax\u001b[38;5;241m=\u001b[39maxs[\u001b[38;5;241m1\u001b[39m])\n",
      "File \u001b[0;32m~/opt/anaconda3/envs/data_engi/lib/python3.9/site-packages/matplotlib/pyplot.py:2742\u001b[0m, in \u001b[0;36mbar\u001b[0;34m(x, height, width, bottom, align, data, **kwargs)\u001b[0m\n\u001b[1;32m   2731\u001b[0m \u001b[38;5;129m@_copy_docstring_and_deprecators\u001b[39m(Axes\u001b[38;5;241m.\u001b[39mbar)\n\u001b[1;32m   2732\u001b[0m \u001b[38;5;28;01mdef\u001b[39;00m \u001b[38;5;21mbar\u001b[39m(\n\u001b[1;32m   2733\u001b[0m     x: \u001b[38;5;28mfloat\u001b[39m \u001b[38;5;241m|\u001b[39m ArrayLike,\n\u001b[0;32m   (...)\u001b[0m\n\u001b[1;32m   2740\u001b[0m     \u001b[38;5;241m*\u001b[39m\u001b[38;5;241m*\u001b[39mkwargs,\n\u001b[1;32m   2741\u001b[0m ) \u001b[38;5;241m-\u001b[39m\u001b[38;5;241m>\u001b[39m BarContainer:\n\u001b[0;32m-> 2742\u001b[0m     \u001b[38;5;28;01mreturn\u001b[39;00m \u001b[43mgca\u001b[49m\u001b[43m(\u001b[49m\u001b[43m)\u001b[49m\u001b[38;5;241;43m.\u001b[39;49m\u001b[43mbar\u001b[49m\u001b[43m(\u001b[49m\n\u001b[1;32m   2743\u001b[0m \u001b[43m        \u001b[49m\u001b[43mx\u001b[49m\u001b[43m,\u001b[49m\n\u001b[1;32m   2744\u001b[0m \u001b[43m        \u001b[49m\u001b[43mheight\u001b[49m\u001b[43m,\u001b[49m\n\u001b[1;32m   2745\u001b[0m \u001b[43m        \u001b[49m\u001b[43mwidth\u001b[49m\u001b[38;5;241;43m=\u001b[39;49m\u001b[43mwidth\u001b[49m\u001b[43m,\u001b[49m\n\u001b[1;32m   2746\u001b[0m \u001b[43m        \u001b[49m\u001b[43mbottom\u001b[49m\u001b[38;5;241;43m=\u001b[39;49m\u001b[43mbottom\u001b[49m\u001b[43m,\u001b[49m\n\u001b[1;32m   2747\u001b[0m \u001b[43m        \u001b[49m\u001b[43malign\u001b[49m\u001b[38;5;241;43m=\u001b[39;49m\u001b[43malign\u001b[49m\u001b[43m,\u001b[49m\n\u001b[1;32m   2748\u001b[0m \u001b[43m        \u001b[49m\u001b[38;5;241;43m*\u001b[39;49m\u001b[38;5;241;43m*\u001b[39;49m\u001b[43m(\u001b[49m\u001b[43m{\u001b[49m\u001b[38;5;124;43m\"\u001b[39;49m\u001b[38;5;124;43mdata\u001b[39;49m\u001b[38;5;124;43m\"\u001b[39;49m\u001b[43m:\u001b[49m\u001b[43m \u001b[49m\u001b[43mdata\u001b[49m\u001b[43m}\u001b[49m\u001b[43m \u001b[49m\u001b[38;5;28;43;01mif\u001b[39;49;00m\u001b[43m \u001b[49m\u001b[43mdata\u001b[49m\u001b[43m \u001b[49m\u001b[38;5;129;43;01mis\u001b[39;49;00m\u001b[43m \u001b[49m\u001b[38;5;129;43;01mnot\u001b[39;49;00m\u001b[43m \u001b[49m\u001b[38;5;28;43;01mNone\u001b[39;49;00m\u001b[43m \u001b[49m\u001b[38;5;28;43;01melse\u001b[39;49;00m\u001b[43m \u001b[49m\u001b[43m{\u001b[49m\u001b[43m}\u001b[49m\u001b[43m)\u001b[49m\u001b[43m,\u001b[49m\n\u001b[1;32m   2749\u001b[0m \u001b[43m        \u001b[49m\u001b[38;5;241;43m*\u001b[39;49m\u001b[38;5;241;43m*\u001b[39;49m\u001b[43mkwargs\u001b[49m\u001b[43m,\u001b[49m\n\u001b[1;32m   2750\u001b[0m \u001b[43m    \u001b[49m\u001b[43m)\u001b[49m\n",
      "\u001b[0;31mTypeError\u001b[0m: inner() got multiple values for argument 'ax'"
     ]
    },
    {
     "data": {
      "image/png": "[encoded data removed]",
      "text/plain": [
       "<Figure size 1500x300 with 3 Axes>"
      ]
     },
     "metadata": {},
     "output_type": "display_data"
    }
   ],
   "source": [
    "# generate 3 plots using subplots\n",
    "fig, axs = plt.subplots(1, 3, figsize=(15, 3))\n",
    "# count plot for flat_model\n",
    "plt.bar(df_cat['flat_model'].unique(), df_cat['flat_model'].value_counts(), ax=axs[0])\n",
    "\n",
    "# count plot for flat_type\n",
    "sns.countplot(df_cat['flat_type'], ax=axs[1])\n",
    "axs[1].set_title('Flat Type Count')\n",
    "axs[1].set_xticklabels(axs[1].get_xticklabels(), rotation=45, horizontalalignment='right')\n",
    "\n",
    "# count plot for storey_range\n",
    "sns.countplot(df_cat['town'], ax=axs[2])\n",
    "axs[2].set_title('Storey Range Count')\n",
    "axs[2].set_xticklabels(axs[2].get_xticklabels(), rotation=45, horizontalalignment='right')\n",
    "\n",
    "plt.show()"
   ]
  },
  {
   "cell_type": "code",
   "execution_count": 33,
   "metadata": {},
   "outputs": [
    {
     "ename": "ValueError",
     "evalue": "could not convert string to float: 'ANG MO KIO'",
     "output_type": "error",
     "traceback": [
      "\u001b[0;31m---------------------------------------------------------------------------\u001b[0m",
      "\u001b[0;31mValueError\u001b[0m                                Traceback (most recent call last)",
      "Cell \u001b[0;32mIn[33], line 3\u001b[0m\n\u001b[1;32m      1\u001b[0m \u001b[38;5;66;03m# barplot to count the number of flats in each town\u001b[39;00m\n\u001b[1;32m      2\u001b[0m plt\u001b[38;5;241m.\u001b[39mfigure(figsize\u001b[38;5;241m=\u001b[39m(\u001b[38;5;241m15\u001b[39m, \u001b[38;5;241m5\u001b[39m))\n\u001b[0;32m----> 3\u001b[0m \u001b[43msns\u001b[49m\u001b[38;5;241;43m.\u001b[39;49m\u001b[43mcountplot\u001b[49m\u001b[43m(\u001b[49m\u001b[43mdf_cat\u001b[49m\u001b[43m[\u001b[49m\u001b[38;5;124;43m'\u001b[39;49m\u001b[38;5;124;43mtown\u001b[39;49m\u001b[38;5;124;43m'\u001b[39;49m\u001b[43m]\u001b[49m\u001b[43m)\u001b[49m\n\u001b[1;32m      4\u001b[0m plt\u001b[38;5;241m.\u001b[39mtitle(\u001b[38;5;124m'\u001b[39m\u001b[38;5;124mCount of Flats in each Town\u001b[39m\u001b[38;5;124m'\u001b[39m)\n",
      "File \u001b[0;32m~/opt/anaconda3/envs/data_engi/lib/python3.9/site-packages/seaborn/categorical.py:2943\u001b[0m, in \u001b[0;36mcountplot\u001b[0;34m(data, x, y, hue, order, hue_order, orient, color, palette, saturation, width, dodge, ax, **kwargs)\u001b[0m\n\u001b[1;32m   2940\u001b[0m \u001b[38;5;28;01melif\u001b[39;00m x \u001b[38;5;129;01mis\u001b[39;00m \u001b[38;5;129;01mnot\u001b[39;00m \u001b[38;5;28;01mNone\u001b[39;00m \u001b[38;5;129;01mand\u001b[39;00m y \u001b[38;5;129;01mis\u001b[39;00m \u001b[38;5;129;01mnot\u001b[39;00m \u001b[38;5;28;01mNone\u001b[39;00m:\n\u001b[1;32m   2941\u001b[0m     \u001b[38;5;28;01mraise\u001b[39;00m \u001b[38;5;167;01mValueError\u001b[39;00m(\u001b[38;5;124m\"\u001b[39m\u001b[38;5;124mCannot pass values for both `x` and `y`\u001b[39m\u001b[38;5;124m\"\u001b[39m)\n\u001b[0;32m-> 2943\u001b[0m plotter \u001b[38;5;241m=\u001b[39m \u001b[43m_CountPlotter\u001b[49m\u001b[43m(\u001b[49m\n\u001b[1;32m   2944\u001b[0m \u001b[43m    \u001b[49m\u001b[43mx\u001b[49m\u001b[43m,\u001b[49m\u001b[43m \u001b[49m\u001b[43my\u001b[49m\u001b[43m,\u001b[49m\u001b[43m \u001b[49m\u001b[43mhue\u001b[49m\u001b[43m,\u001b[49m\u001b[43m \u001b[49m\u001b[43mdata\u001b[49m\u001b[43m,\u001b[49m\u001b[43m \u001b[49m\u001b[43morder\u001b[49m\u001b[43m,\u001b[49m\u001b[43m \u001b[49m\u001b[43mhue_order\u001b[49m\u001b[43m,\u001b[49m\n\u001b[1;32m   2945\u001b[0m \u001b[43m    \u001b[49m\u001b[43mestimator\u001b[49m\u001b[43m,\u001b[49m\u001b[43m \u001b[49m\u001b[43merrorbar\u001b[49m\u001b[43m,\u001b[49m\u001b[43m \u001b[49m\u001b[43mn_boot\u001b[49m\u001b[43m,\u001b[49m\u001b[43m \u001b[49m\u001b[43munits\u001b[49m\u001b[43m,\u001b[49m\u001b[43m \u001b[49m\u001b[43mseed\u001b[49m\u001b[43m,\u001b[49m\n\u001b[1;32m   2946\u001b[0m \u001b[43m    \u001b[49m\u001b[43morient\u001b[49m\u001b[43m,\u001b[49m\u001b[43m \u001b[49m\u001b[43mcolor\u001b[49m\u001b[43m,\u001b[49m\u001b[43m \u001b[49m\u001b[43mpalette\u001b[49m\u001b[43m,\u001b[49m\u001b[43m \u001b[49m\u001b[43msaturation\u001b[49m\u001b[43m,\u001b[49m\n\u001b[1;32m   2947\u001b[0m \u001b[43m    \u001b[49m\u001b[43mwidth\u001b[49m\u001b[43m,\u001b[49m\u001b[43m \u001b[49m\u001b[43merrcolor\u001b[49m\u001b[43m,\u001b[49m\u001b[43m \u001b[49m\u001b[43merrwidth\u001b[49m\u001b[43m,\u001b[49m\u001b[43m \u001b[49m\u001b[43mcapsize\u001b[49m\u001b[43m,\u001b[49m\u001b[43m \u001b[49m\u001b[43mdodge\u001b[49m\n\u001b[1;32m   2948\u001b[0m \u001b[43m\u001b[49m\u001b[43m)\u001b[49m\n\u001b[1;32m   2950\u001b[0m plotter\u001b[38;5;241m.\u001b[39mvalue_label \u001b[38;5;241m=\u001b[39m \u001b[38;5;124m\"\u001b[39m\u001b[38;5;124mcount\u001b[39m\u001b[38;5;124m\"\u001b[39m\n\u001b[1;32m   2952\u001b[0m \u001b[38;5;28;01mif\u001b[39;00m ax \u001b[38;5;129;01mis\u001b[39;00m \u001b[38;5;28;01mNone\u001b[39;00m:\n",
      "File \u001b[0;32m~/opt/anaconda3/envs/data_engi/lib/python3.9/site-packages/seaborn/categorical.py:1530\u001b[0m, in \u001b[0;36m_BarPlotter.__init__\u001b[0;34m(self, x, y, hue, data, order, hue_order, estimator, errorbar, n_boot, units, seed, orient, color, palette, saturation, width, errcolor, errwidth, capsize, dodge)\u001b[0m\n\u001b[1;32m   1525\u001b[0m \u001b[38;5;28;01mdef\u001b[39;00m \u001b[38;5;21m__init__\u001b[39m(\u001b[38;5;28mself\u001b[39m, x, y, hue, data, order, hue_order,\n\u001b[1;32m   1526\u001b[0m              estimator, errorbar, n_boot, units, seed,\n\u001b[1;32m   1527\u001b[0m              orient, color, palette, saturation, width,\n\u001b[1;32m   1528\u001b[0m              errcolor, errwidth, capsize, dodge):\n\u001b[1;32m   1529\u001b[0m \u001b[38;5;250m    \u001b[39m\u001b[38;5;124;03m\"\"\"Initialize the plotter.\"\"\"\u001b[39;00m\n\u001b[0;32m-> 1530\u001b[0m     \u001b[38;5;28;43mself\u001b[39;49m\u001b[38;5;241;43m.\u001b[39;49m\u001b[43mestablish_variables\u001b[49m\u001b[43m(\u001b[49m\u001b[43mx\u001b[49m\u001b[43m,\u001b[49m\u001b[43m \u001b[49m\u001b[43my\u001b[49m\u001b[43m,\u001b[49m\u001b[43m \u001b[49m\u001b[43mhue\u001b[49m\u001b[43m,\u001b[49m\u001b[43m \u001b[49m\u001b[43mdata\u001b[49m\u001b[43m,\u001b[49m\u001b[43m \u001b[49m\u001b[43morient\u001b[49m\u001b[43m,\u001b[49m\n\u001b[1;32m   1531\u001b[0m \u001b[43m                             \u001b[49m\u001b[43morder\u001b[49m\u001b[43m,\u001b[49m\u001b[43m \u001b[49m\u001b[43mhue_order\u001b[49m\u001b[43m,\u001b[49m\u001b[43m \u001b[49m\u001b[43munits\u001b[49m\u001b[43m)\u001b[49m\n\u001b[1;32m   1532\u001b[0m     \u001b[38;5;28mself\u001b[39m\u001b[38;5;241m.\u001b[39mestablish_colors(color, palette, saturation)\n\u001b[1;32m   1533\u001b[0m     \u001b[38;5;28mself\u001b[39m\u001b[38;5;241m.\u001b[39mestimate_statistic(estimator, errorbar, n_boot, seed)\n",
      "File \u001b[0;32m~/opt/anaconda3/envs/data_engi/lib/python3.9/site-packages/seaborn/categorical.py:516\u001b[0m, in \u001b[0;36m_CategoricalPlotter.establish_variables\u001b[0;34m(self, x, y, hue, data, orient, order, hue_order, units)\u001b[0m\n\u001b[1;32m    513\u001b[0m     plot_data \u001b[38;5;241m=\u001b[39m data\n\u001b[1;32m    515\u001b[0m \u001b[38;5;66;03m# Convert to a list of arrays, the common representation\u001b[39;00m\n\u001b[0;32m--> 516\u001b[0m plot_data \u001b[38;5;241m=\u001b[39m [np\u001b[38;5;241m.\u001b[39masarray(d, \u001b[38;5;28mfloat\u001b[39m) \u001b[38;5;28;01mfor\u001b[39;00m d \u001b[38;5;129;01min\u001b[39;00m plot_data]\n\u001b[1;32m    518\u001b[0m \u001b[38;5;66;03m# The group names will just be numeric indices\u001b[39;00m\n\u001b[1;32m    519\u001b[0m group_names \u001b[38;5;241m=\u001b[39m \u001b[38;5;28mlist\u001b[39m(\u001b[38;5;28mrange\u001b[39m(\u001b[38;5;28mlen\u001b[39m(plot_data)))\n",
      "File \u001b[0;32m~/opt/anaconda3/envs/data_engi/lib/python3.9/site-packages/seaborn/categorical.py:516\u001b[0m, in \u001b[0;36m<listcomp>\u001b[0;34m(.0)\u001b[0m\n\u001b[1;32m    513\u001b[0m     plot_data \u001b[38;5;241m=\u001b[39m data\n\u001b[1;32m    515\u001b[0m \u001b[38;5;66;03m# Convert to a list of arrays, the common representation\u001b[39;00m\n\u001b[0;32m--> 516\u001b[0m plot_data \u001b[38;5;241m=\u001b[39m [\u001b[43mnp\u001b[49m\u001b[38;5;241;43m.\u001b[39;49m\u001b[43masarray\u001b[49m\u001b[43m(\u001b[49m\u001b[43md\u001b[49m\u001b[43m,\u001b[49m\u001b[43m \u001b[49m\u001b[38;5;28;43mfloat\u001b[39;49m\u001b[43m)\u001b[49m \u001b[38;5;28;01mfor\u001b[39;00m d \u001b[38;5;129;01min\u001b[39;00m plot_data]\n\u001b[1;32m    518\u001b[0m \u001b[38;5;66;03m# The group names will just be numeric indices\u001b[39;00m\n\u001b[1;32m    519\u001b[0m group_names \u001b[38;5;241m=\u001b[39m \u001b[38;5;28mlist\u001b[39m(\u001b[38;5;28mrange\u001b[39m(\u001b[38;5;28mlen\u001b[39m(plot_data)))\n",
      "File \u001b[0;32m~/opt/anaconda3/envs/data_engi/lib/python3.9/site-packages/pandas/core/series.py:953\u001b[0m, in \u001b[0;36mSeries.__array__\u001b[0;34m(self, dtype)\u001b[0m\n\u001b[1;32m    906\u001b[0m \u001b[38;5;250m\u001b[39m\u001b[38;5;124;03m\"\"\"\u001b[39;00m\n\u001b[1;32m    907\u001b[0m \u001b[38;5;124;03mReturn the values as a NumPy array.\u001b[39;00m\n\u001b[1;32m    908\u001b[0m \n\u001b[0;32m   (...)\u001b[0m\n\u001b[1;32m    950\u001b[0m \u001b[38;5;124;03m      dtype='datetime64[ns]')\u001b[39;00m\n\u001b[1;32m    951\u001b[0m \u001b[38;5;124;03m\"\"\"\u001b[39;00m\n\u001b[1;32m    952\u001b[0m values \u001b[38;5;241m=\u001b[39m \u001b[38;5;28mself\u001b[39m\u001b[38;5;241m.\u001b[39m_values\n\u001b[0;32m--> 953\u001b[0m arr \u001b[38;5;241m=\u001b[39m \u001b[43mnp\u001b[49m\u001b[38;5;241;43m.\u001b[39;49m\u001b[43masarray\u001b[49m\u001b[43m(\u001b[49m\u001b[43mvalues\u001b[49m\u001b[43m,\u001b[49m\u001b[43m \u001b[49m\u001b[43mdtype\u001b[49m\u001b[38;5;241;43m=\u001b[39;49m\u001b[43mdtype\u001b[49m\u001b[43m)\u001b[49m\n\u001b[1;32m    954\u001b[0m \u001b[38;5;28;01mif\u001b[39;00m using_copy_on_write() \u001b[38;5;129;01mand\u001b[39;00m astype_is_view(values\u001b[38;5;241m.\u001b[39mdtype, arr\u001b[38;5;241m.\u001b[39mdtype):\n\u001b[1;32m    955\u001b[0m     arr \u001b[38;5;241m=\u001b[39m arr\u001b[38;5;241m.\u001b[39mview()\n",
      "\u001b[0;31mValueError\u001b[0m: could not convert string to float: 'ANG MO KIO'"
     ]
    },
    {
     "data": {
      "text/plain": [
       "<Figure size 1500x500 with 0 Axes>"
      ]
     },
     "metadata": {},
     "output_type": "display_data"
    }
   ],
   "source": []
  },
  {
   "cell_type": "code",
   "execution_count": null,
   "metadata": {},
   "outputs": [],
   "source": []
  }
 ],
 "metadata": {
  "kernelspec": {
   "display_name": "pred_analytics",
   "language": "python",
   "name": "python3"
  },
  "language_info": {
   "codemirror_mode": {
    "name": "ipython",
    "version": 3
   },
   "file_extension": ".py",
   "mimetype": "text/x-python",
   "name": "python",
   "nbconvert_exporter": "python",
   "pygments_lexer": "ipython3",
   "version": "3.9.18"
  }
 },
 "nbformat": 4,
 "nbformat_minor": 2
}
