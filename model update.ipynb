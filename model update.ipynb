{
 "cells": [
  {
   "cell_type": "code",
   "execution_count": null,
   "metadata": {},
   "outputs": [],
   "source": [
    "import pandas as pd\n",
    "import numpy as np\n",
    "import pickle\n",
    "\n",
    "from sklearn.neighbors import KNeighborsRegressor\n",
    "from sklearn.linear_model import LinearRegression"
   ]
  },
  {
   "cell_type": "code",
   "execution_count": 2,
   "metadata": {},
   "outputs": [],
   "source": [
    "df1 = pd.read_csv('train.csv')"
   ]
  },
  {
   "cell_type": "code",
   "execution_count": null,
   "metadata": {},
   "outputs": [],
   "source": []
  },
  {
   "cell_type": "markdown",
   "metadata": {},
   "source": [
    "### data prep"
   ]
  },
  {
   "cell_type": "code",
   "execution_count": 10,
   "metadata": {},
   "outputs": [],
   "source": [
    "def update_model(data):\n",
    "    columns_of_interest = ['avg_storey_range', 'floor_area_sqm', 'normalized_resale_price',\n",
    "       'total_dwelling_units', 'vacancy', 'commercial', 'mrt_interchange',\n",
    "       'flat_model', 'town', 'age_of_flat']\n",
    "    \n",
    "    filtered_features = ['floor_area_sqm', 'avg_storey_range', 'total_dwelling_units',\n",
    "       'commercial', 'age_of_flat', 'flat_model_model a',\n",
    "       'flat_model_new generation', 'flat_model_other',\n",
    "       'flat_model_premium apartment', 'town_jurong west', 'town_other',\n",
    "       'town_punggol', 'town_sengkang', 'town_tampines', 'town_woodlands',\n",
    "       'town_yishun']\n",
    "    data = data[columns_of_interest]\n",
    "    df_ohe = pd.get_dummies(data, drop_first=True)\n",
    "    X = df_ohe[filtered_features]\n",
    "    y = df_ohe['normalized_resale_price']\n",
    "    lr = LinearRegression()\n",
    "    lr.fit(X, y)\n",
    "    knn = KNeighborsRegressor(n_neighbors=8, weights='distance')\n",
    "    knn.fit(X, y)\n",
    "    # save models as pkl\n",
    "    with open('linear_model.pkl', 'wb') as f:\n",
    "        pickle.dump(lr, f)\n",
    "    with open('knn_model.pkl', 'wb') as f:\n",
    "        pickle.dump(knn, f)\n",
    "    \n",
    "\n",
    "\n"
   ]
  },
  {
   "cell_type": "code",
   "execution_count": 12,
   "metadata": {},
   "outputs": [],
   "source": [
    "update_model(all_data)"
   ]
  },
  {
   "cell_type": "code",
   "execution_count": null,
   "metadata": {},
   "outputs": [],
   "source": []
  }
 ],
 "metadata": {
  "kernelspec": {
   "display_name": "pred_analytics",
   "language": "python",
   "name": "python3"
  },
  "language_info": {
   "codemirror_mode": {
    "name": "ipython",
    "version": 3
   },
   "file_extension": ".py",
   "mimetype": "text/x-python",
   "name": "python",
   "nbconvert_exporter": "python",
   "pygments_lexer": "ipython3",
   "version": "3.9.16"
  }
 },
 "nbformat": 4,
 "nbformat_minor": 2
}
