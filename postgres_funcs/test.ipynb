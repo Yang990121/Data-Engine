{
 "cells": [
  {
   "cell_type": "code",
   "execution_count": 4,
   "id": "initial_id",
   "metadata": {
    "collapsed": true,
    "ExecuteTime": {
     "end_time": "2024-03-16T17:50:29.847820Z",
     "start_time": "2024-03-16T17:50:29.842532Z"
    }
   },
   "outputs": [],
   "source": [
    "import pandas as pd\n",
    "from postgres_loader import DatabaseManager"
   ]
  },
  {
   "cell_type": "code",
   "outputs": [
    {
     "data": {
      "text/plain": "  tranc_yearmonth             town  flat_type block       street_name  \\\n0      2016-05-01  KALLANG/WHAMPOA     4 ROOM    3B  UPP BOON KENG RD   \n1      2012-07-01           BISHAN     5 ROOM   153      BISHAN ST 13   \n2      2013-07-01      BUKIT BATOK  EXECUTIVE  289B    BT BATOK ST 25   \n3      2012-04-01           BISHAN     4 ROOM   232      BISHAN ST 22   \n4      2017-12-01           YISHUN     4 ROOM   876      YISHUN ST 81   \n\n  storey_range  floor_area_sqm  flat_model  lease_commence_date  resale_price  \\\n0     10 TO 12            90.0     Model A                 2006      680000.0   \n1     07 TO 09           130.0    Improved                 1987      665000.0   \n2     13 TO 15           144.0   Apartment                 1997      838000.0   \n3     01 TO 05           103.0     Model A                 1992      550000.0   \n4     01 TO 03            83.0  Simplified                 1987      298000.0   \n\n   ...  bus_stop_nearest_distance             bus_stop_name  \\\n0  ...                  29.427395                    Blk 3B   \n1  ...                  58.207761              BLK 151A MKT   \n2  ...                 214.747860                  Blk 289E   \n3  ...                  43.396521  Opp Bishan Nth Shop Mall   \n4  ...                 129.422752                   Blk 873   \n\n   pri_sch_nearest_distance                           pri_sch_name vacancy  \\\n0               1138.633422               Geylang Methodist School      78   \n1                415.607357  Kuo Chuan Presbyterian Primary School      45   \n2                498.849039                  Keming Primary School      39   \n3                389.515528                   Catholic High School      20   \n4                401.200584              Naval Base Primary School      74   \n\n   pri_sch_affiliation  sec_sch_nearest_dist  \\\n0                    1           1138.633422   \n1                    1            447.894399   \n2                    0            180.074558   \n3                    1            389.515528   \n4                    0            312.025435   \n\n                              sec_sch_name  cutoff_point  affiliation  \n0                 Geylang Methodist School           224            0  \n1  Kuo Chuan Presbyterian Secondary School           232            0  \n2             Yusof Ishak Secondary School           188            0  \n3                     Catholic High School           253            1  \n4             Orchid Park Secondary School           208            0  \n\n[5 rows x 41 columns]",
      "text/html": "<div>\n<style scoped>\n    .dataframe tbody tr th:only-of-type {\n        vertical-align: middle;\n    }\n\n    .dataframe tbody tr th {\n        vertical-align: top;\n    }\n\n    .dataframe thead th {\n        text-align: right;\n    }\n</style>\n<table border=\"1\" class=\"dataframe\">\n  <thead>\n    <tr style=\"text-align: right;\">\n      <th></th>\n      <th>tranc_yearmonth</th>\n      <th>town</th>\n      <th>flat_type</th>\n      <th>block</th>\n      <th>street_name</th>\n      <th>storey_range</th>\n      <th>floor_area_sqm</th>\n      <th>flat_model</th>\n      <th>lease_commence_date</th>\n      <th>resale_price</th>\n      <th>...</th>\n      <th>bus_stop_nearest_distance</th>\n      <th>bus_stop_name</th>\n      <th>pri_sch_nearest_distance</th>\n      <th>pri_sch_name</th>\n      <th>vacancy</th>\n      <th>pri_sch_affiliation</th>\n      <th>sec_sch_nearest_dist</th>\n      <th>sec_sch_name</th>\n      <th>cutoff_point</th>\n      <th>affiliation</th>\n    </tr>\n  </thead>\n  <tbody>\n    <tr>\n      <th>0</th>\n      <td>2016-05-01</td>\n      <td>KALLANG/WHAMPOA</td>\n      <td>4 ROOM</td>\n      <td>3B</td>\n      <td>UPP BOON KENG RD</td>\n      <td>10 TO 12</td>\n      <td>90.0</td>\n      <td>Model A</td>\n      <td>2006</td>\n      <td>680000.0</td>\n      <td>...</td>\n      <td>29.427395</td>\n      <td>Blk 3B</td>\n      <td>1138.633422</td>\n      <td>Geylang Methodist School</td>\n      <td>78</td>\n      <td>1</td>\n      <td>1138.633422</td>\n      <td>Geylang Methodist School</td>\n      <td>224</td>\n      <td>0</td>\n    </tr>\n    <tr>\n      <th>1</th>\n      <td>2012-07-01</td>\n      <td>BISHAN</td>\n      <td>5 ROOM</td>\n      <td>153</td>\n      <td>BISHAN ST 13</td>\n      <td>07 TO 09</td>\n      <td>130.0</td>\n      <td>Improved</td>\n      <td>1987</td>\n      <td>665000.0</td>\n      <td>...</td>\n      <td>58.207761</td>\n      <td>BLK 151A MKT</td>\n      <td>415.607357</td>\n      <td>Kuo Chuan Presbyterian Primary School</td>\n      <td>45</td>\n      <td>1</td>\n      <td>447.894399</td>\n      <td>Kuo Chuan Presbyterian Secondary School</td>\n      <td>232</td>\n      <td>0</td>\n    </tr>\n    <tr>\n      <th>2</th>\n      <td>2013-07-01</td>\n      <td>BUKIT BATOK</td>\n      <td>EXECUTIVE</td>\n      <td>289B</td>\n      <td>BT BATOK ST 25</td>\n      <td>13 TO 15</td>\n      <td>144.0</td>\n      <td>Apartment</td>\n      <td>1997</td>\n      <td>838000.0</td>\n      <td>...</td>\n      <td>214.747860</td>\n      <td>Blk 289E</td>\n      <td>498.849039</td>\n      <td>Keming Primary School</td>\n      <td>39</td>\n      <td>0</td>\n      <td>180.074558</td>\n      <td>Yusof Ishak Secondary School</td>\n      <td>188</td>\n      <td>0</td>\n    </tr>\n    <tr>\n      <th>3</th>\n      <td>2012-04-01</td>\n      <td>BISHAN</td>\n      <td>4 ROOM</td>\n      <td>232</td>\n      <td>BISHAN ST 22</td>\n      <td>01 TO 05</td>\n      <td>103.0</td>\n      <td>Model A</td>\n      <td>1992</td>\n      <td>550000.0</td>\n      <td>...</td>\n      <td>43.396521</td>\n      <td>Opp Bishan Nth Shop Mall</td>\n      <td>389.515528</td>\n      <td>Catholic High School</td>\n      <td>20</td>\n      <td>1</td>\n      <td>389.515528</td>\n      <td>Catholic High School</td>\n      <td>253</td>\n      <td>1</td>\n    </tr>\n    <tr>\n      <th>4</th>\n      <td>2017-12-01</td>\n      <td>YISHUN</td>\n      <td>4 ROOM</td>\n      <td>876</td>\n      <td>YISHUN ST 81</td>\n      <td>01 TO 03</td>\n      <td>83.0</td>\n      <td>Simplified</td>\n      <td>1987</td>\n      <td>298000.0</td>\n      <td>...</td>\n      <td>129.422752</td>\n      <td>Blk 873</td>\n      <td>401.200584</td>\n      <td>Naval Base Primary School</td>\n      <td>74</td>\n      <td>0</td>\n      <td>312.025435</td>\n      <td>Orchid Park Secondary School</td>\n      <td>208</td>\n      <td>0</td>\n    </tr>\n  </tbody>\n</table>\n<p>5 rows × 41 columns</p>\n</div>"
     },
     "execution_count": 5,
     "metadata": {},
     "output_type": "execute_result"
    }
   ],
   "source": [
    "csv_file = '../01_Data_Collection/01A_External_Data/resale-flat-prices-full-version.csv'  \n",
    "df = pd.read_csv(csv_file)\n",
    "df.head() "
   ],
   "metadata": {
    "collapsed": false,
    "ExecuteTime": {
     "end_time": "2024-03-16T17:50:31.761490Z",
     "start_time": "2024-03-16T17:50:30.981468Z"
    }
   },
   "id": "2750548db2ff477a",
   "execution_count": 5
  },
  {
   "cell_type": "code",
   "outputs": [],
   "source": [
    "db_manager = DatabaseManager(database_name=\"is3107\")\n",
    "\n",
    "db_manager.create_table_from_df(df, table_name=\"housing_data\")\n",
    "db_manager.load_df_to_db(df, table_name=\"housing_data\")"
   ],
   "metadata": {
    "collapsed": false,
    "ExecuteTime": {
     "end_time": "2024-03-16T17:50:52.975131Z",
     "start_time": "2024-03-16T17:50:33.274949Z"
    }
   },
   "id": "6c8663e4cd3aae8e",
   "execution_count": 6
  },
  {
   "cell_type": "code",
   "outputs": [
    {
     "data": {
      "text/plain": "  tranc_yearmonth         town flat_type block        street_name  \\\n0      2013-02-01  BUKIT MERAH    3 ROOM   107       BT PURMEI RD   \n1      2020-03-01   ANG MO KIO    4 ROOM   449  ANG MO KIO AVE 10   \n2      2017-03-01    WOODLANDS    5 ROOM   673    WOODLANDS DR 71   \n3      2012-10-01       YISHUN    3 ROOM   779       YISHUN AVE 2   \n4      2019-02-01  JURONG WEST    5 ROOM  661C  JURONG WEST ST 64   \n\n  storey_range  floor_area_sqm      flat_model  lease_commence_date  \\\n0     04 TO 06            67.0  New Generation                 1983   \n1     01 TO 03            94.0  New Generation                 1979   \n2     07 TO 09           110.0        Improved                 2000   \n3     01 TO 03            64.0      Simplified                 1987   \n4     13 TO 15           110.0        Improved                 2001   \n\n   resale_price  ...  bus_stop_nearest_distance  bus_stop_name  \\\n0      390000.0  ...                  78.442836        Blk 105   \n1      295000.0  ...                 138.820260        Blk 452   \n2      438888.0  ...                 183.926577  Admiralty Stn   \n3      285000.0  ...                  87.732351        Blk 776   \n4      505000.0  ...                 129.755685       Blk 662D   \n\n   pri_sch_nearest_distance              pri_sch_name vacancy  \\\n0                210.019066  Radin Mas Primary School      33   \n1                630.978255  Teck Ghee Primary School      47   \n2                388.275385  Admiralty Primary School      53   \n3                621.106705    Peiying Primary School      57   \n4                599.976359   Frontier Primary School      34   \n\n   pri_sch_affiliation  sec_sch_nearest_dist                     sec_sch_name  \\\n0                    0            404.822970     CHIJ Saint Theresa's Convent   \n1                    0            460.506318            Deyi Secondary School   \n2                    0            345.540409  Woodlands Ring Secondary School   \n3                    0            405.808413      Naval Base Secondary School   \n4                    0            340.621470     Jurong West Secondary School   \n\n   cutoff_point  affiliation  \n0           235            0  \n1           215            0  \n2           211            0  \n3           195            0  \n4           199            0  \n\n[5 rows x 41 columns]",
      "text/html": "<div>\n<style scoped>\n    .dataframe tbody tr th:only-of-type {\n        vertical-align: middle;\n    }\n\n    .dataframe tbody tr th {\n        vertical-align: top;\n    }\n\n    .dataframe thead th {\n        text-align: right;\n    }\n</style>\n<table border=\"1\" class=\"dataframe\">\n  <thead>\n    <tr style=\"text-align: right;\">\n      <th></th>\n      <th>tranc_yearmonth</th>\n      <th>town</th>\n      <th>flat_type</th>\n      <th>block</th>\n      <th>street_name</th>\n      <th>storey_range</th>\n      <th>floor_area_sqm</th>\n      <th>flat_model</th>\n      <th>lease_commence_date</th>\n      <th>resale_price</th>\n      <th>...</th>\n      <th>bus_stop_nearest_distance</th>\n      <th>bus_stop_name</th>\n      <th>pri_sch_nearest_distance</th>\n      <th>pri_sch_name</th>\n      <th>vacancy</th>\n      <th>pri_sch_affiliation</th>\n      <th>sec_sch_nearest_dist</th>\n      <th>sec_sch_name</th>\n      <th>cutoff_point</th>\n      <th>affiliation</th>\n    </tr>\n  </thead>\n  <tbody>\n    <tr>\n      <th>0</th>\n      <td>2013-02-01</td>\n      <td>BUKIT MERAH</td>\n      <td>3 ROOM</td>\n      <td>107</td>\n      <td>BT PURMEI RD</td>\n      <td>04 TO 06</td>\n      <td>67.0</td>\n      <td>New Generation</td>\n      <td>1983</td>\n      <td>390000.0</td>\n      <td>...</td>\n      <td>78.442836</td>\n      <td>Blk 105</td>\n      <td>210.019066</td>\n      <td>Radin Mas Primary School</td>\n      <td>33</td>\n      <td>0</td>\n      <td>404.822970</td>\n      <td>CHIJ Saint Theresa's Convent</td>\n      <td>235</td>\n      <td>0</td>\n    </tr>\n    <tr>\n      <th>1</th>\n      <td>2020-03-01</td>\n      <td>ANG MO KIO</td>\n      <td>4 ROOM</td>\n      <td>449</td>\n      <td>ANG MO KIO AVE 10</td>\n      <td>01 TO 03</td>\n      <td>94.0</td>\n      <td>New Generation</td>\n      <td>1979</td>\n      <td>295000.0</td>\n      <td>...</td>\n      <td>138.820260</td>\n      <td>Blk 452</td>\n      <td>630.978255</td>\n      <td>Teck Ghee Primary School</td>\n      <td>47</td>\n      <td>0</td>\n      <td>460.506318</td>\n      <td>Deyi Secondary School</td>\n      <td>215</td>\n      <td>0</td>\n    </tr>\n    <tr>\n      <th>2</th>\n      <td>2017-03-01</td>\n      <td>WOODLANDS</td>\n      <td>5 ROOM</td>\n      <td>673</td>\n      <td>WOODLANDS DR 71</td>\n      <td>07 TO 09</td>\n      <td>110.0</td>\n      <td>Improved</td>\n      <td>2000</td>\n      <td>438888.0</td>\n      <td>...</td>\n      <td>183.926577</td>\n      <td>Admiralty Stn</td>\n      <td>388.275385</td>\n      <td>Admiralty Primary School</td>\n      <td>53</td>\n      <td>0</td>\n      <td>345.540409</td>\n      <td>Woodlands Ring Secondary School</td>\n      <td>211</td>\n      <td>0</td>\n    </tr>\n    <tr>\n      <th>3</th>\n      <td>2012-10-01</td>\n      <td>YISHUN</td>\n      <td>3 ROOM</td>\n      <td>779</td>\n      <td>YISHUN AVE 2</td>\n      <td>01 TO 03</td>\n      <td>64.0</td>\n      <td>Simplified</td>\n      <td>1987</td>\n      <td>285000.0</td>\n      <td>...</td>\n      <td>87.732351</td>\n      <td>Blk 776</td>\n      <td>621.106705</td>\n      <td>Peiying Primary School</td>\n      <td>57</td>\n      <td>0</td>\n      <td>405.808413</td>\n      <td>Naval Base Secondary School</td>\n      <td>195</td>\n      <td>0</td>\n    </tr>\n    <tr>\n      <th>4</th>\n      <td>2019-02-01</td>\n      <td>JURONG WEST</td>\n      <td>5 ROOM</td>\n      <td>661C</td>\n      <td>JURONG WEST ST 64</td>\n      <td>13 TO 15</td>\n      <td>110.0</td>\n      <td>Improved</td>\n      <td>2001</td>\n      <td>505000.0</td>\n      <td>...</td>\n      <td>129.755685</td>\n      <td>Blk 662D</td>\n      <td>599.976359</td>\n      <td>Frontier Primary School</td>\n      <td>34</td>\n      <td>0</td>\n      <td>340.621470</td>\n      <td>Jurong West Secondary School</td>\n      <td>199</td>\n      <td>0</td>\n    </tr>\n  </tbody>\n</table>\n<p>5 rows × 41 columns</p>\n</div>"
     },
     "execution_count": 8,
     "metadata": {},
     "output_type": "execute_result"
    }
   ],
   "source": [
    "data = db_manager.read_table(table_name=\"housing_data\")\n",
    "data.head()"
   ],
   "metadata": {
    "collapsed": false,
    "ExecuteTime": {
     "end_time": "2024-03-16T17:51:19.794206Z",
     "start_time": "2024-03-16T17:51:17.093071Z"
    }
   },
   "id": "82b3f87c74171b60",
   "execution_count": 8
  }
 ],
 "metadata": {
  "kernelspec": {
   "display_name": "Python 3",
   "language": "python",
   "name": "python3"
  },
  "language_info": {
   "codemirror_mode": {
    "name": "ipython",
    "version": 2
   },
   "file_extension": ".py",
   "mimetype": "text/x-python",
   "name": "python",
   "nbconvert_exporter": "python",
   "pygments_lexer": "ipython2",
   "version": "2.7.6"
  }
 },
 "nbformat": 4,
 "nbformat_minor": 5
}
