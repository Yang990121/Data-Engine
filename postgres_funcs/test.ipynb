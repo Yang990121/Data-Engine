{
 "cells": [
  {
   "cell_type": "code",
   "execution_count": 1,
   "id": "initial_id",
   "metadata": {
    "collapsed": true,
    "ExecuteTime": {
     "end_time": "2024-03-17T07:24:44.161963Z",
     "start_time": "2024-03-17T07:24:43.437686Z"
    }
   },
   "outputs": [],
   "source": [
    "import pandas as pd\n",
    "from postgres_loader import DatabaseManager"
   ]
  },
  {
   "cell_type": "code",
   "outputs": [
    {
     "data": {
      "text/plain": "  tranc_yearmonth             town  flat_type block       street_name  \\\n0      2016-05-01  KALLANG/WHAMPOA     4 ROOM    3B  UPP BOON KENG RD   \n1      2012-07-01           BISHAN     5 ROOM   153      BISHAN ST 13   \n2      2013-07-01      BUKIT BATOK  EXECUTIVE  289B    BT BATOK ST 25   \n3      2012-04-01           BISHAN     4 ROOM   232      BISHAN ST 22   \n4      2017-12-01           YISHUN     4 ROOM   876      YISHUN ST 81   \n\n  storey_range  floor_area_sqm  flat_model  lease_commence_date  resale_price  \\\n0     10 TO 12            90.0     Model A                 2006      680000.0   \n1     07 TO 09           130.0    Improved                 1987      665000.0   \n2     13 TO 15           144.0   Apartment                 1997      838000.0   \n3     01 TO 05           103.0     Model A                 1992      550000.0   \n4     01 TO 03            83.0  Simplified                 1987      298000.0   \n\n   ...  bus_stop_nearest_distance             bus_stop_name  \\\n0  ...                  29.427395                    Blk 3B   \n1  ...                  58.207761              BLK 151A MKT   \n2  ...                 214.747860                  Blk 289E   \n3  ...                  43.396521  Opp Bishan Nth Shop Mall   \n4  ...                 129.422752                   Blk 873   \n\n   pri_sch_nearest_distance                           pri_sch_name vacancy  \\\n0               1138.633422               Geylang Methodist School      78   \n1                415.607357  Kuo Chuan Presbyterian Primary School      45   \n2                498.849039                  Keming Primary School      39   \n3                389.515528                   Catholic High School      20   \n4                401.200584              Naval Base Primary School      74   \n\n   pri_sch_affiliation  sec_sch_nearest_dist  \\\n0                    1           1138.633422   \n1                    1            447.894399   \n2                    0            180.074558   \n3                    1            389.515528   \n4                    0            312.025435   \n\n                              sec_sch_name  cutoff_point  affiliation  \n0                 Geylang Methodist School           224            0  \n1  Kuo Chuan Presbyterian Secondary School           232            0  \n2             Yusof Ishak Secondary School           188            0  \n3                     Catholic High School           253            1  \n4             Orchid Park Secondary School           208            0  \n\n[5 rows x 41 columns]",
      "text/html": "<div>\n<style scoped>\n    .dataframe tbody tr th:only-of-type {\n        vertical-align: middle;\n    }\n\n    .dataframe tbody tr th {\n        vertical-align: top;\n    }\n\n    .dataframe thead th {\n        text-align: right;\n    }\n</style>\n<table border=\"1\" class=\"dataframe\">\n  <thead>\n    <tr style=\"text-align: right;\">\n      <th></th>\n      <th>tranc_yearmonth</th>\n      <th>town</th>\n      <th>flat_type</th>\n      <th>block</th>\n      <th>street_name</th>\n      <th>storey_range</th>\n      <th>floor_area_sqm</th>\n      <th>flat_model</th>\n      <th>lease_commence_date</th>\n      <th>resale_price</th>\n      <th>...</th>\n      <th>bus_stop_nearest_distance</th>\n      <th>bus_stop_name</th>\n      <th>pri_sch_nearest_distance</th>\n      <th>pri_sch_name</th>\n      <th>vacancy</th>\n      <th>pri_sch_affiliation</th>\n      <th>sec_sch_nearest_dist</th>\n      <th>sec_sch_name</th>\n      <th>cutoff_point</th>\n      <th>affiliation</th>\n    </tr>\n  </thead>\n  <tbody>\n    <tr>\n      <th>0</th>\n      <td>2016-05-01</td>\n      <td>KALLANG/WHAMPOA</td>\n      <td>4 ROOM</td>\n      <td>3B</td>\n      <td>UPP BOON KENG RD</td>\n      <td>10 TO 12</td>\n      <td>90.0</td>\n      <td>Model A</td>\n      <td>2006</td>\n      <td>680000.0</td>\n      <td>...</td>\n      <td>29.427395</td>\n      <td>Blk 3B</td>\n      <td>1138.633422</td>\n      <td>Geylang Methodist School</td>\n      <td>78</td>\n      <td>1</td>\n      <td>1138.633422</td>\n      <td>Geylang Methodist School</td>\n      <td>224</td>\n      <td>0</td>\n    </tr>\n    <tr>\n      <th>1</th>\n      <td>2012-07-01</td>\n      <td>BISHAN</td>\n      <td>5 ROOM</td>\n      <td>153</td>\n      <td>BISHAN ST 13</td>\n      <td>07 TO 09</td>\n      <td>130.0</td>\n      <td>Improved</td>\n      <td>1987</td>\n      <td>665000.0</td>\n      <td>...</td>\n      <td>58.207761</td>\n      <td>BLK 151A MKT</td>\n      <td>415.607357</td>\n      <td>Kuo Chuan Presbyterian Primary School</td>\n      <td>45</td>\n      <td>1</td>\n      <td>447.894399</td>\n      <td>Kuo Chuan Presbyterian Secondary School</td>\n      <td>232</td>\n      <td>0</td>\n    </tr>\n    <tr>\n      <th>2</th>\n      <td>2013-07-01</td>\n      <td>BUKIT BATOK</td>\n      <td>EXECUTIVE</td>\n      <td>289B</td>\n      <td>BT BATOK ST 25</td>\n      <td>13 TO 15</td>\n      <td>144.0</td>\n      <td>Apartment</td>\n      <td>1997</td>\n      <td>838000.0</td>\n      <td>...</td>\n      <td>214.747860</td>\n      <td>Blk 289E</td>\n      <td>498.849039</td>\n      <td>Keming Primary School</td>\n      <td>39</td>\n      <td>0</td>\n      <td>180.074558</td>\n      <td>Yusof Ishak Secondary School</td>\n      <td>188</td>\n      <td>0</td>\n    </tr>\n    <tr>\n      <th>3</th>\n      <td>2012-04-01</td>\n      <td>BISHAN</td>\n      <td>4 ROOM</td>\n      <td>232</td>\n      <td>BISHAN ST 22</td>\n      <td>01 TO 05</td>\n      <td>103.0</td>\n      <td>Model A</td>\n      <td>1992</td>\n      <td>550000.0</td>\n      <td>...</td>\n      <td>43.396521</td>\n      <td>Opp Bishan Nth Shop Mall</td>\n      <td>389.515528</td>\n      <td>Catholic High School</td>\n      <td>20</td>\n      <td>1</td>\n      <td>389.515528</td>\n      <td>Catholic High School</td>\n      <td>253</td>\n      <td>1</td>\n    </tr>\n    <tr>\n      <th>4</th>\n      <td>2017-12-01</td>\n      <td>YISHUN</td>\n      <td>4 ROOM</td>\n      <td>876</td>\n      <td>YISHUN ST 81</td>\n      <td>01 TO 03</td>\n      <td>83.0</td>\n      <td>Simplified</td>\n      <td>1987</td>\n      <td>298000.0</td>\n      <td>...</td>\n      <td>129.422752</td>\n      <td>Blk 873</td>\n      <td>401.200584</td>\n      <td>Naval Base Primary School</td>\n      <td>74</td>\n      <td>0</td>\n      <td>312.025435</td>\n      <td>Orchid Park Secondary School</td>\n      <td>208</td>\n      <td>0</td>\n    </tr>\n  </tbody>\n</table>\n<p>5 rows × 41 columns</p>\n</div>"
     },
     "execution_count": 5,
     "metadata": {},
     "output_type": "execute_result"
    }
   ],
   "source": [
    "csv_file = '../01_Data_Collection/01A_External_Data/resale-flat-prices-full-version.csv'  \n",
    "df = pd.read_csv(csv_file)\n",
    "df.head() "
   ],
   "metadata": {
    "collapsed": false,
    "ExecuteTime": {
     "end_time": "2024-03-16T17:50:31.761490Z",
     "start_time": "2024-03-16T17:50:30.981468Z"
    }
   },
   "id": "2750548db2ff477a",
   "execution_count": 5
  },
  {
   "cell_type": "code",
   "outputs": [],
   "source": [
    "db_manager = DatabaseManager(database_name=\"is3107\")\n",
    "\n",
    "# db_manager.create_table_from_df(df, table_name=\"housing_data\")\n",
    "# db_manager.load_df_to_db(df, table_name=\"housing_data\")"
   ],
   "metadata": {
    "collapsed": false,
    "ExecuteTime": {
     "end_time": "2024-03-17T07:25:28.711679Z",
     "start_time": "2024-03-17T07:25:28.673322Z"
    }
   },
   "id": "6c8663e4cd3aae8e",
   "execution_count": 5
  },
  {
   "cell_type": "code",
   "outputs": [
    {
     "data": {
      "text/plain": "  tranc_yearmonth         town flat_type block        street_name  \\\n0      2019-11-01   ANG MO KIO    5 ROOM   618   ANG MO KIO AVE 4   \n1      2016-11-01      HOUGANG    4 ROOM   242      HOUGANG ST 22   \n2      2020-12-01  JURONG WEST    4 ROOM   476  JURONG WEST ST 41   \n3      2020-09-01      PUNGGOL    5 ROOM  308A       PUNGGOL WALK   \n4      2019-03-01        BEDOK    5 ROOM   156    BEDOK STH AVE 3   \n\n  storey_range  floor_area_sqm         flat_model  lease_commence_date  \\\n0     10 TO 12           138.0            Model A                 1996   \n1     01 TO 03            95.0     New Generation                 1984   \n2     10 TO 12           103.0            Model A                 1984   \n3     13 TO 15           112.0  Premium Apartment                 2016   \n4     01 TO 03           122.0           Improved                 1985   \n\n   resale_price  ...  bus_stop_nearest_distance  bus_stop_name  \\\n0      775000.0  ...                  99.745156        Blk 617   \n1      328000.0  ...                  79.134483    Opp Blk 241   \n2      407000.0  ...                 120.573696  Yuhua Sec Sch   \n3      705000.0  ...                 223.785292    Bef Blk 264   \n4      490000.0  ...                  84.102343    Opp Blk 156   \n\n   pri_sch_nearest_distance              pri_sch_name vacancy  \\\n0                552.283469  Mayflower Primary School      63   \n1                227.212229    Xinghua Primary School      63   \n2                292.398155     Shuqun Primary School      29   \n3                242.559994     Valour Primary School     110   \n4                 67.701128    Temasek Primary School      20   \n\n   pri_sch_affiliation  sec_sch_nearest_dist                   sec_sch_name  \\\n0                    0            375.380195  Yio Chu Kang Secondary School   \n1                    0            196.750638        Yuying Secondary School   \n2                    0            186.546788         Yuhua Secondary School   \n3                    0            853.411164     Edgefield Secondary School   \n4                    0            335.462410       Temasek Secondary School   \n\n   cutoff_point  affiliation  \n0           188            0  \n1           188            0  \n2           188            0  \n3           226            0  \n4           231            0  \n\n[5 rows x 41 columns]",
      "text/html": "<div>\n<style scoped>\n    .dataframe tbody tr th:only-of-type {\n        vertical-align: middle;\n    }\n\n    .dataframe tbody tr th {\n        vertical-align: top;\n    }\n\n    .dataframe thead th {\n        text-align: right;\n    }\n</style>\n<table border=\"1\" class=\"dataframe\">\n  <thead>\n    <tr style=\"text-align: right;\">\n      <th></th>\n      <th>tranc_yearmonth</th>\n      <th>town</th>\n      <th>flat_type</th>\n      <th>block</th>\n      <th>street_name</th>\n      <th>storey_range</th>\n      <th>floor_area_sqm</th>\n      <th>flat_model</th>\n      <th>lease_commence_date</th>\n      <th>resale_price</th>\n      <th>...</th>\n      <th>bus_stop_nearest_distance</th>\n      <th>bus_stop_name</th>\n      <th>pri_sch_nearest_distance</th>\n      <th>pri_sch_name</th>\n      <th>vacancy</th>\n      <th>pri_sch_affiliation</th>\n      <th>sec_sch_nearest_dist</th>\n      <th>sec_sch_name</th>\n      <th>cutoff_point</th>\n      <th>affiliation</th>\n    </tr>\n  </thead>\n  <tbody>\n    <tr>\n      <th>0</th>\n      <td>2019-11-01</td>\n      <td>ANG MO KIO</td>\n      <td>5 ROOM</td>\n      <td>618</td>\n      <td>ANG MO KIO AVE 4</td>\n      <td>10 TO 12</td>\n      <td>138.0</td>\n      <td>Model A</td>\n      <td>1996</td>\n      <td>775000.0</td>\n      <td>...</td>\n      <td>99.745156</td>\n      <td>Blk 617</td>\n      <td>552.283469</td>\n      <td>Mayflower Primary School</td>\n      <td>63</td>\n      <td>0</td>\n      <td>375.380195</td>\n      <td>Yio Chu Kang Secondary School</td>\n      <td>188</td>\n      <td>0</td>\n    </tr>\n    <tr>\n      <th>1</th>\n      <td>2016-11-01</td>\n      <td>HOUGANG</td>\n      <td>4 ROOM</td>\n      <td>242</td>\n      <td>HOUGANG ST 22</td>\n      <td>01 TO 03</td>\n      <td>95.0</td>\n      <td>New Generation</td>\n      <td>1984</td>\n      <td>328000.0</td>\n      <td>...</td>\n      <td>79.134483</td>\n      <td>Opp Blk 241</td>\n      <td>227.212229</td>\n      <td>Xinghua Primary School</td>\n      <td>63</td>\n      <td>0</td>\n      <td>196.750638</td>\n      <td>Yuying Secondary School</td>\n      <td>188</td>\n      <td>0</td>\n    </tr>\n    <tr>\n      <th>2</th>\n      <td>2020-12-01</td>\n      <td>JURONG WEST</td>\n      <td>4 ROOM</td>\n      <td>476</td>\n      <td>JURONG WEST ST 41</td>\n      <td>10 TO 12</td>\n      <td>103.0</td>\n      <td>Model A</td>\n      <td>1984</td>\n      <td>407000.0</td>\n      <td>...</td>\n      <td>120.573696</td>\n      <td>Yuhua Sec Sch</td>\n      <td>292.398155</td>\n      <td>Shuqun Primary School</td>\n      <td>29</td>\n      <td>0</td>\n      <td>186.546788</td>\n      <td>Yuhua Secondary School</td>\n      <td>188</td>\n      <td>0</td>\n    </tr>\n    <tr>\n      <th>3</th>\n      <td>2020-09-01</td>\n      <td>PUNGGOL</td>\n      <td>5 ROOM</td>\n      <td>308A</td>\n      <td>PUNGGOL WALK</td>\n      <td>13 TO 15</td>\n      <td>112.0</td>\n      <td>Premium Apartment</td>\n      <td>2016</td>\n      <td>705000.0</td>\n      <td>...</td>\n      <td>223.785292</td>\n      <td>Bef Blk 264</td>\n      <td>242.559994</td>\n      <td>Valour Primary School</td>\n      <td>110</td>\n      <td>0</td>\n      <td>853.411164</td>\n      <td>Edgefield Secondary School</td>\n      <td>226</td>\n      <td>0</td>\n    </tr>\n    <tr>\n      <th>4</th>\n      <td>2019-03-01</td>\n      <td>BEDOK</td>\n      <td>5 ROOM</td>\n      <td>156</td>\n      <td>BEDOK STH AVE 3</td>\n      <td>01 TO 03</td>\n      <td>122.0</td>\n      <td>Improved</td>\n      <td>1985</td>\n      <td>490000.0</td>\n      <td>...</td>\n      <td>84.102343</td>\n      <td>Opp Blk 156</td>\n      <td>67.701128</td>\n      <td>Temasek Primary School</td>\n      <td>20</td>\n      <td>0</td>\n      <td>335.462410</td>\n      <td>Temasek Secondary School</td>\n      <td>231</td>\n      <td>0</td>\n    </tr>\n  </tbody>\n</table>\n<p>5 rows × 41 columns</p>\n</div>"
     },
     "execution_count": 6,
     "metadata": {},
     "output_type": "execute_result"
    }
   ],
   "source": [
    "data = db_manager.read_table(table_name=\"housing_data\")\n",
    "data.head()"
   ],
   "metadata": {
    "collapsed": false,
    "ExecuteTime": {
     "end_time": "2024-03-17T07:25:33.481343Z",
     "start_time": "2024-03-17T07:25:30.627836Z"
    }
   },
   "id": "82b3f87c74171b60",
   "execution_count": 6
  }
 ],
 "metadata": {
  "kernelspec": {
   "display_name": "Python 3",
   "language": "python",
   "name": "python3"
  },
  "language_info": {
   "codemirror_mode": {
    "name": "ipython",
    "version": 2
   },
   "file_extension": ".py",
   "mimetype": "text/x-python",
   "name": "python",
   "nbconvert_exporter": "python",
   "pygments_lexer": "ipython2",
   "version": "2.7.6"
  }
 },
 "nbformat": 4,
 "nbformat_minor": 5
}
