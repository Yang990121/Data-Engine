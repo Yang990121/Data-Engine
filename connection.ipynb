{
 "cells": [
  {
   "cell_type": "code",
   "execution_count": 1,
   "id": "initial_id",
   "metadata": {
    "ExecuteTime": {
     "end_time": "2024-03-30T10:02:38.138415Z",
     "start_time": "2024-03-30T10:02:38.132636Z"
    },
    "collapsed": true
   },
   "outputs": [],
   "source": [
    "from google.cloud import bigquery\n",
    "from google.oauth2 import service_account\n",
    "import pandas as pd"
   ]
  },
  {
   "cell_type": "code",
   "execution_count": 2,
   "id": "918cbbc5fb69c05",
   "metadata": {
    "ExecuteTime": {
     "end_time": "2024-03-30T10:02:39.532681Z",
     "start_time": "2024-03-30T10:02:39.465558Z"
    },
    "collapsed": false
   },
   "outputs": [],
   "source": [
    "# CREDS = 'is3107-418808-5bca2b8d29d0.json'\n",
    "CREDS = 'is3107-418011-f63573e5e1f3.json'\n",
    "credentials = service_account.Credentials.from_service_account_file(CREDS)\n",
    "client = bigquery.Client(credentials=credentials)\n",
    "job_config = bigquery.QueryJobConfig()"
   ]
  },
  {
   "cell_type": "code",
   "execution_count": 3,
   "id": "90e0a8339705a875",
   "metadata": {
    "ExecuteTime": {
     "end_time": "2024-03-30T10:02:41.527566Z",
     "start_time": "2024-03-30T10:02:40.984926Z"
    },
    "collapsed": false
   },
   "outputs": [
    {
     "name": "stdout",
     "output_type": "stream",
     "text": [
      "[<google.cloud.bigquery.dataset.DatasetListItem object at 0x13517c9a0>]\n",
      "Address\n",
      "Property\n",
      "Surroundings\n",
      "Transaction\n",
      "resale_price\n",
      "testing\n",
      "testing2\n"
     ]
    }
   ],
   "source": [
    "dataset_id='is3107-418011.is3107'       \n",
    "print(list(client.list_datasets(credentials.project_id)))\n",
    "tables = client.list_tables(dataset_id)  \n",
    "for table in tables:\n",
    "    print(table.table_id)"
   ]
  },
  {
   "cell_type": "code",
   "execution_count": 7,
   "id": "13298a4e7bf5400",
   "metadata": {
    "ExecuteTime": {
     "end_time": "2024-03-30T10:04:27.100048Z",
     "start_time": "2024-03-30T10:04:21.582622Z"
    },
    "collapsed": false
   },
   "outputs": [
    {
     "name": "stderr",
     "output_type": "stream",
     "text": [
      "/var/folders/wx/4zj8vyds7kv6w4t2k82r4lcr0000gn/T/ipykernel_63345/621223118.py:1: DtypeWarning: Columns (3) have mixed types. Specify dtype option on import or set low_memory=False.\n",
      "  df = pd.read_csv('ETL/01_Data_Collection/01_dataset/processed_data/filtered_df3.csv')\n"
     ]
    },
    {
     "data": {
      "text/html": [
       "<div>\n",
       "<style scoped>\n",
       "    .dataframe tbody tr th:only-of-type {\n",
       "        vertical-align: middle;\n",
       "    }\n",
       "\n",
       "    .dataframe tbody tr th {\n",
       "        vertical-align: top;\n",
       "    }\n",
       "\n",
       "    .dataframe thead th {\n",
       "        text-align: right;\n",
       "    }\n",
       "</style>\n",
       "<table border=\"1\" class=\"dataframe\">\n",
       "  <thead>\n",
       "    <tr style=\"text-align: right;\">\n",
       "      <th></th>\n",
       "      <th>month</th>\n",
       "      <th>town</th>\n",
       "      <th>flat_type</th>\n",
       "      <th>block</th>\n",
       "      <th>street_name</th>\n",
       "      <th>storey_range</th>\n",
       "      <th>floor_area_sqm</th>\n",
       "      <th>flat_model</th>\n",
       "      <th>lease_commence_date</th>\n",
       "      <th>resale_price</th>\n",
       "      <th>...</th>\n",
       "      <th>school_type</th>\n",
       "      <th>bus_stop_proximity</th>\n",
       "      <th>mrt_proximity</th>\n",
       "      <th>pri_sch_proximity</th>\n",
       "      <th>sec_sch_proximity</th>\n",
       "      <th>latitude</th>\n",
       "      <th>longitude</th>\n",
       "      <th>inflation</th>\n",
       "      <th>normalized_resale_price</th>\n",
       "      <th>index</th>\n",
       "    </tr>\n",
       "  </thead>\n",
       "  <tbody>\n",
       "    <tr>\n",
       "      <th>0</th>\n",
       "      <td>2000-01</td>\n",
       "      <td>ANG MO KIO</td>\n",
       "      <td>3 ROOM</td>\n",
       "      <td>170</td>\n",
       "      <td>ANG MO KIO AVE 4</td>\n",
       "      <td>07 TO 09</td>\n",
       "      <td>69.0</td>\n",
       "      <td>Improved</td>\n",
       "      <td>1986</td>\n",
       "      <td>147000.0</td>\n",
       "      <td>...</td>\n",
       "      <td>elite</td>\n",
       "      <td>3-5 minutes</td>\n",
       "      <td>more than 15 minutes</td>\n",
       "      <td>3-5 minutes</td>\n",
       "      <td>3-5 minutes</td>\n",
       "      <td>1.374001</td>\n",
       "      <td>103.836432</td>\n",
       "      <td>1.322265</td>\n",
       "      <td>194372.998483</td>\n",
       "      <td>0</td>\n",
       "    </tr>\n",
       "    <tr>\n",
       "      <th>1</th>\n",
       "      <td>2000-02</td>\n",
       "      <td>ANG MO KIO</td>\n",
       "      <td>3 ROOM</td>\n",
       "      <td>170</td>\n",
       "      <td>ANG MO KIO AVE 4</td>\n",
       "      <td>07 TO 09</td>\n",
       "      <td>60.0</td>\n",
       "      <td>Improved</td>\n",
       "      <td>1986</td>\n",
       "      <td>130000.0</td>\n",
       "      <td>...</td>\n",
       "      <td>elite</td>\n",
       "      <td>3-5 minutes</td>\n",
       "      <td>more than 15 minutes</td>\n",
       "      <td>3-5 minutes</td>\n",
       "      <td>3-5 minutes</td>\n",
       "      <td>1.374001</td>\n",
       "      <td>103.836432</td>\n",
       "      <td>1.322265</td>\n",
       "      <td>171894.488454</td>\n",
       "      <td>1</td>\n",
       "    </tr>\n",
       "    <tr>\n",
       "      <th>2</th>\n",
       "      <td>2000-03</td>\n",
       "      <td>ANG MO KIO</td>\n",
       "      <td>2 ROOM</td>\n",
       "      <td>170</td>\n",
       "      <td>ANG MO KIO AVE 4</td>\n",
       "      <td>04 TO 06</td>\n",
       "      <td>45.0</td>\n",
       "      <td>Improved</td>\n",
       "      <td>1986</td>\n",
       "      <td>105000.0</td>\n",
       "      <td>...</td>\n",
       "      <td>elite</td>\n",
       "      <td>3-5 minutes</td>\n",
       "      <td>more than 15 minutes</td>\n",
       "      <td>3-5 minutes</td>\n",
       "      <td>3-5 minutes</td>\n",
       "      <td>1.374001</td>\n",
       "      <td>103.836432</td>\n",
       "      <td>1.322265</td>\n",
       "      <td>138837.856059</td>\n",
       "      <td>2</td>\n",
       "    </tr>\n",
       "    <tr>\n",
       "      <th>3</th>\n",
       "      <td>2000-05</td>\n",
       "      <td>ANG MO KIO</td>\n",
       "      <td>2 ROOM</td>\n",
       "      <td>170</td>\n",
       "      <td>ANG MO KIO AVE 4</td>\n",
       "      <td>04 TO 06</td>\n",
       "      <td>45.0</td>\n",
       "      <td>Improved</td>\n",
       "      <td>1986</td>\n",
       "      <td>125000.0</td>\n",
       "      <td>...</td>\n",
       "      <td>elite</td>\n",
       "      <td>3-5 minutes</td>\n",
       "      <td>more than 15 minutes</td>\n",
       "      <td>3-5 minutes</td>\n",
       "      <td>3-5 minutes</td>\n",
       "      <td>1.374001</td>\n",
       "      <td>103.836432</td>\n",
       "      <td>1.301036</td>\n",
       "      <td>162629.480554</td>\n",
       "      <td>3</td>\n",
       "    </tr>\n",
       "    <tr>\n",
       "      <th>4</th>\n",
       "      <td>2000-06</td>\n",
       "      <td>ANG MO KIO</td>\n",
       "      <td>2 ROOM</td>\n",
       "      <td>170</td>\n",
       "      <td>ANG MO KIO AVE 4</td>\n",
       "      <td>07 TO 09</td>\n",
       "      <td>45.0</td>\n",
       "      <td>Improved</td>\n",
       "      <td>1986</td>\n",
       "      <td>117000.0</td>\n",
       "      <td>...</td>\n",
       "      <td>elite</td>\n",
       "      <td>3-5 minutes</td>\n",
       "      <td>more than 15 minutes</td>\n",
       "      <td>3-5 minutes</td>\n",
       "      <td>3-5 minutes</td>\n",
       "      <td>1.374001</td>\n",
       "      <td>103.836432</td>\n",
       "      <td>1.301036</td>\n",
       "      <td>152221.193798</td>\n",
       "      <td>4</td>\n",
       "    </tr>\n",
       "  </tbody>\n",
       "</table>\n",
       "<p>5 rows × 50 columns</p>\n",
       "</div>"
      ],
      "text/plain": [
       "     month        town flat_type block       street_name storey_range  \\\n",
       "0  2000-01  ANG MO KIO    3 ROOM   170  ANG MO KIO AVE 4     07 TO 09   \n",
       "1  2000-02  ANG MO KIO    3 ROOM   170  ANG MO KIO AVE 4     07 TO 09   \n",
       "2  2000-03  ANG MO KIO    2 ROOM   170  ANG MO KIO AVE 4     04 TO 06   \n",
       "3  2000-05  ANG MO KIO    2 ROOM   170  ANG MO KIO AVE 4     04 TO 06   \n",
       "4  2000-06  ANG MO KIO    2 ROOM   170  ANG MO KIO AVE 4     07 TO 09   \n",
       "\n",
       "   floor_area_sqm flat_model  lease_commence_date  resale_price  ...  \\\n",
       "0            69.0   Improved                 1986      147000.0  ...   \n",
       "1            60.0   Improved                 1986      130000.0  ...   \n",
       "2            45.0   Improved                 1986      105000.0  ...   \n",
       "3            45.0   Improved                 1986      125000.0  ...   \n",
       "4            45.0   Improved                 1986      117000.0  ...   \n",
       "\n",
       "  school_type  bus_stop_proximity         mrt_proximity  pri_sch_proximity  \\\n",
       "0       elite         3-5 minutes  more than 15 minutes        3-5 minutes   \n",
       "1       elite         3-5 minutes  more than 15 minutes        3-5 minutes   \n",
       "2       elite         3-5 minutes  more than 15 minutes        3-5 minutes   \n",
       "3       elite         3-5 minutes  more than 15 minutes        3-5 minutes   \n",
       "4       elite         3-5 minutes  more than 15 minutes        3-5 minutes   \n",
       "\n",
       "   sec_sch_proximity  latitude   longitude inflation  normalized_resale_price  \\\n",
       "0        3-5 minutes  1.374001  103.836432  1.322265            194372.998483   \n",
       "1        3-5 minutes  1.374001  103.836432  1.322265            171894.488454   \n",
       "2        3-5 minutes  1.374001  103.836432  1.322265            138837.856059   \n",
       "3        3-5 minutes  1.374001  103.836432  1.301036            162629.480554   \n",
       "4        3-5 minutes  1.374001  103.836432  1.301036            152221.193798   \n",
       "\n",
       "   index  \n",
       "0      0  \n",
       "1      1  \n",
       "2      2  \n",
       "3      3  \n",
       "4      4  \n",
       "\n",
       "[5 rows x 50 columns]"
      ]
     },
     "execution_count": 7,
     "metadata": {},
     "output_type": "execute_result"
    }
   ],
   "source": [
    "df = pd.read_csv('ETL/01_Data_Collection/01_dataset/processed_data/filtered_df3.csv')\n",
    "df.head()"
   ]
  },
  {
   "cell_type": "code",
   "execution_count": 8,
   "id": "93f7cac61cc6be5c",
   "metadata": {
    "ExecuteTime": {
     "end_time": "2024-03-30T10:04:28.733388Z",
     "start_time": "2024-03-30T10:04:27.100718Z"
    },
    "collapsed": false
   },
   "outputs": [
    {
     "name": "stdout",
     "output_type": "stream",
     "text": [
      "Columns with mixed data types:\n",
      "Index(['month', 'town', 'flat_type', 'block', 'street_name', 'storey_range',\n",
      "       'flat_model', 'address', 'planning_area', 'mrt_name', 'bus_stop_name',\n",
      "       'pri_sch_name', 'sec_sch_name', 'flat_type_model', 'school_type',\n",
      "       'bus_stop_proximity', 'mrt_proximity', 'pri_sch_proximity',\n",
      "       'sec_sch_proximity'],\n",
      "      dtype='object')\n"
     ]
    }
   ],
   "source": [
    "mixed_type_columns = df.select_dtypes(include='object').columns\n",
    "\n",
    "if mixed_type_columns.empty:\n",
    "    print(\"No columns with mixed data types.\")\n",
    "else:\n",
    "    print(\"Columns with mixed data types:\")\n",
    "    print(mixed_type_columns)\n",
    "    \n",
    "df[mixed_type_columns] = df[mixed_type_columns].astype(str)"
   ]
  },
  {
   "cell_type": "code",
   "execution_count": null,
   "id": "1776c685ec50c3ff",
   "metadata": {
    "collapsed": false
   },
   "outputs": [],
   "source": [
    "# months = ['January', 'February', 'March', 'April', 'May', 'June', \n",
    "#           'July', 'August', 'September', 'October', 'November', 'December']\n",
    "# \n",
    "# df = pd.DataFrame({\"month\": months})\n",
    "# df"
   ]
  },
  {
   "cell_type": "code",
   "execution_count": 26,
   "id": "e11d33ad",
   "metadata": {},
   "outputs": [
    {
     "data": {
      "text/html": [
       "<div>\n",
       "<style scoped>\n",
       "    .dataframe tbody tr th:only-of-type {\n",
       "        vertical-align: middle;\n",
       "    }\n",
       "\n",
       "    .dataframe tbody tr th {\n",
       "        vertical-align: top;\n",
       "    }\n",
       "\n",
       "    .dataframe thead th {\n",
       "        text-align: right;\n",
       "    }\n",
       "</style>\n",
       "<table border=\"1\" class=\"dataframe\">\n",
       "  <thead>\n",
       "    <tr style=\"text-align: right;\">\n",
       "      <th></th>\n",
       "      <th>index</th>\n",
       "      <th>postal</th>\n",
       "      <th>flat_type</th>\n",
       "      <th>flat_model</th>\n",
       "      <th>flat_type_model</th>\n",
       "      <th>floor_area_sqm</th>\n",
       "      <th>lease_commence_date</th>\n",
       "      <th>storey_range</th>\n",
       "      <th>avg_storey_range</th>\n",
       "      <th>total_dwelling_units</th>\n",
       "    </tr>\n",
       "  </thead>\n",
       "  <tbody>\n",
       "  </tbody>\n",
       "</table>\n",
       "</div>"
      ],
      "text/plain": [
       "Empty DataFrame\n",
       "Columns: [index, postal, flat_type, flat_model, flat_type_model, floor_area_sqm, lease_commence_date, storey_range, avg_storey_range, total_dwelling_units]\n",
       "Index: []"
      ]
     },
     "execution_count": 26,
     "metadata": {},
     "output_type": "execute_result"
    }
   ],
   "source": [
    "property = df[['index', 'postal', 'flat_type', 'flat_model', 'flat_type_model',\n",
    "                  'floor_area_sqm', 'lease_commence_date', 'storey_range',\n",
    "                  'avg_storey_range', 'total_dwelling_units']]\n",
    "\n",
    "# Drop duplicate rows based on the 'index' column\n",
    "property = property.drop_duplicates(subset=['postal', 'flat_type_model',\n",
    "                  'floor_area_sqm', 'lease_commence_date', 'storey_range',\n",
    "                  'total_dwelling_units'])\n",
    "\n",
    "property_duplicate_rows = property[property.duplicated()]\n",
    "\n",
    "property_duplicate_rows\n"
   ]
  },
  {
   "cell_type": "code",
   "execution_count": 28,
   "id": "0c0747af",
   "metadata": {},
   "outputs": [
    {
     "data": {
      "text/html": [
       "<div>\n",
       "<style scoped>\n",
       "    .dataframe tbody tr th:only-of-type {\n",
       "        vertical-align: middle;\n",
       "    }\n",
       "\n",
       "    .dataframe tbody tr th {\n",
       "        vertical-align: top;\n",
       "    }\n",
       "\n",
       "    .dataframe thead th {\n",
       "        text-align: right;\n",
       "    }\n",
       "</style>\n",
       "<table border=\"1\" class=\"dataframe\">\n",
       "  <thead>\n",
       "    <tr style=\"text-align: right;\">\n",
       "      <th></th>\n",
       "      <th>postal</th>\n",
       "      <th>address</th>\n",
       "      <th>town</th>\n",
       "      <th>block</th>\n",
       "      <th>street_name</th>\n",
       "      <th>planning_area</th>\n",
       "      <th>latitude</th>\n",
       "      <th>longitude</th>\n",
       "    </tr>\n",
       "  </thead>\n",
       "  <tbody>\n",
       "  </tbody>\n",
       "</table>\n",
       "</div>"
      ],
      "text/plain": [
       "Empty DataFrame\n",
       "Columns: [postal, address, town, block, street_name, planning_area, latitude, longitude]\n",
       "Index: []"
      ]
     },
     "execution_count": 28,
     "metadata": {},
     "output_type": "execute_result"
    }
   ],
   "source": [
    "address = df[['postal', 'address', 'town', 'block', 'street_name', \n",
    "                          'planning_area', 'latitude', 'longitude']]\n",
    "\n",
    "# Drop duplicate rows based on the 'index' column\n",
    "address = address.drop_duplicates(subset=['postal'])\n",
    "\n",
    "address_duplicate_rows = address[address.duplicated()]\n",
    "\n",
    "address_duplicate_rows"
   ]
  },
  {
   "cell_type": "code",
   "execution_count": 30,
   "id": "df0edb9d",
   "metadata": {},
   "outputs": [
    {
     "data": {
      "text/html": [
       "<div>\n",
       "<style scoped>\n",
       "    .dataframe tbody tr th:only-of-type {\n",
       "        vertical-align: middle;\n",
       "    }\n",
       "\n",
       "    .dataframe tbody tr th {\n",
       "        vertical-align: top;\n",
       "    }\n",
       "\n",
       "    .dataframe thead th {\n",
       "        text-align: right;\n",
       "    }\n",
       "</style>\n",
       "<table border=\"1\" class=\"dataframe\">\n",
       "  <thead>\n",
       "    <tr style=\"text-align: right;\">\n",
       "      <th></th>\n",
       "      <th>postal</th>\n",
       "      <th>commercial</th>\n",
       "      <th>market_hawker</th>\n",
       "      <th>multistorey_carpark</th>\n",
       "      <th>precinct_pavilion</th>\n",
       "      <th>total_dwelling_units</th>\n",
       "      <th>mall_nearest_distance</th>\n",
       "      <th>hawker_nearest_distance</th>\n",
       "      <th>hawker_food_stalls</th>\n",
       "      <th>hawker_market_stalls</th>\n",
       "      <th>...</th>\n",
       "      <th>pri_sch_affiliation</th>\n",
       "      <th>sec_sch_nearest_dist</th>\n",
       "      <th>sec_sch_name</th>\n",
       "      <th>cutoff_point</th>\n",
       "      <th>affiliation</th>\n",
       "      <th>school_type</th>\n",
       "      <th>bus_stop_proximity</th>\n",
       "      <th>mrt_proximity</th>\n",
       "      <th>pri_sch_proximity</th>\n",
       "      <th>sec_sch_proximity</th>\n",
       "    </tr>\n",
       "  </thead>\n",
       "  <tbody>\n",
       "  </tbody>\n",
       "</table>\n",
       "<p>0 rows × 29 columns</p>\n",
       "</div>"
      ],
      "text/plain": [
       "Empty DataFrame\n",
       "Columns: [postal, commercial, market_hawker, multistorey_carpark, precinct_pavilion, total_dwelling_units, mall_nearest_distance, hawker_nearest_distance, hawker_food_stalls, hawker_market_stalls, mrt_nearest_distance, mrt_name, bus_interchange, mrt_interchange, bus_stop_nearest_distance, bus_stop_name, pri_sch_nearest_distance, pri_sch_name, vacancy, pri_sch_affiliation, sec_sch_nearest_dist, sec_sch_name, cutoff_point, affiliation, school_type, bus_stop_proximity, mrt_proximity, pri_sch_proximity, sec_sch_proximity]\n",
       "Index: []\n",
       "\n",
       "[0 rows x 29 columns]"
      ]
     },
     "execution_count": 30,
     "metadata": {},
     "output_type": "execute_result"
    }
   ],
   "source": [
    "surroundings = df[['postal', 'commercial', 'market_hawker', 'multistorey_carpark', 'precinct_pavilion',\n",
    "                               'total_dwelling_units', 'mall_nearest_distance', 'hawker_nearest_distance',\n",
    "                               'hawker_food_stalls', 'hawker_market_stalls', 'mrt_nearest_distance', 'mrt_name',\n",
    "                               'bus_interchange', 'mrt_interchange', 'bus_stop_nearest_distance', 'bus_stop_name',\n",
    "                               'pri_sch_nearest_distance', 'pri_sch_name', 'vacancy', 'pri_sch_affiliation',\n",
    "                               'sec_sch_nearest_dist', 'sec_sch_name', 'cutoff_point', 'affiliation', 'school_type',\n",
    "                               'bus_stop_proximity', 'mrt_proximity', 'pri_sch_proximity', 'sec_sch_proximity']]\n",
    "\n",
    "# Drop duplicate rows based on the 'index' column\n",
    "surroundings = surroundings.drop_duplicates(subset=['postal'])\n",
    "\n",
    "surroundings_duplicate_rows = surroundings[surroundings.duplicated()]\n",
    "\n",
    "surroundings_duplicate_rows"
   ]
  },
  {
   "cell_type": "code",
   "execution_count": 36,
   "id": "df375b19",
   "metadata": {},
   "outputs": [
    {
     "data": {
      "text/html": [
       "<div>\n",
       "<style scoped>\n",
       "    .dataframe tbody tr th:only-of-type {\n",
       "        vertical-align: middle;\n",
       "    }\n",
       "\n",
       "    .dataframe tbody tr th {\n",
       "        vertical-align: top;\n",
       "    }\n",
       "\n",
       "    .dataframe thead th {\n",
       "        text-align: right;\n",
       "    }\n",
       "</style>\n",
       "<table border=\"1\" class=\"dataframe\">\n",
       "  <thead>\n",
       "    <tr style=\"text-align: right;\">\n",
       "      <th></th>\n",
       "      <th>index</th>\n",
       "      <th>month</th>\n",
       "      <th>resale_price</th>\n",
       "      <th>year</th>\n",
       "      <th>quarter</th>\n",
       "      <th>inflation</th>\n",
       "      <th>normalized_resale_price</th>\n",
       "    </tr>\n",
       "  </thead>\n",
       "  <tbody>\n",
       "  </tbody>\n",
       "</table>\n",
       "</div>"
      ],
      "text/plain": [
       "Empty DataFrame\n",
       "Columns: [index, month, resale_price, year, quarter, inflation, normalized_resale_price]\n",
       "Index: []"
      ]
     },
     "execution_count": 36,
     "metadata": {},
     "output_type": "execute_result"
    }
   ],
   "source": [
    "transaction = df[['index', 'month', 'resale_price', 'year', 'quarter', 'inflation', 'normalized_resale_price']]\n",
    "\n",
    "# Drop duplicate rows based on the 'index' column\n",
    "transaction = transaction.drop_duplicates(subset=['month', 'resale_price', 'year', 'quarter', 'inflation', 'normalized_resale_price'])\n",
    "\n",
    "transaction_duplicate_rows = transaction[transaction.duplicated()]\n",
    "\n",
    "transaction_duplicate_rows\n"
   ]
  },
  {
   "cell_type": "code",
   "execution_count": 12,
   "id": "2ad97c92e28c8e91",
   "metadata": {
    "ExecuteTime": {
     "end_time": "2024-03-30T10:04:37.204359Z",
     "start_time": "2024-03-30T10:04:28.696777Z"
    },
    "collapsed": false
   },
   "outputs": [
    {
     "name": "stdout",
     "output_type": "stream",
     "text": [
      "Please visit this URL to authorize this application: https://accounts.google.com/o/oauth2/auth?response_type=code&client_id=725825577420-unm2gnkiprugilg743tkbig250f4sfsj.apps.googleusercontent.com&redirect_uri=http%3A%2F%2Flocalhost%3A8081%2F&scope=https%3A%2F%2Fwww.googleapis.com%2Fauth%2Fbigquery&state=BMG7uWb8IPE0SCsarRwX5BNnzEvkvp&prompt=consent&access_type=offline\n"
     ]
    },
    {
     "name": "stderr",
     "output_type": "stream",
     "text": [
      "100%|██████████| 1/1 [00:00<00:00, 11397.57it/s]\n"
     ]
    }
   ],
   "source": [
    "project_id = \"is3107-418011\"\n",
    "\n",
    "# Dataset ID and table name\n",
    "dataset_id = \"is3107\"  # You have nested dataset, so specify only the innermost dataset\n",
    "table_id = \"resale_price\"   # Table ID within the specified dataset\n",
    "\n",
    "# Upload DataFrame to BigQuery\n",
    "df.to_gbq(destination_table=f\"{project_id}.{dataset_id}.{table_id}\", project_id=project_id, if_exists=\"replace\")"
   ]
  },
  {
   "cell_type": "code",
   "execution_count": 27,
   "id": "78efdbbf98009eb8",
   "metadata": {
    "collapsed": false
   },
   "outputs": [
    {
     "name": "stderr",
     "output_type": "stream",
     "text": [
      "100%|██████████| 1/1 [00:00<00:00, 26214.40it/s]\n"
     ]
    }
   ],
   "source": [
    "# Dataset ID and table name\n",
    "table_id = \"Property\"   # Table ID within the specified dataset\n",
    "\n",
    "# Upload DataFrame to BigQuery\n",
    "property.to_gbq(destination_table=f\"{project_id}.{dataset_id}.{table_id}\", project_id=project_id, if_exists=\"replace\")"
   ]
  },
  {
   "cell_type": "code",
   "execution_count": 29,
   "id": "82db72ba",
   "metadata": {},
   "outputs": [
    {
     "name": "stderr",
     "output_type": "stream",
     "text": [
      "100%|██████████| 1/1 [00:00<00:00, 12985.46it/s]\n"
     ]
    }
   ],
   "source": [
    "# Dataset ID and table name\n",
    "table_id = \"Address\"   # Table ID within the specified dataset\n",
    "\n",
    "# Upload DataFrame to BigQuery\n",
    "address.to_gbq(destination_table=f\"{project_id}.{dataset_id}.{table_id}\", project_id=project_id, if_exists=\"replace\")"
   ]
  },
  {
   "cell_type": "code",
   "execution_count": 31,
   "id": "c38ccc40",
   "metadata": {},
   "outputs": [
    {
     "name": "stderr",
     "output_type": "stream",
     "text": [
      "100%|██████████| 1/1 [00:00<00:00, 22192.08it/s]\n"
     ]
    }
   ],
   "source": [
    "# Dataset ID and table name\n",
    "table_id = \"Surroundings\"   # Table ID within the specified dataset\n",
    "\n",
    "# Upload DataFrame to BigQuery\n",
    "surroundings.to_gbq(destination_table=f\"{project_id}.{dataset_id}.{table_id}\", project_id=project_id, if_exists=\"replace\")"
   ]
  },
  {
   "cell_type": "code",
   "execution_count": 37,
   "id": "7b0f2135",
   "metadata": {},
   "outputs": [
    {
     "name": "stderr",
     "output_type": "stream",
     "text": [
      "100%|██████████| 1/1 [00:00<00:00, 32263.88it/s]\n"
     ]
    }
   ],
   "source": [
    "# Dataset ID and table name\n",
    "table_id = \"Transaction\"   # Table ID within the specified dataset\n",
    "\n",
    "# Upload DataFrame to BigQuery\n",
    "transaction.to_gbq(destination_table=f\"{project_id}.{dataset_id}.{table_id}\", project_id=project_id, if_exists=\"replace\")"
   ]
  },
  {
   "cell_type": "code",
   "execution_count": 5,
   "id": "556ff0407a948fe3",
   "metadata": {
    "ExecuteTime": {
     "end_time": "2024-03-30T09:42:58.195382Z",
     "start_time": "2024-03-30T09:42:58.190345Z"
    },
    "collapsed": false
   },
   "outputs": [],
   "source": [
    "def query_table_from_bq(table_name):\n",
    "    CREDS = 'is3107-418011-f63573e5e1f3.json'\n",
    "    credentials = service_account.Credentials.from_service_account_file(CREDS)\n",
    "    client = bigquery.Client(credentials=credentials)\n",
    "    job_config = bigquery.QueryJobConfig()\n",
    "\n",
    "    # Set the destination table\n",
    "    table = client.dataset(dataset_id='is3107-418011.is3107').table(table_id=f\"is3107-418011.is3107.{table_name}\")\n",
    "    job_config.destination = table\n",
    "    query = f\"SELECT * FROM `is3107-418011.is3107.{table_name}`\"\n",
    "    return client.query(query).to_dataframe()"
   ]
  },
  {
   "cell_type": "code",
   "execution_count": 6,
   "id": "19cce99e2be78b17",
   "metadata": {
    "ExecuteTime": {
     "end_time": "2024-03-30T09:43:00.310215Z",
     "start_time": "2024-03-30T09:42:59.587348Z"
    },
    "collapsed": false
   },
   "outputs": [
    {
     "data": {
      "text/html": [
       "<div>\n",
       "<style scoped>\n",
       "    .dataframe tbody tr th:only-of-type {\n",
       "        vertical-align: middle;\n",
       "    }\n",
       "\n",
       "    .dataframe tbody tr th {\n",
       "        vertical-align: top;\n",
       "    }\n",
       "\n",
       "    .dataframe thead th {\n",
       "        text-align: right;\n",
       "    }\n",
       "</style>\n",
       "<table border=\"1\" class=\"dataframe\">\n",
       "  <thead>\n",
       "    <tr style=\"text-align: right;\">\n",
       "      <th></th>\n",
       "      <th>month</th>\n",
       "    </tr>\n",
       "  </thead>\n",
       "  <tbody>\n",
       "    <tr>\n",
       "      <th>0</th>\n",
       "      <td>January</td>\n",
       "    </tr>\n",
       "    <tr>\n",
       "      <th>1</th>\n",
       "      <td>February</td>\n",
       "    </tr>\n",
       "    <tr>\n",
       "      <th>2</th>\n",
       "      <td>March</td>\n",
       "    </tr>\n",
       "    <tr>\n",
       "      <th>3</th>\n",
       "      <td>April</td>\n",
       "    </tr>\n",
       "    <tr>\n",
       "      <th>4</th>\n",
       "      <td>May</td>\n",
       "    </tr>\n",
       "    <tr>\n",
       "      <th>5</th>\n",
       "      <td>June</td>\n",
       "    </tr>\n",
       "    <tr>\n",
       "      <th>6</th>\n",
       "      <td>July</td>\n",
       "    </tr>\n",
       "    <tr>\n",
       "      <th>7</th>\n",
       "      <td>August</td>\n",
       "    </tr>\n",
       "    <tr>\n",
       "      <th>8</th>\n",
       "      <td>September</td>\n",
       "    </tr>\n",
       "    <tr>\n",
       "      <th>9</th>\n",
       "      <td>October</td>\n",
       "    </tr>\n",
       "    <tr>\n",
       "      <th>10</th>\n",
       "      <td>November</td>\n",
       "    </tr>\n",
       "    <tr>\n",
       "      <th>11</th>\n",
       "      <td>December</td>\n",
       "    </tr>\n",
       "  </tbody>\n",
       "</table>\n",
       "</div>"
      ],
      "text/plain": [
       "        month\n",
       "0     January\n",
       "1    February\n",
       "2       March\n",
       "3       April\n",
       "4         May\n",
       "5        June\n",
       "6        July\n",
       "7      August\n",
       "8   September\n",
       "9     October\n",
       "10   November\n",
       "11   December"
      ]
     },
     "execution_count": 6,
     "metadata": {},
     "output_type": "execute_result"
    }
   ],
   "source": [
    "query_table_from_bq(\"testing2\")"
   ]
  }
 ],
 "metadata": {
  "kernelspec": {
   "display_name": "Python 3",
   "language": "python",
   "name": "python3"
  },
  "language_info": {
   "codemirror_mode": {
    "name": "ipython",
    "version": 3
   },
   "file_extension": ".py",
   "mimetype": "text/x-python",
   "name": "python",
   "nbconvert_exporter": "python",
   "pygments_lexer": "ipython3",
   "version": "3.9.16"
  }
 },
 "nbformat": 4,
 "nbformat_minor": 5
}
