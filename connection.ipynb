{
 "cells": [
  {
   "cell_type": "code",
   "execution_count": 1,
   "id": "initial_id",
   "metadata": {
    "collapsed": true,
    "ExecuteTime": {
     "end_time": "2024-03-30T09:42:55.788897Z",
     "start_time": "2024-03-30T09:42:54.936028Z"
    }
   },
   "outputs": [],
   "source": [
    "from google.cloud import bigquery\n",
    "from google.oauth2 import service_account\n",
    "import pandas as pd"
   ]
  },
  {
   "cell_type": "code",
   "outputs": [],
   "source": [
    "# CREDS = 'is3107-418808-5bca2b8d29d0.json'\n",
    "CREDS = 'is3107-418011-f63573e5e1f3.json'\n",
    "credentials = service_account.Credentials.from_service_account_file(CREDS)\n",
    "client = bigquery.Client(credentials=credentials)\n",
    "job_config = bigquery.QueryJobConfig()"
   ],
   "metadata": {
    "collapsed": false
   },
   "id": "918cbbc5fb69c05",
   "execution_count": null
  },
  {
   "cell_type": "code",
   "outputs": [],
   "source": [
    "dataset_id='is3107-418011.is3107'\n",
    "print(list(client.list_datasets(credentials.project_id)))\n",
    "tables = client.list_tables(dataset_id)  \n",
    "for table in tables:\n",
    "    print(table.table_id)"
   ],
   "metadata": {
    "collapsed": false
   },
   "id": "90e0a8339705a875",
   "execution_count": null
  },
  {
   "cell_type": "code",
   "outputs": [
    {
     "name": "stderr",
     "output_type": "stream",
     "text": [
      "/var/folders/l5/0p3sf6hj6sqd3k5fbpl4prrw0000gn/T/ipykernel_48927/313019750.py:1: DtypeWarning: Columns (3) have mixed types. Specify dtype option on import or set low_memory=False.\n",
      "  df = pd.read_csv('data_sets/data_with_location_info.csv')\n"
     ]
    },
    {
     "data": {
      "text/plain": "     month        town flat_type block       street_name storey_range  \\\n0  1998-01  ANG MO KIO    3 ROOM   216  ANG MO KIO AVE 1     10 TO 12   \n1  1998-05  ANG MO KIO    3 ROOM   216  ANG MO KIO AVE 1     07 TO 09   \n2  1998-07  ANG MO KIO    3 ROOM   216  ANG MO KIO AVE 1     01 TO 03   \n3  1998-07  ANG MO KIO    3 ROOM   216  ANG MO KIO AVE 1     01 TO 03   \n4  1998-07  ANG MO KIO    4 ROOM   216  ANG MO KIO AVE 1     10 TO 12   \n\n   floor_area_sqm      flat_model  lease_commence_date  resale_price  ...  \\\n0            73.0  NEW GENERATION                 1976      170500.0  ...   \n1            73.0  NEW GENERATION                 1976      170000.0  ...   \n2            73.0  NEW GENERATION                 1976      157000.0  ...   \n3            73.0  NEW GENERATION                 1976      150000.0  ...   \n4            88.0  NEW GENERATION                 1976      263000.0  ...   \n\n         flat_type_model  school_type  bus_stop_proximity  \\\n0  3 ROOM NEW GENERATION         good         3-5 minutes   \n1  3 ROOM NEW GENERATION         good         3-5 minutes   \n2  3 ROOM NEW GENERATION         good         3-5 minutes   \n3  3 ROOM NEW GENERATION         good         3-5 minutes   \n4  4 ROOM NEW GENERATION         good         3-5 minutes   \n\n          mrt_proximity  pri_sch_proximity  sec_sch_proximity  inflation  \\\n0  more than 15 minutes       5-10 minutes        3-5 minutes   1.324981   \n1  more than 15 minutes       5-10 minutes        3-5 minutes   1.438463   \n2  more than 15 minutes       5-10 minutes        3-5 minutes   1.652590   \n3  more than 15 minutes       5-10 minutes        3-5 minutes   1.652590   \n4  more than 15 minutes       5-10 minutes        3-5 minutes   1.652590   \n\n  normalized_resale_price  latitude   longitude  \n0           225909.328483  1.366197  103.841505  \n1           244538.767743  1.366197  103.841505  \n2           259456.595072  1.366197  103.841505  \n3           247888.466630  1.366197  103.841505  \n4           434631.111491  1.366197  103.841505  \n\n[5 rows x 49 columns]",
      "text/html": "<div>\n<style scoped>\n    .dataframe tbody tr th:only-of-type {\n        vertical-align: middle;\n    }\n\n    .dataframe tbody tr th {\n        vertical-align: top;\n    }\n\n    .dataframe thead th {\n        text-align: right;\n    }\n</style>\n<table border=\"1\" class=\"dataframe\">\n  <thead>\n    <tr style=\"text-align: right;\">\n      <th></th>\n      <th>month</th>\n      <th>town</th>\n      <th>flat_type</th>\n      <th>block</th>\n      <th>street_name</th>\n      <th>storey_range</th>\n      <th>floor_area_sqm</th>\n      <th>flat_model</th>\n      <th>lease_commence_date</th>\n      <th>resale_price</th>\n      <th>...</th>\n      <th>flat_type_model</th>\n      <th>school_type</th>\n      <th>bus_stop_proximity</th>\n      <th>mrt_proximity</th>\n      <th>pri_sch_proximity</th>\n      <th>sec_sch_proximity</th>\n      <th>inflation</th>\n      <th>normalized_resale_price</th>\n      <th>latitude</th>\n      <th>longitude</th>\n    </tr>\n  </thead>\n  <tbody>\n    <tr>\n      <th>0</th>\n      <td>1998-01</td>\n      <td>ANG MO KIO</td>\n      <td>3 ROOM</td>\n      <td>216</td>\n      <td>ANG MO KIO AVE 1</td>\n      <td>10 TO 12</td>\n      <td>73.0</td>\n      <td>NEW GENERATION</td>\n      <td>1976</td>\n      <td>170500.0</td>\n      <td>...</td>\n      <td>3 ROOM NEW GENERATION</td>\n      <td>good</td>\n      <td>3-5 minutes</td>\n      <td>more than 15 minutes</td>\n      <td>5-10 minutes</td>\n      <td>3-5 minutes</td>\n      <td>1.324981</td>\n      <td>225909.328483</td>\n      <td>1.366197</td>\n      <td>103.841505</td>\n    </tr>\n    <tr>\n      <th>1</th>\n      <td>1998-05</td>\n      <td>ANG MO KIO</td>\n      <td>3 ROOM</td>\n      <td>216</td>\n      <td>ANG MO KIO AVE 1</td>\n      <td>07 TO 09</td>\n      <td>73.0</td>\n      <td>NEW GENERATION</td>\n      <td>1976</td>\n      <td>170000.0</td>\n      <td>...</td>\n      <td>3 ROOM NEW GENERATION</td>\n      <td>good</td>\n      <td>3-5 minutes</td>\n      <td>more than 15 minutes</td>\n      <td>5-10 minutes</td>\n      <td>3-5 minutes</td>\n      <td>1.438463</td>\n      <td>244538.767743</td>\n      <td>1.366197</td>\n      <td>103.841505</td>\n    </tr>\n    <tr>\n      <th>2</th>\n      <td>1998-07</td>\n      <td>ANG MO KIO</td>\n      <td>3 ROOM</td>\n      <td>216</td>\n      <td>ANG MO KIO AVE 1</td>\n      <td>01 TO 03</td>\n      <td>73.0</td>\n      <td>NEW GENERATION</td>\n      <td>1976</td>\n      <td>157000.0</td>\n      <td>...</td>\n      <td>3 ROOM NEW GENERATION</td>\n      <td>good</td>\n      <td>3-5 minutes</td>\n      <td>more than 15 minutes</td>\n      <td>5-10 minutes</td>\n      <td>3-5 minutes</td>\n      <td>1.652590</td>\n      <td>259456.595072</td>\n      <td>1.366197</td>\n      <td>103.841505</td>\n    </tr>\n    <tr>\n      <th>3</th>\n      <td>1998-07</td>\n      <td>ANG MO KIO</td>\n      <td>3 ROOM</td>\n      <td>216</td>\n      <td>ANG MO KIO AVE 1</td>\n      <td>01 TO 03</td>\n      <td>73.0</td>\n      <td>NEW GENERATION</td>\n      <td>1976</td>\n      <td>150000.0</td>\n      <td>...</td>\n      <td>3 ROOM NEW GENERATION</td>\n      <td>good</td>\n      <td>3-5 minutes</td>\n      <td>more than 15 minutes</td>\n      <td>5-10 minutes</td>\n      <td>3-5 minutes</td>\n      <td>1.652590</td>\n      <td>247888.466630</td>\n      <td>1.366197</td>\n      <td>103.841505</td>\n    </tr>\n    <tr>\n      <th>4</th>\n      <td>1998-07</td>\n      <td>ANG MO KIO</td>\n      <td>4 ROOM</td>\n      <td>216</td>\n      <td>ANG MO KIO AVE 1</td>\n      <td>10 TO 12</td>\n      <td>88.0</td>\n      <td>NEW GENERATION</td>\n      <td>1976</td>\n      <td>263000.0</td>\n      <td>...</td>\n      <td>4 ROOM NEW GENERATION</td>\n      <td>good</td>\n      <td>3-5 minutes</td>\n      <td>more than 15 minutes</td>\n      <td>5-10 minutes</td>\n      <td>3-5 minutes</td>\n      <td>1.652590</td>\n      <td>434631.111491</td>\n      <td>1.366197</td>\n      <td>103.841505</td>\n    </tr>\n  </tbody>\n</table>\n<p>5 rows × 49 columns</p>\n</div>"
     },
     "execution_count": 5,
     "metadata": {},
     "output_type": "execute_result"
    }
   ],
   "source": [
    "df = pd.read_csv('data_sets/data_with_location_info.csv')\n",
    "df.head()"
   ],
   "metadata": {
    "collapsed": false,
    "ExecuteTime": {
     "end_time": "2024-03-30T09:46:30.340544Z",
     "start_time": "2024-03-30T09:46:26.056567Z"
    }
   },
   "id": "13298a4e7bf5400",
   "execution_count": 5
  },
  {
   "cell_type": "code",
   "outputs": [
    {
     "name": "stdout",
     "output_type": "stream",
     "text": [
      "Columns with mixed data types:\n",
      "Index(['month', 'town', 'flat_type', 'block', 'street_name', 'storey_range',\n",
      "       'flat_model', 'address', 'planning_area', 'mrt_name', 'bus_stop_name',\n",
      "       'pri_sch_name', 'sec_sch_name', 'flat_type_model', 'school_type',\n",
      "       'bus_stop_proximity', 'mrt_proximity', 'pri_sch_proximity',\n",
      "       'sec_sch_proximity'],\n",
      "      dtype='object')\n"
     ]
    }
   ],
   "source": [
    "mixed_type_columns = df.select_dtypes(include='object').columns\n",
    "\n",
    "if mixed_type_columns.empty:\n",
    "    print(\"No columns with mixed data types.\")\n",
    "else:\n",
    "    print(\"Columns with mixed data types:\")\n",
    "    print(mixed_type_columns)\n",
    "df[mixed_type_columns] = df[mixed_type_columns].astype(str)"
   ],
   "metadata": {
    "collapsed": false,
    "ExecuteTime": {
     "end_time": "2024-03-30T09:49:41.223845Z",
     "start_time": "2024-03-30T09:49:40.359950Z"
    }
   },
   "id": "93f7cac61cc6be5c",
   "execution_count": 9
  },
  {
   "cell_type": "code",
   "outputs": [],
   "source": [],
   "metadata": {
    "collapsed": false
   },
   "id": "22875472792fa531"
  },
  {
   "cell_type": "code",
   "outputs": [],
   "source": [
    "# months = ['January', 'February', 'March', 'April', 'May', 'June', \n",
    "#           'July', 'August', 'September', 'October', 'November', 'December']\n",
    "# \n",
    "# df = pd.DataFrame({\"month\": months})\n",
    "# df"
   ],
   "metadata": {
    "collapsed": false
   },
   "id": "1776c685ec50c3ff",
   "execution_count": null
  },
  {
   "cell_type": "code",
   "outputs": [
    {
     "name": "stderr",
     "output_type": "stream",
     "text": [
      "100%|██████████| 1/1 [00:00<00:00, 6626.07it/s]\n"
     ]
    }
   ],
   "source": [
    "project_id = \"is3107-418011\"\n",
    "\n",
    "# Dataset ID and table name\n",
    "dataset_id = \"is3107\"  # You have nested dataset, so specify only the innermost dataset\n",
    "table_id = \"resale_price\"   # Table ID within the specified dataset\n",
    "\n",
    "# Upload DataFrame to BigQuery\n",
    "df.to_gbq(destination_table=f\"{project_id}.{dataset_id}.{table_id}\", project_id=project_id, if_exists=\"replace\")"
   ],
   "metadata": {
    "collapsed": false,
    "ExecuteTime": {
     "end_time": "2024-03-30T09:49:57.702300Z",
     "start_time": "2024-03-30T09:49:47.393639Z"
    }
   },
   "id": "2ad97c92e28c8e91",
   "execution_count": 10
  },
  {
   "cell_type": "code",
   "outputs": [],
   "source": [],
   "metadata": {
    "collapsed": false
   },
   "id": "78efdbbf98009eb8",
   "execution_count": null
  },
  {
   "cell_type": "code",
   "outputs": [],
   "source": [
    "def query_table_from_bq(table_name):\n",
    "    CREDS = 'is3107-418011-f63573e5e1f3.json'\n",
    "    credentials = service_account.Credentials.from_service_account_file(CREDS)\n",
    "    client = bigquery.Client(credentials=credentials)\n",
    "    job_config = bigquery.QueryJobConfig()\n",
    "\n",
    "    # Set the destination table\n",
    "    table = client.dataset(dataset_id='is3107-418011.is3107').table(table_id=f\"is3107-418011.is3107.{table_name}\")\n",
    "    job_config.destination = table\n",
    "    query = f\"SELECT * FROM `is3107-418011.is3107.{table_name}`\"\n",
    "    return client.query(query).to_dataframe()"
   ],
   "metadata": {
    "collapsed": false,
    "ExecuteTime": {
     "end_time": "2024-03-30T09:42:58.195382Z",
     "start_time": "2024-03-30T09:42:58.190345Z"
    }
   },
   "id": "556ff0407a948fe3",
   "execution_count": 2
  },
  {
   "cell_type": "code",
   "outputs": [
    {
     "data": {
      "text/plain": "        month\n0     January\n1    February\n2       March\n3       April\n4         May\n5        June\n6        July\n7      August\n8   September\n9     October\n10   November\n11   December",
      "text/html": "<div>\n<style scoped>\n    .dataframe tbody tr th:only-of-type {\n        vertical-align: middle;\n    }\n\n    .dataframe tbody tr th {\n        vertical-align: top;\n    }\n\n    .dataframe thead th {\n        text-align: right;\n    }\n</style>\n<table border=\"1\" class=\"dataframe\">\n  <thead>\n    <tr style=\"text-align: right;\">\n      <th></th>\n      <th>month</th>\n    </tr>\n  </thead>\n  <tbody>\n    <tr>\n      <th>0</th>\n      <td>January</td>\n    </tr>\n    <tr>\n      <th>1</th>\n      <td>February</td>\n    </tr>\n    <tr>\n      <th>2</th>\n      <td>March</td>\n    </tr>\n    <tr>\n      <th>3</th>\n      <td>April</td>\n    </tr>\n    <tr>\n      <th>4</th>\n      <td>May</td>\n    </tr>\n    <tr>\n      <th>5</th>\n      <td>June</td>\n    </tr>\n    <tr>\n      <th>6</th>\n      <td>July</td>\n    </tr>\n    <tr>\n      <th>7</th>\n      <td>August</td>\n    </tr>\n    <tr>\n      <th>8</th>\n      <td>September</td>\n    </tr>\n    <tr>\n      <th>9</th>\n      <td>October</td>\n    </tr>\n    <tr>\n      <th>10</th>\n      <td>November</td>\n    </tr>\n    <tr>\n      <th>11</th>\n      <td>December</td>\n    </tr>\n  </tbody>\n</table>\n</div>"
     },
     "execution_count": 3,
     "metadata": {},
     "output_type": "execute_result"
    }
   ],
   "source": [
    "query_table_from_bq(\"testing2\")"
   ],
   "metadata": {
    "collapsed": false,
    "ExecuteTime": {
     "end_time": "2024-03-30T09:43:00.310215Z",
     "start_time": "2024-03-30T09:42:59.587348Z"
    }
   },
   "id": "19cce99e2be78b17",
   "execution_count": 3
  }
 ],
 "metadata": {
  "kernelspec": {
   "display_name": "Python 3",
   "language": "python",
   "name": "python3"
  },
  "language_info": {
   "codemirror_mode": {
    "name": "ipython",
    "version": 2
   },
   "file_extension": ".py",
   "mimetype": "text/x-python",
   "name": "python",
   "nbconvert_exporter": "python",
   "pygments_lexer": "ipython2",
   "version": "2.7.6"
  }
 },
 "nbformat": 4,
 "nbformat_minor": 5
}
