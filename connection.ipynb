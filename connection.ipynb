{
 "cells": [
  {
   "cell_type": "code",
   "execution_count": 1,
   "id": "initial_id",
   "metadata": {
    "collapsed": true,
    "ExecuteTime": {
     "end_time": "2024-04-20T06:19:12.109070Z",
     "start_time": "2024-04-20T06:19:09.453994Z"
    }
   },
   "outputs": [],
   "source": [
    "from google.cloud import bigquery\n",
    "from google.oauth2 import service_account\n",
    "import pandas as pd"
   ]
  },
  {
   "cell_type": "code",
   "execution_count": 2,
   "id": "918cbbc5fb69c05",
   "metadata": {
    "collapsed": false,
    "ExecuteTime": {
     "end_time": "2024-04-20T06:19:12.220385Z",
     "start_time": "2024-04-20T06:19:12.146547Z"
    }
   },
   "outputs": [],
   "source": [
    "# CREDS = 'is3107-418808-5bca2b8d29d0.json'\n",
    "CREDS = 'is3107-418011-f63573e5e1f3.json'\n",
    "credentials = service_account.Credentials.from_service_account_file(CREDS)\n",
    "client = bigquery.Client(credentials=credentials)\n",
    "job_config = bigquery.QueryJobConfig()"
   ]
  },
  {
   "cell_type": "code",
   "execution_count": 3,
   "id": "90e0a8339705a875",
   "metadata": {
    "collapsed": false,
    "ExecuteTime": {
     "end_time": "2024-04-20T06:19:12.933467Z",
     "start_time": "2024-04-20T06:19:12.221441Z"
    }
   },
   "outputs": [
    {
     "name": "stdout",
     "output_type": "stream",
     "text": [
      "[<google.cloud.bigquery.dataset.DatasetListItem object at 0x111b82580>]\n",
      "Address\n",
      "Property\n",
      "Surroundings\n",
      "Transaction\n",
      "resale_price\n",
      "testing\n",
      "testing2\n"
     ]
    }
   ],
   "source": [
    "dataset_id='is3107-418011.is3107'       \n",
    "print(list(client.list_datasets(credentials.project_id)))\n",
    "tables = client.list_tables(dataset_id)  \n",
    "for table in tables:\n",
    "    print(table.table_id)"
   ]
  },
  {
   "cell_type": "code",
   "execution_count": 75,
   "id": "13298a4e7bf5400",
   "metadata": {
    "collapsed": false,
    "ExecuteTime": {
     "end_time": "2024-04-20T07:08:37.423286Z",
     "start_time": "2024-04-20T07:08:32.830861Z"
    }
   },
   "outputs": [
    {
     "name": "stderr",
     "output_type": "stream",
     "text": [
      "/var/folders/l5/0p3sf6hj6sqd3k5fbpl4prrw0000gn/T/ipykernel_30060/860810733.py:1: DtypeWarning: Columns (3) have mixed types. Specify dtype option on import or set low_memory=False.\n",
      "  df = pd.read_csv('ETL/01_Data_Collection/01_dataset/processed_data/filtered_df3.csv')\n"
     ]
    },
    {
     "data": {
      "text/plain": "     month        town flat_type block       street_name storey_range  \\\n0  2000-01  ANG MO KIO    3 ROOM   170  ANG MO KIO AVE 4     07 TO 09   \n1  2000-02  ANG MO KIO    3 ROOM   170  ANG MO KIO AVE 4     07 TO 09   \n2  2000-03  ANG MO KIO    2 ROOM   170  ANG MO KIO AVE 4     04 TO 06   \n3  2000-05  ANG MO KIO    2 ROOM   170  ANG MO KIO AVE 4     04 TO 06   \n4  2000-06  ANG MO KIO    2 ROOM   170  ANG MO KIO AVE 4     07 TO 09   \n\n   floor_area_sqm flat_model  lease_commence_date  resale_price  ...  \\\n0            69.0   Improved                 1986      147000.0  ...   \n1            60.0   Improved                 1986      130000.0  ...   \n2            45.0   Improved                 1986      105000.0  ...   \n3            45.0   Improved                 1986      125000.0  ...   \n4            45.0   Improved                 1986      117000.0  ...   \n\n  school_type  bus_stop_proximity         mrt_proximity  pri_sch_proximity  \\\n0       elite         3-5 minutes  more than 15 minutes        3-5 minutes   \n1       elite         3-5 minutes  more than 15 minutes        3-5 minutes   \n2       elite         3-5 minutes  more than 15 minutes        3-5 minutes   \n3       elite         3-5 minutes  more than 15 minutes        3-5 minutes   \n4       elite         3-5 minutes  more than 15 minutes        3-5 minutes   \n\n   sec_sch_proximity  latitude   longitude inflation  normalized_resale_price  \\\n0        3-5 minutes  1.374001  103.836432  1.322265            194372.998483   \n1        3-5 minutes  1.374001  103.836432  1.322265            171894.488454   \n2        3-5 minutes  1.374001  103.836432  1.322265            138837.856059   \n3        3-5 minutes  1.374001  103.836432  1.301036            162629.480554   \n4        3-5 minutes  1.374001  103.836432  1.301036            152221.193798   \n\n   index  \n0      0  \n1      1  \n2      2  \n3      3  \n4      4  \n\n[5 rows x 50 columns]",
      "text/html": "<div>\n<style scoped>\n    .dataframe tbody tr th:only-of-type {\n        vertical-align: middle;\n    }\n\n    .dataframe tbody tr th {\n        vertical-align: top;\n    }\n\n    .dataframe thead th {\n        text-align: right;\n    }\n</style>\n<table border=\"1\" class=\"dataframe\">\n  <thead>\n    <tr style=\"text-align: right;\">\n      <th></th>\n      <th>month</th>\n      <th>town</th>\n      <th>flat_type</th>\n      <th>block</th>\n      <th>street_name</th>\n      <th>storey_range</th>\n      <th>floor_area_sqm</th>\n      <th>flat_model</th>\n      <th>lease_commence_date</th>\n      <th>resale_price</th>\n      <th>...</th>\n      <th>school_type</th>\n      <th>bus_stop_proximity</th>\n      <th>mrt_proximity</th>\n      <th>pri_sch_proximity</th>\n      <th>sec_sch_proximity</th>\n      <th>latitude</th>\n      <th>longitude</th>\n      <th>inflation</th>\n      <th>normalized_resale_price</th>\n      <th>index</th>\n    </tr>\n  </thead>\n  <tbody>\n    <tr>\n      <th>0</th>\n      <td>2000-01</td>\n      <td>ANG MO KIO</td>\n      <td>3 ROOM</td>\n      <td>170</td>\n      <td>ANG MO KIO AVE 4</td>\n      <td>07 TO 09</td>\n      <td>69.0</td>\n      <td>Improved</td>\n      <td>1986</td>\n      <td>147000.0</td>\n      <td>...</td>\n      <td>elite</td>\n      <td>3-5 minutes</td>\n      <td>more than 15 minutes</td>\n      <td>3-5 minutes</td>\n      <td>3-5 minutes</td>\n      <td>1.374001</td>\n      <td>103.836432</td>\n      <td>1.322265</td>\n      <td>194372.998483</td>\n      <td>0</td>\n    </tr>\n    <tr>\n      <th>1</th>\n      <td>2000-02</td>\n      <td>ANG MO KIO</td>\n      <td>3 ROOM</td>\n      <td>170</td>\n      <td>ANG MO KIO AVE 4</td>\n      <td>07 TO 09</td>\n      <td>60.0</td>\n      <td>Improved</td>\n      <td>1986</td>\n      <td>130000.0</td>\n      <td>...</td>\n      <td>elite</td>\n      <td>3-5 minutes</td>\n      <td>more than 15 minutes</td>\n      <td>3-5 minutes</td>\n      <td>3-5 minutes</td>\n      <td>1.374001</td>\n      <td>103.836432</td>\n      <td>1.322265</td>\n      <td>171894.488454</td>\n      <td>1</td>\n    </tr>\n    <tr>\n      <th>2</th>\n      <td>2000-03</td>\n      <td>ANG MO KIO</td>\n      <td>2 ROOM</td>\n      <td>170</td>\n      <td>ANG MO KIO AVE 4</td>\n      <td>04 TO 06</td>\n      <td>45.0</td>\n      <td>Improved</td>\n      <td>1986</td>\n      <td>105000.0</td>\n      <td>...</td>\n      <td>elite</td>\n      <td>3-5 minutes</td>\n      <td>more than 15 minutes</td>\n      <td>3-5 minutes</td>\n      <td>3-5 minutes</td>\n      <td>1.374001</td>\n      <td>103.836432</td>\n      <td>1.322265</td>\n      <td>138837.856059</td>\n      <td>2</td>\n    </tr>\n    <tr>\n      <th>3</th>\n      <td>2000-05</td>\n      <td>ANG MO KIO</td>\n      <td>2 ROOM</td>\n      <td>170</td>\n      <td>ANG MO KIO AVE 4</td>\n      <td>04 TO 06</td>\n      <td>45.0</td>\n      <td>Improved</td>\n      <td>1986</td>\n      <td>125000.0</td>\n      <td>...</td>\n      <td>elite</td>\n      <td>3-5 minutes</td>\n      <td>more than 15 minutes</td>\n      <td>3-5 minutes</td>\n      <td>3-5 minutes</td>\n      <td>1.374001</td>\n      <td>103.836432</td>\n      <td>1.301036</td>\n      <td>162629.480554</td>\n      <td>3</td>\n    </tr>\n    <tr>\n      <th>4</th>\n      <td>2000-06</td>\n      <td>ANG MO KIO</td>\n      <td>2 ROOM</td>\n      <td>170</td>\n      <td>ANG MO KIO AVE 4</td>\n      <td>07 TO 09</td>\n      <td>45.0</td>\n      <td>Improved</td>\n      <td>1986</td>\n      <td>117000.0</td>\n      <td>...</td>\n      <td>elite</td>\n      <td>3-5 minutes</td>\n      <td>more than 15 minutes</td>\n      <td>3-5 minutes</td>\n      <td>3-5 minutes</td>\n      <td>1.374001</td>\n      <td>103.836432</td>\n      <td>1.301036</td>\n      <td>152221.193798</td>\n      <td>4</td>\n    </tr>\n  </tbody>\n</table>\n<p>5 rows × 50 columns</p>\n</div>"
     },
     "execution_count": 75,
     "metadata": {},
     "output_type": "execute_result"
    }
   ],
   "source": [
    "df = pd.read_csv('ETL/01_Data_Collection/01_dataset/processed_data/filtered_df3.csv')\n",
    "df.head()"
   ]
  },
  {
   "cell_type": "code",
   "execution_count": 76,
   "id": "93f7cac61cc6be5c",
   "metadata": {
    "collapsed": false,
    "ExecuteTime": {
     "end_time": "2024-04-20T07:08:39.737526Z",
     "start_time": "2024-04-20T07:08:38.990530Z"
    }
   },
   "outputs": [
    {
     "name": "stdout",
     "output_type": "stream",
     "text": [
      "Columns with mixed data types:\n",
      "Index(['month', 'town', 'flat_type', 'block', 'street_name', 'storey_range',\n",
      "       'flat_model', 'address', 'planning_area', 'mrt_name', 'bus_stop_name',\n",
      "       'pri_sch_name', 'sec_sch_name', 'flat_type_model', 'school_type',\n",
      "       'bus_stop_proximity', 'mrt_proximity', 'pri_sch_proximity',\n",
      "       'sec_sch_proximity'],\n",
      "      dtype='object')\n"
     ]
    }
   ],
   "source": [
    "mixed_type_columns = df.select_dtypes(include='object').columns\n",
    "\n",
    "if mixed_type_columns.empty:\n",
    "    print(\"No columns with mixed data types.\")\n",
    "else:\n",
    "    print(\"Columns with mixed data types:\")\n",
    "    print(mixed_type_columns)\n",
    "    \n",
    "df[mixed_type_columns] = df[mixed_type_columns].astype(str)"
   ]
  },
  {
   "cell_type": "code",
   "execution_count": 7,
   "id": "847aef74",
   "metadata": {
    "ExecuteTime": {
     "end_time": "2024-04-20T06:20:31.488264Z",
     "start_time": "2024-04-20T06:20:31.482291Z"
    }
   },
   "outputs": [
    {
     "data": {
      "text/plain": "50"
     },
     "execution_count": 7,
     "metadata": {},
     "output_type": "execute_result"
    }
   ],
   "source": [
    "len(df.columns)"
   ]
  },
  {
   "cell_type": "code",
   "execution_count": 86,
   "id": "cfb95642",
   "metadata": {
    "ExecuteTime": {
     "end_time": "2024-04-20T07:11:57.307087Z",
     "start_time": "2024-04-20T07:11:54.648179Z"
    }
   },
   "outputs": [],
   "source": [
    "property_id = ['flat_type', 'flat_model', 'flat_type_model',\n",
    "                  'floor_area_sqm', 'lease_commence_date', 'storey_range',\n",
    "                  'avg_storey_range', 'total_dwelling_units']\n",
    "address_id = ['postal','address', 'town', 'block', 'street_name', \n",
    "                          'planning_area', 'latitude', 'longitude']\n",
    "surroundings_id = ['commercial', 'market_hawker', 'multistorey_carpark', 'precinct_pavilion',\n",
    "                 'mall_nearest_distance', 'hawker_nearest_distance',\n",
    "                               'hawker_food_stalls', 'hawker_market_stalls', 'mrt_nearest_distance', 'mrt_name', 'bus_interchange', 'mrt_interchange', 'bus_stop_nearest_distance', 'bus_stop_name',\n",
    "                               'pri_sch_nearest_distance', 'pri_sch_name', 'vacancy', 'pri_sch_affiliation',\n",
    "                               'sec_sch_nearest_dist', 'sec_sch_name', 'cutoff_point', 'affiliation', 'school_type',\n",
    "                               'bus_stop_proximity', 'mrt_proximity', 'pri_sch_proximity', 'sec_sch_proximity']\n",
    "transaction_id = ['month', 'year', 'quarter', 'inflation', 'normalized_resale_price']\n",
    "\n",
    "\n",
    "property_df = df[property_id].copy().drop_duplicates()\n",
    "property_df[\"property_id\"] = [i for i in range(1 , len(property_df) + 1)]\n",
    "\n",
    "\n",
    "address_df = df[address_id].copy().drop_duplicates()\n",
    "address_df[\"address_id\"] = [i for i in range(1 , len(address_df) + 1)]\n",
    "\n",
    "surroundings_df = df[surroundings_id].copy().drop_duplicates()\n",
    "surroundings_df[\"surroundings_id\"] = [i for i in range(1 , len(surroundings_df) + 1)]\n",
    "\n",
    "transaction_df = df[transaction_id].copy().drop_duplicates()\n",
    "transaction_df[\"transaction_id\"] = [i for i in range(1 , len(transaction_df) + 1)]\n",
    "\n",
    "resale_data = df.copy()"
   ]
  },
  {
   "cell_type": "code",
   "outputs": [
    {
     "data": {
      "text/plain": "       flat_type flat_model  flat_type_model  floor_area_sqm  \\\n0         3 ROOM   Improved  3 ROOM Improved            69.0   \n1         3 ROOM   Improved  3 ROOM Improved            60.0   \n2         2 ROOM   Improved  2 ROOM Improved            45.0   \n4         2 ROOM   Improved  2 ROOM Improved            45.0   \n5         3 ROOM   Improved  3 ROOM Improved            69.0   \n...          ...        ...              ...             ...   \n717031    4 ROOM    Model A   4 ROOM Model A            94.0   \n717033    5 ROOM   Improved  5 ROOM Improved           114.0   \n717037    5 ROOM   Improved  5 ROOM Improved           114.0   \n717048    4 ROOM    Model A   4 ROOM Model A            94.0   \n717054    5 ROOM   Improved  5 ROOM Improved           114.0   \n\n        lease_commence_date storey_range  avg_storey_range  \\\n0                      1986     07 TO 09               8.0   \n1                      1986     07 TO 09               8.0   \n2                      1986     04 TO 06               5.0   \n4                      1986     07 TO 09               8.0   \n5                      1986     04 TO 06               5.0   \n...                     ...          ...               ...   \n717031                 2017     13 TO 15              14.0   \n717033                 2017     01 TO 03               2.0   \n717037                 2017     04 TO 06               5.0   \n717048                 2017     07 TO 09               8.0   \n717054                 2017     16 TO 18              17.0   \n\n        total_dwelling_units  property_id  \n0                        179            1  \n1                        179            2  \n2                        179            3  \n4                        179            4  \n5                        179            5  \n...                      ...          ...  \n717031                   110       105736  \n717033                   110       105737  \n717037                   110       105738  \n717048                   110       105739  \n717054                   110       105740  \n\n[105740 rows x 9 columns]",
      "text/html": "<div>\n<style scoped>\n    .dataframe tbody tr th:only-of-type {\n        vertical-align: middle;\n    }\n\n    .dataframe tbody tr th {\n        vertical-align: top;\n    }\n\n    .dataframe thead th {\n        text-align: right;\n    }\n</style>\n<table border=\"1\" class=\"dataframe\">\n  <thead>\n    <tr style=\"text-align: right;\">\n      <th></th>\n      <th>flat_type</th>\n      <th>flat_model</th>\n      <th>flat_type_model</th>\n      <th>floor_area_sqm</th>\n      <th>lease_commence_date</th>\n      <th>storey_range</th>\n      <th>avg_storey_range</th>\n      <th>total_dwelling_units</th>\n      <th>property_id</th>\n    </tr>\n  </thead>\n  <tbody>\n    <tr>\n      <th>0</th>\n      <td>3 ROOM</td>\n      <td>Improved</td>\n      <td>3 ROOM Improved</td>\n      <td>69.0</td>\n      <td>1986</td>\n      <td>07 TO 09</td>\n      <td>8.0</td>\n      <td>179</td>\n      <td>1</td>\n    </tr>\n    <tr>\n      <th>1</th>\n      <td>3 ROOM</td>\n      <td>Improved</td>\n      <td>3 ROOM Improved</td>\n      <td>60.0</td>\n      <td>1986</td>\n      <td>07 TO 09</td>\n      <td>8.0</td>\n      <td>179</td>\n      <td>2</td>\n    </tr>\n    <tr>\n      <th>2</th>\n      <td>2 ROOM</td>\n      <td>Improved</td>\n      <td>2 ROOM Improved</td>\n      <td>45.0</td>\n      <td>1986</td>\n      <td>04 TO 06</td>\n      <td>5.0</td>\n      <td>179</td>\n      <td>3</td>\n    </tr>\n    <tr>\n      <th>4</th>\n      <td>2 ROOM</td>\n      <td>Improved</td>\n      <td>2 ROOM Improved</td>\n      <td>45.0</td>\n      <td>1986</td>\n      <td>07 TO 09</td>\n      <td>8.0</td>\n      <td>179</td>\n      <td>4</td>\n    </tr>\n    <tr>\n      <th>5</th>\n      <td>3 ROOM</td>\n      <td>Improved</td>\n      <td>3 ROOM Improved</td>\n      <td>69.0</td>\n      <td>1986</td>\n      <td>04 TO 06</td>\n      <td>5.0</td>\n      <td>179</td>\n      <td>5</td>\n    </tr>\n    <tr>\n      <th>...</th>\n      <td>...</td>\n      <td>...</td>\n      <td>...</td>\n      <td>...</td>\n      <td>...</td>\n      <td>...</td>\n      <td>...</td>\n      <td>...</td>\n      <td>...</td>\n    </tr>\n    <tr>\n      <th>717031</th>\n      <td>4 ROOM</td>\n      <td>Model A</td>\n      <td>4 ROOM Model A</td>\n      <td>94.0</td>\n      <td>2017</td>\n      <td>13 TO 15</td>\n      <td>14.0</td>\n      <td>110</td>\n      <td>105736</td>\n    </tr>\n    <tr>\n      <th>717033</th>\n      <td>5 ROOM</td>\n      <td>Improved</td>\n      <td>5 ROOM Improved</td>\n      <td>114.0</td>\n      <td>2017</td>\n      <td>01 TO 03</td>\n      <td>2.0</td>\n      <td>110</td>\n      <td>105737</td>\n    </tr>\n    <tr>\n      <th>717037</th>\n      <td>5 ROOM</td>\n      <td>Improved</td>\n      <td>5 ROOM Improved</td>\n      <td>114.0</td>\n      <td>2017</td>\n      <td>04 TO 06</td>\n      <td>5.0</td>\n      <td>110</td>\n      <td>105738</td>\n    </tr>\n    <tr>\n      <th>717048</th>\n      <td>4 ROOM</td>\n      <td>Model A</td>\n      <td>4 ROOM Model A</td>\n      <td>94.0</td>\n      <td>2017</td>\n      <td>07 TO 09</td>\n      <td>8.0</td>\n      <td>110</td>\n      <td>105739</td>\n    </tr>\n    <tr>\n      <th>717054</th>\n      <td>5 ROOM</td>\n      <td>Improved</td>\n      <td>5 ROOM Improved</td>\n      <td>114.0</td>\n      <td>2017</td>\n      <td>16 TO 18</td>\n      <td>17.0</td>\n      <td>110</td>\n      <td>105740</td>\n    </tr>\n  </tbody>\n</table>\n<p>105740 rows × 9 columns</p>\n</div>"
     },
     "execution_count": 104,
     "metadata": {},
     "output_type": "execute_result"
    }
   ],
   "source": [
    "property_df"
   ],
   "metadata": {
    "collapsed": false,
    "ExecuteTime": {
     "end_time": "2024-04-20T09:36:15.585011Z",
     "start_time": "2024-04-20T09:36:15.563892Z"
    }
   },
   "id": "dac38f2c519c475",
   "execution_count": 104
  },
  {
   "cell_type": "code",
   "outputs": [
    {
     "data": {
      "text/plain": "'Improved'"
     },
     "execution_count": 106,
     "metadata": {},
     "output_type": "execute_result"
    }
   ],
   "source": [
    "property_df[\"flat_model\"][0]"
   ],
   "metadata": {
    "collapsed": false,
    "ExecuteTime": {
     "end_time": "2024-04-20T10:00:31.494691Z",
     "start_time": "2024-04-20T10:00:31.466639Z"
    }
   },
   "id": "8e9ac480b61da803",
   "execution_count": 106
  },
  {
   "cell_type": "code",
   "outputs": [
    {
     "data": {
      "text/plain": "['flat_type',\n 'flat_model',\n 'flat_type_model',\n 'floor_area_sqm',\n 'lease_commence_date',\n 'storey_range',\n 'avg_storey_range',\n 'total_dwelling_units']"
     },
     "execution_count": 105,
     "metadata": {},
     "output_type": "execute_result"
    }
   ],
   "source": [
    "property_id"
   ],
   "metadata": {
    "collapsed": false,
    "ExecuteTime": {
     "end_time": "2024-04-20T09:36:50.821088Z",
     "start_time": "2024-04-20T09:36:50.816468Z"
    }
   },
   "id": "bcb81cfa2cada509",
   "execution_count": 105
  },
  {
   "cell_type": "code",
   "outputs": [
    {
     "data": {
      "text/plain": "        resale_price   index  property_id  address_id  surroundings_id  \\\n0           147000.0       0            1           1                1   \n1           130000.0       1            2           1                1   \n2           105000.0       2            3           1                1   \n3           125000.0       3            3           1                1   \n4           117000.0       4            4           1                1   \n...              ...     ...          ...         ...              ...   \n717064      758000.0  717064       105738        9013             8992   \n717065      795000.0  717065       105733        9013             8992   \n717066      680000.0  717066       105735        9013             8992   \n717067      818000.0  717067       105733        9013             8992   \n717068      816000.0  717068       105734        9013             8992   \n\n        transaction_id  \n0                    1  \n1                    2  \n2                    3  \n3                    4  \n4                    5  \n...                ...  \n717064           97958  \n717065          155177  \n717066           74794  \n717067           30917  \n717068          125479  \n\n[717069 rows x 6 columns]",
      "text/html": "<div>\n<style scoped>\n    .dataframe tbody tr th:only-of-type {\n        vertical-align: middle;\n    }\n\n    .dataframe tbody tr th {\n        vertical-align: top;\n    }\n\n    .dataframe thead th {\n        text-align: right;\n    }\n</style>\n<table border=\"1\" class=\"dataframe\">\n  <thead>\n    <tr style=\"text-align: right;\">\n      <th></th>\n      <th>resale_price</th>\n      <th>index</th>\n      <th>property_id</th>\n      <th>address_id</th>\n      <th>surroundings_id</th>\n      <th>transaction_id</th>\n    </tr>\n  </thead>\n  <tbody>\n    <tr>\n      <th>0</th>\n      <td>147000.0</td>\n      <td>0</td>\n      <td>1</td>\n      <td>1</td>\n      <td>1</td>\n      <td>1</td>\n    </tr>\n    <tr>\n      <th>1</th>\n      <td>130000.0</td>\n      <td>1</td>\n      <td>2</td>\n      <td>1</td>\n      <td>1</td>\n      <td>2</td>\n    </tr>\n    <tr>\n      <th>2</th>\n      <td>105000.0</td>\n      <td>2</td>\n      <td>3</td>\n      <td>1</td>\n      <td>1</td>\n      <td>3</td>\n    </tr>\n    <tr>\n      <th>3</th>\n      <td>125000.0</td>\n      <td>3</td>\n      <td>3</td>\n      <td>1</td>\n      <td>1</td>\n      <td>4</td>\n    </tr>\n    <tr>\n      <th>4</th>\n      <td>117000.0</td>\n      <td>4</td>\n      <td>4</td>\n      <td>1</td>\n      <td>1</td>\n      <td>5</td>\n    </tr>\n    <tr>\n      <th>...</th>\n      <td>...</td>\n      <td>...</td>\n      <td>...</td>\n      <td>...</td>\n      <td>...</td>\n      <td>...</td>\n    </tr>\n    <tr>\n      <th>717064</th>\n      <td>758000.0</td>\n      <td>717064</td>\n      <td>105738</td>\n      <td>9013</td>\n      <td>8992</td>\n      <td>97958</td>\n    </tr>\n    <tr>\n      <th>717065</th>\n      <td>795000.0</td>\n      <td>717065</td>\n      <td>105733</td>\n      <td>9013</td>\n      <td>8992</td>\n      <td>155177</td>\n    </tr>\n    <tr>\n      <th>717066</th>\n      <td>680000.0</td>\n      <td>717066</td>\n      <td>105735</td>\n      <td>9013</td>\n      <td>8992</td>\n      <td>74794</td>\n    </tr>\n    <tr>\n      <th>717067</th>\n      <td>818000.0</td>\n      <td>717067</td>\n      <td>105733</td>\n      <td>9013</td>\n      <td>8992</td>\n      <td>30917</td>\n    </tr>\n    <tr>\n      <th>717068</th>\n      <td>816000.0</td>\n      <td>717068</td>\n      <td>105734</td>\n      <td>9013</td>\n      <td>8992</td>\n      <td>125479</td>\n    </tr>\n  </tbody>\n</table>\n<p>717069 rows × 6 columns</p>\n</div>"
     },
     "metadata": {},
     "output_type": "display_data"
    }
   ],
   "source": [
    "# Merge to map IDs back to the main DataFrame\n",
    "resale_data = resale_data.merge(property_df, on=property_id, how='left')\n",
    "resale_data = resale_data.merge(address_df, on=address_id, how='left')\n",
    "resale_data = resale_data.merge(surroundings_df, on=surroundings_id, how='left')\n",
    "resale_data = resale_data.merge(transaction_df, on=transaction_id, how='left')\n",
    "\n",
    "all_ids = set(property_id + address_id + surroundings_id + transaction_id)\n",
    "resale_data.drop(columns=list(all_ids), inplace=True)\n",
    "\n",
    "display(resale_data)"
   ],
   "metadata": {
    "collapsed": false,
    "ExecuteTime": {
     "end_time": "2024-04-20T07:11:59.480255Z",
     "start_time": "2024-04-20T07:11:57.401911Z"
    }
   },
   "id": "a9f81bd38c0c3c8c",
   "execution_count": 87
  },
  {
   "cell_type": "code",
   "outputs": [
    {
     "data": {
      "text/plain": "                    flat_model        town\n0                     improved  ang mo kio\n168              adjoined flat  ang mo kio\n342             new generation  ang mo kio\n12035                  model a  ang mo kio\n15608                 standard  ang mo kio\n...                        ...         ...\n711162                    dbss     hougang\n712516                    dbss    clementi\n713666  premium apartment loft  queenstown\n713670       premium apartment  queenstown\n715462                    dbss   pasir ris\n\n[236 rows x 2 columns]",
      "text/html": "<div>\n<style scoped>\n    .dataframe tbody tr th:only-of-type {\n        vertical-align: middle;\n    }\n\n    .dataframe tbody tr th {\n        vertical-align: top;\n    }\n\n    .dataframe thead th {\n        text-align: right;\n    }\n</style>\n<table border=\"1\" class=\"dataframe\">\n  <thead>\n    <tr style=\"text-align: right;\">\n      <th></th>\n      <th>flat_model</th>\n      <th>town</th>\n    </tr>\n  </thead>\n  <tbody>\n    <tr>\n      <th>0</th>\n      <td>improved</td>\n      <td>ang mo kio</td>\n    </tr>\n    <tr>\n      <th>168</th>\n      <td>adjoined flat</td>\n      <td>ang mo kio</td>\n    </tr>\n    <tr>\n      <th>342</th>\n      <td>new generation</td>\n      <td>ang mo kio</td>\n    </tr>\n    <tr>\n      <th>12035</th>\n      <td>model a</td>\n      <td>ang mo kio</td>\n    </tr>\n    <tr>\n      <th>15608</th>\n      <td>standard</td>\n      <td>ang mo kio</td>\n    </tr>\n    <tr>\n      <th>...</th>\n      <td>...</td>\n      <td>...</td>\n    </tr>\n    <tr>\n      <th>711162</th>\n      <td>dbss</td>\n      <td>hougang</td>\n    </tr>\n    <tr>\n      <th>712516</th>\n      <td>dbss</td>\n      <td>clementi</td>\n    </tr>\n    <tr>\n      <th>713666</th>\n      <td>premium apartment loft</td>\n      <td>queenstown</td>\n    </tr>\n    <tr>\n      <th>713670</th>\n      <td>premium apartment</td>\n      <td>queenstown</td>\n    </tr>\n    <tr>\n      <th>715462</th>\n      <td>dbss</td>\n      <td>pasir ris</td>\n    </tr>\n  </tbody>\n</table>\n<p>236 rows × 2 columns</p>\n</div>"
     },
     "execution_count": 110,
     "metadata": {},
     "output_type": "execute_result"
    }
   ],
   "source": [
    "unique_pair = df[['flat_model', 'town']].apply(lambda x: x.str.lower()).drop_duplicates()\n",
    "\n",
    "# Display the resulting DataFrame with unique pairs\n",
    "unique_pair"
   ],
   "metadata": {
    "collapsed": false,
    "ExecuteTime": {
     "end_time": "2024-04-20T15:48:50.439107Z",
     "start_time": "2024-04-20T15:48:50.089875Z"
    }
   },
   "id": "f130d37714fab4c5",
   "execution_count": 110
  },
  {
   "cell_type": "code",
   "outputs": [
    {
     "ename": "ValueError",
     "evalue": "Columns must be same length as key",
     "output_type": "error",
     "traceback": [
      "\u001B[0;31m---------------------------------------------------------------------------\u001B[0m",
      "\u001B[0;31mValueError\u001B[0m                                Traceback (most recent call last)",
      "\u001B[0;32m/var/folders/l5/0p3sf6hj6sqd3k5fbpl4prrw0000gn/T/ipykernel_30060/2965150503.py\u001B[0m in \u001B[0;36m?\u001B[0;34m()\u001B[0m\n\u001B[0;32m----> 2\u001B[0;31m \u001B[0mresale_data\u001B[0m \u001B[0;34m=\u001B[0m \u001B[0mdf\u001B[0m\u001B[0;34m.\u001B[0m\u001B[0mcopy\u001B[0m\u001B[0;34m(\u001B[0m\u001B[0;34m)\u001B[0m\u001B[0;34m\u001B[0m\u001B[0;34m\u001B[0m\u001B[0m\n\u001B[0m\u001B[1;32m      3\u001B[0m \u001B[0mresale_data\u001B[0m\u001B[0;34m[\u001B[0m\u001B[0mproperty_id\u001B[0m\u001B[0;34m]\u001B[0m \u001B[0;34m=\u001B[0m \u001B[0mresale_data\u001B[0m\u001B[0;34m[\u001B[0m\u001B[0;34m'index'\u001B[0m\u001B[0;34m]\u001B[0m\u001B[0;34m.\u001B[0m\u001B[0mmap\u001B[0m\u001B[0;34m(\u001B[0m\u001B[0mproperty_df\u001B[0m\u001B[0;34m.\u001B[0m\u001B[0mset_index\u001B[0m\u001B[0;34m(\u001B[0m\u001B[0mproperty_id\u001B[0m\u001B[0;34m)\u001B[0m\u001B[0;34m[\u001B[0m\u001B[0;34m'property_id'\u001B[0m\u001B[0;34m]\u001B[0m\u001B[0;34m)\u001B[0m\u001B[0;34m\u001B[0m\u001B[0;34m\u001B[0m\u001B[0m\n\u001B[1;32m      4\u001B[0m \u001B[0mresale_data\u001B[0m\u001B[0;34m[\u001B[0m\u001B[0;34m\"address_id\"\u001B[0m\u001B[0;34m]\u001B[0m \u001B[0;34m=\u001B[0m \u001B[0mresale_data\u001B[0m\u001B[0;34m[\u001B[0m\u001B[0;34m'index'\u001B[0m\u001B[0;34m]\u001B[0m\u001B[0;34m.\u001B[0m\u001B[0mmap\u001B[0m\u001B[0;34m(\u001B[0m\u001B[0maddress_df\u001B[0m\u001B[0;34m.\u001B[0m\u001B[0mset_index\u001B[0m\u001B[0;34m(\u001B[0m\u001B[0;34m'index'\u001B[0m\u001B[0;34m)\u001B[0m\u001B[0;34m[\u001B[0m\u001B[0;34m'address_id'\u001B[0m\u001B[0;34m]\u001B[0m\u001B[0;34m)\u001B[0m\u001B[0;34m\u001B[0m\u001B[0;34m\u001B[0m\u001B[0m\n\u001B[1;32m      5\u001B[0m \u001B[0mresale_data\u001B[0m\u001B[0;34m[\u001B[0m\u001B[0;34m\"surroundings_id\"\u001B[0m\u001B[0;34m]\u001B[0m \u001B[0;34m=\u001B[0m \u001B[0mresale_data\u001B[0m\u001B[0;34m[\u001B[0m\u001B[0;34m'index'\u001B[0m\u001B[0;34m]\u001B[0m\u001B[0;34m.\u001B[0m\u001B[0mmap\u001B[0m\u001B[0;34m(\u001B[0m\u001B[0msurroundings_df\u001B[0m\u001B[0;34m.\u001B[0m\u001B[0mset_index\u001B[0m\u001B[0;34m(\u001B[0m\u001B[0;34m'index'\u001B[0m\u001B[0;34m)\u001B[0m\u001B[0;34m[\u001B[0m\u001B[0;34m'surroundings_id'\u001B[0m\u001B[0;34m]\u001B[0m\u001B[0;34m)\u001B[0m\u001B[0;34m\u001B[0m\u001B[0;34m\u001B[0m\u001B[0m\n",
      "\u001B[0;32m~/miniforge3/envs/DataEngine/lib/python3.9/site-packages/pandas/core/frame.py\u001B[0m in \u001B[0;36m?\u001B[0;34m(self, key, value)\u001B[0m\n\u001B[1;32m   4075\u001B[0m \u001B[0;34m\u001B[0m\u001B[0m\n\u001B[1;32m   4076\u001B[0m         \u001B[0;32mif\u001B[0m \u001B[0misinstance\u001B[0m\u001B[0;34m(\u001B[0m\u001B[0mkey\u001B[0m\u001B[0;34m,\u001B[0m \u001B[0mDataFrame\u001B[0m\u001B[0;34m)\u001B[0m \u001B[0;32mor\u001B[0m \u001B[0mgetattr\u001B[0m\u001B[0;34m(\u001B[0m\u001B[0mkey\u001B[0m\u001B[0;34m,\u001B[0m \u001B[0;34m\"ndim\"\u001B[0m\u001B[0;34m,\u001B[0m \u001B[0;32mNone\u001B[0m\u001B[0;34m)\u001B[0m \u001B[0;34m==\u001B[0m \u001B[0;36m2\u001B[0m\u001B[0;34m:\u001B[0m\u001B[0;34m\u001B[0m\u001B[0;34m\u001B[0m\u001B[0m\n\u001B[1;32m   4077\u001B[0m             \u001B[0mself\u001B[0m\u001B[0;34m.\u001B[0m\u001B[0m_setitem_frame\u001B[0m\u001B[0;34m(\u001B[0m\u001B[0mkey\u001B[0m\u001B[0;34m,\u001B[0m \u001B[0mvalue\u001B[0m\u001B[0;34m)\u001B[0m\u001B[0;34m\u001B[0m\u001B[0;34m\u001B[0m\u001B[0m\n\u001B[1;32m   4078\u001B[0m         \u001B[0;32melif\u001B[0m \u001B[0misinstance\u001B[0m\u001B[0;34m(\u001B[0m\u001B[0mkey\u001B[0m\u001B[0;34m,\u001B[0m \u001B[0;34m(\u001B[0m\u001B[0mSeries\u001B[0m\u001B[0;34m,\u001B[0m \u001B[0mnp\u001B[0m\u001B[0;34m.\u001B[0m\u001B[0mndarray\u001B[0m\u001B[0;34m,\u001B[0m \u001B[0mlist\u001B[0m\u001B[0;34m,\u001B[0m \u001B[0mIndex\u001B[0m\u001B[0;34m)\u001B[0m\u001B[0;34m)\u001B[0m\u001B[0;34m:\u001B[0m\u001B[0;34m\u001B[0m\u001B[0;34m\u001B[0m\u001B[0m\n\u001B[0;32m-> 4079\u001B[0;31m             \u001B[0mself\u001B[0m\u001B[0;34m.\u001B[0m\u001B[0m_setitem_array\u001B[0m\u001B[0;34m(\u001B[0m\u001B[0mkey\u001B[0m\u001B[0;34m,\u001B[0m \u001B[0mvalue\u001B[0m\u001B[0;34m)\u001B[0m\u001B[0;34m\u001B[0m\u001B[0;34m\u001B[0m\u001B[0m\n\u001B[0m\u001B[1;32m   4080\u001B[0m         \u001B[0;32melif\u001B[0m \u001B[0misinstance\u001B[0m\u001B[0;34m(\u001B[0m\u001B[0mvalue\u001B[0m\u001B[0;34m,\u001B[0m \u001B[0mDataFrame\u001B[0m\u001B[0;34m)\u001B[0m\u001B[0;34m:\u001B[0m\u001B[0;34m\u001B[0m\u001B[0;34m\u001B[0m\u001B[0m\n\u001B[1;32m   4081\u001B[0m             \u001B[0mself\u001B[0m\u001B[0;34m.\u001B[0m\u001B[0m_set_item_frame_value\u001B[0m\u001B[0;34m(\u001B[0m\u001B[0mkey\u001B[0m\u001B[0;34m,\u001B[0m \u001B[0mvalue\u001B[0m\u001B[0;34m)\u001B[0m\u001B[0;34m\u001B[0m\u001B[0;34m\u001B[0m\u001B[0m\n\u001B[1;32m   4082\u001B[0m         elif (\n",
      "\u001B[0;32m~/miniforge3/envs/DataEngine/lib/python3.9/site-packages/pandas/core/frame.py\u001B[0m in \u001B[0;36m?\u001B[0;34m(self, key, value)\u001B[0m\n\u001B[1;32m   4134\u001B[0m                 \u001B[0mvalue\u001B[0m \u001B[0;34m=\u001B[0m \u001B[0mDataFrame\u001B[0m\u001B[0;34m(\u001B[0m\u001B[0mvalue\u001B[0m\u001B[0;34m)\u001B[0m\u001B[0;34m.\u001B[0m\u001B[0mvalues\u001B[0m\u001B[0;34m\u001B[0m\u001B[0;34m\u001B[0m\u001B[0m\n\u001B[1;32m   4135\u001B[0m                 \u001B[0;32mreturn\u001B[0m \u001B[0mself\u001B[0m\u001B[0;34m.\u001B[0m\u001B[0m_setitem_array\u001B[0m\u001B[0;34m(\u001B[0m\u001B[0mkey\u001B[0m\u001B[0;34m,\u001B[0m \u001B[0mvalue\u001B[0m\u001B[0;34m)\u001B[0m\u001B[0;34m\u001B[0m\u001B[0;34m\u001B[0m\u001B[0m\n\u001B[1;32m   4136\u001B[0m \u001B[0;34m\u001B[0m\u001B[0m\n\u001B[1;32m   4137\u001B[0m             \u001B[0;32melse\u001B[0m\u001B[0;34m:\u001B[0m\u001B[0;34m\u001B[0m\u001B[0;34m\u001B[0m\u001B[0m\n\u001B[0;32m-> 4138\u001B[0;31m                 \u001B[0mself\u001B[0m\u001B[0;34m.\u001B[0m\u001B[0m_iset_not_inplace\u001B[0m\u001B[0;34m(\u001B[0m\u001B[0mkey\u001B[0m\u001B[0;34m,\u001B[0m \u001B[0mvalue\u001B[0m\u001B[0;34m)\u001B[0m\u001B[0;34m\u001B[0m\u001B[0;34m\u001B[0m\u001B[0m\n\u001B[0m",
      "\u001B[0;32m~/miniforge3/envs/DataEngine/lib/python3.9/site-packages/pandas/core/frame.py\u001B[0m in \u001B[0;36m?\u001B[0;34m(self, key, value)\u001B[0m\n\u001B[1;32m   4153\u001B[0m                 \u001B[0;32mreturn\u001B[0m \u001B[0mobj\u001B[0m\u001B[0;34m[\u001B[0m\u001B[0mi\u001B[0m\u001B[0;34m]\u001B[0m\u001B[0;34m\u001B[0m\u001B[0;34m\u001B[0m\u001B[0m\n\u001B[1;32m   4154\u001B[0m \u001B[0;34m\u001B[0m\u001B[0m\n\u001B[1;32m   4155\u001B[0m         \u001B[0;32mif\u001B[0m \u001B[0mself\u001B[0m\u001B[0;34m.\u001B[0m\u001B[0mcolumns\u001B[0m\u001B[0;34m.\u001B[0m\u001B[0mis_unique\u001B[0m\u001B[0;34m:\u001B[0m\u001B[0;34m\u001B[0m\u001B[0;34m\u001B[0m\u001B[0m\n\u001B[1;32m   4156\u001B[0m             \u001B[0;32mif\u001B[0m \u001B[0mnp\u001B[0m\u001B[0;34m.\u001B[0m\u001B[0mshape\u001B[0m\u001B[0;34m(\u001B[0m\u001B[0mvalue\u001B[0m\u001B[0;34m)\u001B[0m\u001B[0;34m[\u001B[0m\u001B[0;34m-\u001B[0m\u001B[0;36m1\u001B[0m\u001B[0;34m]\u001B[0m \u001B[0;34m!=\u001B[0m \u001B[0mlen\u001B[0m\u001B[0;34m(\u001B[0m\u001B[0mkey\u001B[0m\u001B[0;34m)\u001B[0m\u001B[0;34m:\u001B[0m\u001B[0;34m\u001B[0m\u001B[0;34m\u001B[0m\u001B[0m\n\u001B[0;32m-> 4157\u001B[0;31m                 \u001B[0;32mraise\u001B[0m \u001B[0mValueError\u001B[0m\u001B[0;34m(\u001B[0m\u001B[0;34m\"Columns must be same length as key\"\u001B[0m\u001B[0;34m)\u001B[0m\u001B[0;34m\u001B[0m\u001B[0;34m\u001B[0m\u001B[0m\n\u001B[0m\u001B[1;32m   4158\u001B[0m \u001B[0;34m\u001B[0m\u001B[0m\n\u001B[1;32m   4159\u001B[0m             \u001B[0;32mfor\u001B[0m \u001B[0mi\u001B[0m\u001B[0;34m,\u001B[0m \u001B[0mcol\u001B[0m \u001B[0;32min\u001B[0m \u001B[0menumerate\u001B[0m\u001B[0;34m(\u001B[0m\u001B[0mkey\u001B[0m\u001B[0;34m)\u001B[0m\u001B[0;34m:\u001B[0m\u001B[0;34m\u001B[0m\u001B[0;34m\u001B[0m\u001B[0m\n\u001B[1;32m   4160\u001B[0m                 \u001B[0mself\u001B[0m\u001B[0;34m[\u001B[0m\u001B[0mcol\u001B[0m\u001B[0;34m]\u001B[0m \u001B[0;34m=\u001B[0m \u001B[0migetitem\u001B[0m\u001B[0;34m(\u001B[0m\u001B[0mvalue\u001B[0m\u001B[0;34m,\u001B[0m \u001B[0mi\u001B[0m\u001B[0;34m)\u001B[0m\u001B[0;34m\u001B[0m\u001B[0;34m\u001B[0m\u001B[0m\n",
      "\u001B[0;31mValueError\u001B[0m: Columns must be same length as key"
     ]
    }
   ],
   "source": [
    "resale_data = df.copy()\n",
    "resale_data[property_id] = resale_data['index'].map(property_df.set_index(property_id)['property_id'])\n",
    "resale_data[\"address_id\"] = resale_data['index'].map(address_df.set_index('index')['address_id'])\n",
    "resale_data[\"surroundings_id\"] = resale_data['index'].map(surroundings_df.set_index('index')['surroundings_id'])\n",
    "resale_data[\"transaction_id\"] = resale_data['index'].map(transaction_df.set_index('index')['transaction_id'])\n",
    "\n",
    "all_ids = set(property_id + address_id + surroundings_id + transaction_id)\n",
    "resale_data.drop(columns=list(all_ids), inplace=True)\n",
    "\n",
    "# Displaying the DataFrame\n",
    "display(resale_data)"
   ],
   "metadata": {
    "collapsed": false,
    "ExecuteTime": {
     "end_time": "2024-04-20T07:02:20.907011Z",
     "start_time": "2024-04-20T07:02:19.187060Z"
    }
   },
   "id": "d0009df99683b83e",
   "execution_count": 62
  },
  {
   "cell_type": "code",
   "outputs": [],
   "source": [],
   "metadata": {
    "collapsed": false
   },
   "id": "519c4bd1f9a8fb5f"
  },
  {
   "cell_type": "code",
   "execution_count": 33,
   "id": "e423ad09",
   "metadata": {
    "ExecuteTime": {
     "end_time": "2024-04-20T06:46:21.964284Z",
     "start_time": "2024-04-20T06:46:21.960880Z"
    }
   },
   "outputs": [
    {
     "name": "stdout",
     "output_type": "stream",
     "text": [
      "Duplicate values: ['index']\n"
     ]
    }
   ],
   "source": [
    "all_ids = property_id + address_id + surroundings_id + transation_id\n",
    "\n",
    "# Create a dictionary to count occurrences of each value\n",
    "id_counts = {}\n",
    "for id_value in all_ids:\n",
    "    if id_value in id_counts:\n",
    "        id_counts[id_value] += 1\n",
    "    else:\n",
    "        id_counts[id_value] = 1\n",
    "\n",
    "# Find duplicate values\n",
    "duplicate_values = [id_value for id_value, count in id_counts.items() if count > 1]\n",
    "\n",
    "print(\"Duplicate values:\", duplicate_values)"
   ]
  },
  {
   "cell_type": "code",
   "execution_count": 83,
   "id": "e11d33ad",
   "metadata": {},
   "outputs": [
    {
     "name": "stdout",
     "output_type": "stream",
     "text": [
      "717069\n"
     ]
    },
    {
     "data": {
      "text/html": [
       "<div>\n",
       "<style scoped>\n",
       "    .dataframe tbody tr th:only-of-type {\n",
       "        vertical-align: middle;\n",
       "    }\n",
       "\n",
       "    .dataframe tbody tr th {\n",
       "        vertical-align: top;\n",
       "    }\n",
       "\n",
       "    .dataframe thead th {\n",
       "        text-align: right;\n",
       "    }\n",
       "</style>\n",
       "<table border=\"1\" class=\"dataframe\">\n",
       "  <thead>\n",
       "    <tr style=\"text-align: right;\">\n",
       "      <th></th>\n",
       "      <th>index</th>\n",
       "      <th>flat_type</th>\n",
       "      <th>flat_model</th>\n",
       "      <th>flat_type_model</th>\n",
       "      <th>floor_area_sqm</th>\n",
       "      <th>lease_commence_date</th>\n",
       "      <th>storey_range</th>\n",
       "      <th>avg_storey_range</th>\n",
       "      <th>total_dwelling_units</th>\n",
       "      <th>vacancy</th>\n",
       "    </tr>\n",
       "  </thead>\n",
       "  <tbody>\n",
       "  </tbody>\n",
       "</table>\n",
       "</div>"
      ],
      "text/plain": [
       "Empty DataFrame\n",
       "Columns: [index, flat_type, flat_model, flat_type_model, floor_area_sqm, lease_commence_date, storey_range, avg_storey_range, total_dwelling_units, vacancy]\n",
       "Index: []"
      ]
     },
     "execution_count": 83,
     "metadata": {},
     "output_type": "execute_result"
    }
   ],
   "source": [
    "property = df[['index', 'flat_type', 'flat_model', 'flat_type_model',\n",
    "                  'floor_area_sqm', 'lease_commence_date', 'storey_range',\n",
    "                  'avg_storey_range', 'total_dwelling_units','vacancy']]\n",
    "\n",
    "# Drop duplicate rows based on the 'index' column\n",
    "property = property.drop_duplicates()\n",
    "\n",
    "property_duplicate_rows = property[property.duplicated()]\n",
    "\n",
    "print(len(property))\n",
    "\n",
    "property_duplicate_rows\n"
   ]
  },
  {
   "cell_type": "code",
   "execution_count": 51,
   "id": "c5806592",
   "metadata": {},
   "outputs": [
    {
     "data": {
      "text/plain": [
       "8"
      ]
     },
     "execution_count": 51,
     "metadata": {},
     "output_type": "execute_result"
    }
   ],
   "source": [
    "len(address.columns)"
   ]
  },
  {
   "cell_type": "code",
   "execution_count": 77,
   "id": "0c0747af",
   "metadata": {},
   "outputs": [
    {
     "data": {
      "text/html": [
       "<div>\n",
       "<style scoped>\n",
       "    .dataframe tbody tr th:only-of-type {\n",
       "        vertical-align: middle;\n",
       "    }\n",
       "\n",
       "    .dataframe tbody tr th {\n",
       "        vertical-align: top;\n",
       "    }\n",
       "\n",
       "    .dataframe thead th {\n",
       "        text-align: right;\n",
       "    }\n",
       "</style>\n",
       "<table border=\"1\" class=\"dataframe\">\n",
       "  <thead>\n",
       "    <tr style=\"text-align: right;\">\n",
       "      <th></th>\n",
       "      <th>postal</th>\n",
       "      <th>address</th>\n",
       "      <th>town</th>\n",
       "      <th>block</th>\n",
       "      <th>street_name</th>\n",
       "      <th>planning_area</th>\n",
       "      <th>latitude</th>\n",
       "      <th>longitude</th>\n",
       "    </tr>\n",
       "  </thead>\n",
       "  <tbody>\n",
       "  </tbody>\n",
       "</table>\n",
       "</div>"
      ],
      "text/plain": [
       "Empty DataFrame\n",
       "Columns: [postal, address, town, block, street_name, planning_area, latitude, longitude]\n",
       "Index: []"
      ]
     },
     "execution_count": 77,
     "metadata": {},
     "output_type": "execute_result"
    }
   ],
   "source": [
    "address = df[['postal', 'address', 'town', 'block', 'street_name', \n",
    "                          'planning_area', 'latitude', 'longitude',]]\n",
    "\n",
    "# Drop duplicate rows based on the 'index' column\n",
    "address = address.drop_duplicates()\n",
    "\n",
    "address_duplicate_rows = address[address.duplicated()]\n",
    "\n",
    "address_duplicate_rows"
   ]
  },
  {
   "cell_type": "code",
   "execution_count": 53,
   "id": "d7fbedad",
   "metadata": {},
   "outputs": [
    {
     "data": {
      "text/plain": [
       "29"
      ]
     },
     "execution_count": 53,
     "metadata": {},
     "output_type": "execute_result"
    }
   ],
   "source": [
    "len(surroundings.columns)"
   ]
  },
  {
   "cell_type": "code",
   "execution_count": 78,
   "id": "df0edb9d",
   "metadata": {},
   "outputs": [
    {
     "data": {
      "text/html": [
       "<div>\n",
       "<style scoped>\n",
       "    .dataframe tbody tr th:only-of-type {\n",
       "        vertical-align: middle;\n",
       "    }\n",
       "\n",
       "    .dataframe tbody tr th {\n",
       "        vertical-align: top;\n",
       "    }\n",
       "\n",
       "    .dataframe thead th {\n",
       "        text-align: right;\n",
       "    }\n",
       "</style>\n",
       "<table border=\"1\" class=\"dataframe\">\n",
       "  <thead>\n",
       "    <tr style=\"text-align: right;\">\n",
       "      <th></th>\n",
       "      <th>postal</th>\n",
       "      <th>commercial</th>\n",
       "      <th>market_hawker</th>\n",
       "      <th>multistorey_carpark</th>\n",
       "      <th>precinct_pavilion</th>\n",
       "      <th>mall_nearest_distance</th>\n",
       "      <th>hawker_nearest_distance</th>\n",
       "      <th>hawker_food_stalls</th>\n",
       "      <th>hawker_market_stalls</th>\n",
       "      <th>mrt_nearest_distance</th>\n",
       "      <th>...</th>\n",
       "      <th>pri_sch_affiliation</th>\n",
       "      <th>sec_sch_nearest_dist</th>\n",
       "      <th>sec_sch_name</th>\n",
       "      <th>cutoff_point</th>\n",
       "      <th>affiliation</th>\n",
       "      <th>school_type</th>\n",
       "      <th>bus_stop_proximity</th>\n",
       "      <th>mrt_proximity</th>\n",
       "      <th>pri_sch_proximity</th>\n",
       "      <th>sec_sch_proximity</th>\n",
       "    </tr>\n",
       "  </thead>\n",
       "  <tbody>\n",
       "  </tbody>\n",
       "</table>\n",
       "<p>0 rows × 27 columns</p>\n",
       "</div>"
      ],
      "text/plain": [
       "Empty DataFrame\n",
       "Columns: [postal, commercial, market_hawker, multistorey_carpark, precinct_pavilion, mall_nearest_distance, hawker_nearest_distance, hawker_food_stalls, hawker_market_stalls, mrt_nearest_distance, mrt_name, bus_interchange, mrt_interchange, bus_stop_nearest_distance, bus_stop_name, pri_sch_nearest_distance, pri_sch_name, pri_sch_affiliation, sec_sch_nearest_dist, sec_sch_name, cutoff_point, affiliation, school_type, bus_stop_proximity, mrt_proximity, pri_sch_proximity, sec_sch_proximity]\n",
       "Index: []\n",
       "\n",
       "[0 rows x 27 columns]"
      ]
     },
     "execution_count": 78,
     "metadata": {},
     "output_type": "execute_result"
    }
   ],
   "source": [
    "surroundings = df[['postal', 'commercial', 'market_hawker', 'multistorey_carpark', 'precinct_pavilion',\n",
    "                               'mall_nearest_distance', 'hawker_nearest_distance',\n",
    "                               'hawker_food_stalls', 'hawker_market_stalls', 'mrt_nearest_distance', 'mrt_name',\n",
    "                               'bus_interchange', 'mrt_interchange', 'bus_stop_nearest_distance', 'bus_stop_name',\n",
    "                               'pri_sch_nearest_distance', 'pri_sch_name',  'pri_sch_affiliation',\n",
    "                               'sec_sch_nearest_dist', 'sec_sch_name', 'cutoff_point', 'affiliation', 'school_type',\n",
    "                               'bus_stop_proximity', 'mrt_proximity', 'pri_sch_proximity', 'sec_sch_proximity']]\n",
    "\n",
    "# Drop duplicate rows based on the 'index' column\n",
    "surroundings = surroundings.drop_duplicates()\n",
    "\n",
    "surroundings_duplicate_rows = surroundings[surroundings.duplicated()]\n",
    "\n",
    "surroundings_duplicate_rows"
   ]
  },
  {
   "cell_type": "code",
   "execution_count": 55,
   "id": "de12cb39",
   "metadata": {},
   "outputs": [
    {
     "data": {
      "text/plain": [
       "8"
      ]
     },
     "execution_count": 55,
     "metadata": {},
     "output_type": "execute_result"
    }
   ],
   "source": [
    "len(transaction.columns)"
   ]
  },
  {
   "cell_type": "code",
   "execution_count": 79,
   "id": "df375b19",
   "metadata": {},
   "outputs": [
    {
     "data": {
      "text/html": [
       "<div>\n",
       "<style scoped>\n",
       "    .dataframe tbody tr th:only-of-type {\n",
       "        vertical-align: middle;\n",
       "    }\n",
       "\n",
       "    .dataframe tbody tr th {\n",
       "        vertical-align: top;\n",
       "    }\n",
       "\n",
       "    .dataframe thead th {\n",
       "        text-align: right;\n",
       "    }\n",
       "</style>\n",
       "<table border=\"1\" class=\"dataframe\">\n",
       "  <thead>\n",
       "    <tr style=\"text-align: right;\">\n",
       "      <th></th>\n",
       "      <th>index</th>\n",
       "      <th>postal</th>\n",
       "      <th>month</th>\n",
       "      <th>resale_price</th>\n",
       "      <th>year</th>\n",
       "      <th>quarter</th>\n",
       "      <th>inflation</th>\n",
       "      <th>normalized_resale_price</th>\n",
       "    </tr>\n",
       "  </thead>\n",
       "  <tbody>\n",
       "  </tbody>\n",
       "</table>\n",
       "</div>"
      ],
      "text/plain": [
       "Empty DataFrame\n",
       "Columns: [index, postal, month, resale_price, year, quarter, inflation, normalized_resale_price]\n",
       "Index: []"
      ]
     },
     "execution_count": 79,
     "metadata": {},
     "output_type": "execute_result"
    }
   ],
   "source": [
    "transaction = df[['index','postal', 'month', 'resale_price', 'year', 'quarter', 'inflation', 'normalized_resale_price']]\n",
    "\n",
    "# Drop duplicate rows based on the 'index' column\n",
    "transaction = transaction.drop_duplicates()\n",
    "\n",
    "transaction_duplicate_rows = transaction[transaction.duplicated()]\n",
    "\n",
    "transaction_duplicate_rows\n"
   ]
  },
  {
   "cell_type": "code",
   "execution_count": 85,
   "id": "937f754c",
   "metadata": {},
   "outputs": [
    {
     "data": {
      "text/plain": [
       "723516"
      ]
     },
     "execution_count": 85,
     "metadata": {},
     "output_type": "execute_result"
    }
   ],
   "source": [
    "output = pd.merge(transaction, property, on=\"index\")\n",
    "output = pd.merge(output, address, on=\"postal\")\n",
    "output = pd.merge(output, surroundings, on=\"postal\")\n",
    "len(output)"
   ]
  },
  {
   "cell_type": "code",
   "execution_count": 25,
   "id": "2ad97c92e28c8e91",
   "metadata": {
    "ExecuteTime": {
     "end_time": "2024-03-30T10:04:37.204359Z",
     "start_time": "2024-03-30T10:04:28.696777Z"
    },
    "collapsed": false
   },
   "outputs": [
    {
     "name": "stderr",
     "output_type": "stream",
     "text": [
      "100%|██████████| 1/1 [00:00<00:00, 2091.92it/s]\n"
     ]
    }
   ],
   "source": [
    "project_id = \"is3107-418011\"\n",
    "\n",
    "# Dataset ID and table name\n",
    "dataset_id = \"is3107\"  # You have nested dataset, so specify only the innermost dataset\n",
    "table_id = \"resale_price\"   # Table ID within the specified dataset\n",
    "\n",
    "# Upload DataFrame to BigQuery\n",
    "df.to_gbq(destination_table=f\"{project_id}.{dataset_id}.{table_id}\", project_id=project_id, if_exists=\"replace\")"
   ]
  },
  {
   "cell_type": "code",
   "execution_count": 72,
   "id": "78efdbbf98009eb8",
   "metadata": {
    "collapsed": false
   },
   "outputs": [
    {
     "name": "stderr",
     "output_type": "stream",
     "text": [
      "100%|██████████| 1/1 [00:00<00:00, 32263.88it/s]\n"
     ]
    }
   ],
   "source": [
    "# Dataset ID and table name\n",
    "table_id = \"Property\"   # Table ID within the specified dataset\n",
    "\n",
    "# Upload DataFrame to BigQuery\n",
    "property.to_gbq(destination_table=f\"{project_id}.{dataset_id}.{table_id}\", project_id=project_id, if_exists=\"replace\")"
   ]
  },
  {
   "cell_type": "code",
   "execution_count": 73,
   "id": "82db72ba",
   "metadata": {},
   "outputs": [
    {
     "name": "stderr",
     "output_type": "stream",
     "text": [
      "100%|██████████| 1/1 [00:00<00:00, 11096.04it/s]\n"
     ]
    }
   ],
   "source": [
    "# Dataset ID and table name\n",
    "table_id = \"Address\"   # Table ID within the specified dataset\n",
    "\n",
    "# Upload DataFrame to BigQuery\n",
    "address.to_gbq(destination_table=f\"{project_id}.{dataset_id}.{table_id}\", project_id=project_id, if_exists=\"replace\")"
   ]
  },
  {
   "cell_type": "code",
   "execution_count": 74,
   "id": "c38ccc40",
   "metadata": {},
   "outputs": [
    {
     "name": "stderr",
     "output_type": "stream",
     "text": [
      "100%|██████████| 1/1 [00:00<00:00, 8630.26it/s]\n"
     ]
    }
   ],
   "source": [
    "# Dataset ID and table name\n",
    "table_id = \"Surroundings\"   # Table ID within the specified dataset\n",
    "\n",
    "# Upload DataFrame to BigQuery\n",
    "surroundings.to_gbq(destination_table=f\"{project_id}.{dataset_id}.{table_id}\", project_id=project_id, if_exists=\"replace\")"
   ]
  },
  {
   "cell_type": "code",
   "execution_count": 75,
   "id": "7b0f2135",
   "metadata": {},
   "outputs": [
    {
     "name": "stderr",
     "output_type": "stream",
     "text": [
      "100%|██████████| 1/1 [00:00<00:00, 36792.14it/s]\n"
     ]
    }
   ],
   "source": [
    "# Dataset ID and table name\n",
    "table_id = \"Transaction\"   # Table ID within the specified dataset\n",
    "\n",
    "# Upload DataFrame to BigQuery\n",
    "transaction.to_gbq(destination_table=f\"{project_id}.{dataset_id}.{table_id}\", project_id=project_id, if_exists=\"replace\")"
   ]
  },
  {
   "cell_type": "code",
   "execution_count": 16,
   "id": "556ff0407a948fe3",
   "metadata": {
    "ExecuteTime": {
     "end_time": "2024-03-30T09:42:58.195382Z",
     "start_time": "2024-03-30T09:42:58.190345Z"
    },
    "collapsed": false
   },
   "outputs": [],
   "source": [
    "def query_table_from_bq(table_name):\n",
    "    CREDS = 'is3107-418011-f63573e5e1f3.json'\n",
    "    credentials = service_account.Credentials.from_service_account_file(CREDS)\n",
    "    client = bigquery.Client(credentials=credentials)\n",
    "    job_config = bigquery.QueryJobConfig()\n",
    "\n",
    "    # Set the destination table\n",
    "    table = client.dataset(dataset_id='is3107-418011.is3107').table(table_id=f\"is3107-418011.is3107.{table_name}\")\n",
    "    job_config.destination = table\n",
    "    query = f\"SELECT * FROM `is3107-418011.is3107.{table_name}`\"\n",
    "    return client.query(query).to_dataframe()"
   ]
  },
  {
   "cell_type": "code",
   "outputs": [],
   "source": [
    "def query_table_from_bq():\n",
    "    CREDS = 'is3107-418011-f63573e5e1f3.json'\n",
    "    credentials = service_account.Credentials.from_service_account_file(CREDS)\n",
    "    client = bigquery.Client(credentials=credentials)\n",
    "    # job_config = bigquery.QueryJobConfig()\n",
    "    #\n",
    "    # # Set the destination table\n",
    "    # table = client.dataset(dataset_id='is3107-418011.is3107').table(table_id=f\"is3107-418011.is3107.Transation_new\")\n",
    "    # job_config.destination = table\n",
    "\n",
    "    query = \"\"\"\n",
    "        SELECT *\n",
    "        FROM `is3107-418011.is3107.resale_data`\n",
    "        \"\"\"\n",
    "\n",
    "    return client.query(query).to_dataframe()"
   ],
   "metadata": {
    "collapsed": false
   },
   "id": "fe36aca34766fb33"
  },
  {
   "cell_type": "code",
   "outputs": [
    {
     "data": {
      "text/plain": "        resale_price flat_model        town        date\n0           147000.0   improved  ang mo kio  2000-01-31\n1           130000.0   improved  ang mo kio  2000-02-29\n2           105000.0   improved  ang mo kio  2000-03-31\n3           125000.0   improved  ang mo kio  2000-05-31\n4           117000.0   improved  ang mo kio  2000-06-30\n...              ...        ...         ...         ...\n717064      758000.0   improved    tampines  2023-04-30\n717065      795000.0   improved    tampines  2023-07-31\n717066      680000.0    model a    tampines  2023-09-30\n717067      818000.0   improved    tampines  2023-10-31\n717068      816000.0   improved    tampines  2023-11-30\n\n[717069 rows x 4 columns]",
      "text/html": "<div>\n<style scoped>\n    .dataframe tbody tr th:only-of-type {\n        vertical-align: middle;\n    }\n\n    .dataframe tbody tr th {\n        vertical-align: top;\n    }\n\n    .dataframe thead th {\n        text-align: right;\n    }\n</style>\n<table border=\"1\" class=\"dataframe\">\n  <thead>\n    <tr style=\"text-align: right;\">\n      <th></th>\n      <th>resale_price</th>\n      <th>flat_model</th>\n      <th>town</th>\n      <th>date</th>\n    </tr>\n  </thead>\n  <tbody>\n    <tr>\n      <th>0</th>\n      <td>147000.0</td>\n      <td>improved</td>\n      <td>ang mo kio</td>\n      <td>2000-01-31</td>\n    </tr>\n    <tr>\n      <th>1</th>\n      <td>130000.0</td>\n      <td>improved</td>\n      <td>ang mo kio</td>\n      <td>2000-02-29</td>\n    </tr>\n    <tr>\n      <th>2</th>\n      <td>105000.0</td>\n      <td>improved</td>\n      <td>ang mo kio</td>\n      <td>2000-03-31</td>\n    </tr>\n    <tr>\n      <th>3</th>\n      <td>125000.0</td>\n      <td>improved</td>\n      <td>ang mo kio</td>\n      <td>2000-05-31</td>\n    </tr>\n    <tr>\n      <th>4</th>\n      <td>117000.0</td>\n      <td>improved</td>\n      <td>ang mo kio</td>\n      <td>2000-06-30</td>\n    </tr>\n    <tr>\n      <th>...</th>\n      <td>...</td>\n      <td>...</td>\n      <td>...</td>\n      <td>...</td>\n    </tr>\n    <tr>\n      <th>717064</th>\n      <td>758000.0</td>\n      <td>improved</td>\n      <td>tampines</td>\n      <td>2023-04-30</td>\n    </tr>\n    <tr>\n      <th>717065</th>\n      <td>795000.0</td>\n      <td>improved</td>\n      <td>tampines</td>\n      <td>2023-07-31</td>\n    </tr>\n    <tr>\n      <th>717066</th>\n      <td>680000.0</td>\n      <td>model a</td>\n      <td>tampines</td>\n      <td>2023-09-30</td>\n    </tr>\n    <tr>\n      <th>717067</th>\n      <td>818000.0</td>\n      <td>improved</td>\n      <td>tampines</td>\n      <td>2023-10-31</td>\n    </tr>\n    <tr>\n      <th>717068</th>\n      <td>816000.0</td>\n      <td>improved</td>\n      <td>tampines</td>\n      <td>2023-11-30</td>\n    </tr>\n  </tbody>\n</table>\n<p>717069 rows × 4 columns</p>\n</div>"
     },
     "execution_count": 100,
     "metadata": {},
     "output_type": "execute_result"
    }
   ],
   "source": [
    "query_table_from_bq()"
   ],
   "metadata": {
    "collapsed": false,
    "ExecuteTime": {
     "end_time": "2024-04-20T09:33:30.109604Z",
     "start_time": "2024-04-20T09:33:05.281220Z"
    }
   },
   "id": "3b8275bd22bfa819",
   "execution_count": 100
  },
  {
   "cell_type": "code",
   "outputs": [],
   "source": [
    "CREDS = 'is3107-418011-f63573e5e1f3.json'\n",
    "credentials = service_account.Credentials.from_service_account_file(CREDS)\n",
    "client = bigquery.Client(credentials=credentials)"
   ],
   "metadata": {
    "collapsed": false,
    "ExecuteTime": {
     "end_time": "2024-04-20T09:34:14.867978Z",
     "start_time": "2024-04-20T09:34:14.741989Z"
    }
   },
   "id": "7f70dc64e0ef6816",
   "execution_count": 101
  },
  {
   "cell_type": "code",
   "outputs": [
    {
     "data": {
      "text/plain": "     flat_model      town  avg_resale_price        date\n0      improved  tampines     368315.192982  2000-01-31\n1      improved  tampines     380169.491525  2000-07-31\n2      improved  tampines     356524.418605  2000-10-31\n3       model a  tampines     251089.592593  2000-12-31\n4      improved  tampines     345763.285714  2001-03-31\n...         ...       ...               ...         ...\n2389       dbss  tampines     625000.000000  2020-11-30\n2390       dbss  tampines     699000.000000  2022-04-30\n2391       dbss  tampines     800000.000000  2020-04-30\n2392       dbss  tampines     610000.000000  2023-10-31\n2393       dbss  tampines     630000.000000  2020-05-31\n\n[2394 rows x 4 columns]",
      "text/html": "<div>\n<style scoped>\n    .dataframe tbody tr th:only-of-type {\n        vertical-align: middle;\n    }\n\n    .dataframe tbody tr th {\n        vertical-align: top;\n    }\n\n    .dataframe thead th {\n        text-align: right;\n    }\n</style>\n<table border=\"1\" class=\"dataframe\">\n  <thead>\n    <tr style=\"text-align: right;\">\n      <th></th>\n      <th>flat_model</th>\n      <th>town</th>\n      <th>avg_resale_price</th>\n      <th>date</th>\n    </tr>\n  </thead>\n  <tbody>\n    <tr>\n      <th>0</th>\n      <td>improved</td>\n      <td>tampines</td>\n      <td>368315.192982</td>\n      <td>2000-01-31</td>\n    </tr>\n    <tr>\n      <th>1</th>\n      <td>improved</td>\n      <td>tampines</td>\n      <td>380169.491525</td>\n      <td>2000-07-31</td>\n    </tr>\n    <tr>\n      <th>2</th>\n      <td>improved</td>\n      <td>tampines</td>\n      <td>356524.418605</td>\n      <td>2000-10-31</td>\n    </tr>\n    <tr>\n      <th>3</th>\n      <td>model a</td>\n      <td>tampines</td>\n      <td>251089.592593</td>\n      <td>2000-12-31</td>\n    </tr>\n    <tr>\n      <th>4</th>\n      <td>improved</td>\n      <td>tampines</td>\n      <td>345763.285714</td>\n      <td>2001-03-31</td>\n    </tr>\n    <tr>\n      <th>...</th>\n      <td>...</td>\n      <td>...</td>\n      <td>...</td>\n      <td>...</td>\n    </tr>\n    <tr>\n      <th>2389</th>\n      <td>dbss</td>\n      <td>tampines</td>\n      <td>625000.000000</td>\n      <td>2020-11-30</td>\n    </tr>\n    <tr>\n      <th>2390</th>\n      <td>dbss</td>\n      <td>tampines</td>\n      <td>699000.000000</td>\n      <td>2022-04-30</td>\n    </tr>\n    <tr>\n      <th>2391</th>\n      <td>dbss</td>\n      <td>tampines</td>\n      <td>800000.000000</td>\n      <td>2020-04-30</td>\n    </tr>\n    <tr>\n      <th>2392</th>\n      <td>dbss</td>\n      <td>tampines</td>\n      <td>610000.000000</td>\n      <td>2023-10-31</td>\n    </tr>\n    <tr>\n      <th>2393</th>\n      <td>dbss</td>\n      <td>tampines</td>\n      <td>630000.000000</td>\n      <td>2020-05-31</td>\n    </tr>\n  </tbody>\n</table>\n<p>2394 rows × 4 columns</p>\n</div>"
     },
     "execution_count": 114,
     "metadata": {},
     "output_type": "execute_result"
    }
   ],
   "source": [
    "def query_table_from_bq3(town_type):\n",
    "    # Assuming `flat_model_type` is a string containing the model type to filter for\n",
    "    # Using parameterized queries for safety and efficiency\n",
    "    query = \"\"\"\n",
    "            SELECT \n",
    "                LOWER(p.flat_model) as flat_model, \n",
    "                LOWER(a.town) as town, \n",
    "                AVG(d.resale_price) as avg_resale_price,\n",
    "                LAST_DAY(PARSE_DATE('%Y-%m', t.month)) as date\n",
    "            FROM `is3107-418011.is3107.resale_data` d\n",
    "            LEFT JOIN `is3107-418011.is3107.Property_new` p ON d.property_id = p.property_id\n",
    "            LEFT JOIN `is3107-418011.is3107.Address_new` a ON d.address_id = a.address_id\n",
    "            LEFT JOIN `is3107-418011.is3107.Transaction_new` t ON d.transaction_id = t.transaction_id\n",
    "            WHERE LOWER(a.town) = @town\n",
    "            GROUP BY flat_model, town, date\n",
    "        \"\"\"\n",
    "\n",
    "    job_config = bigquery.QueryJobConfig(\n",
    "        query_parameters=[\n",
    "            bigquery.ScalarQueryParameter(\"town\", \"STRING\", town_type.lower())\n",
    "        ]\n",
    "    )\n",
    "    \n",
    "    # Execute the query with the specified parameter\n",
    "    return client.query(query, job_config=job_config).to_dataframe()\n",
    "\n",
    "temp3 = query_table_from_bq3(\"tampines\")\n",
    "temp3"
   ],
   "metadata": {
    "collapsed": false,
    "ExecuteTime": {
     "end_time": "2024-04-20T18:14:57.653746Z",
     "start_time": "2024-04-20T18:14:57.077688Z"
    }
   },
   "id": "9132e6d157f75207",
   "execution_count": 114
  },
  {
   "cell_type": "code",
   "outputs": [],
   "source": [
    "def query_table_from_bq2():\n",
    "    query = \"\"\"\n",
    "        SELECT \n",
    "            LOWER(p.flat_model) as flat_model, \n",
    "            LOWER(a.town) as town, \n",
    "            AVG(d.resale_price) as avg_resale_price,\n",
    "            LAST_DAY(PARSE_DATE('%Y-%m', t.month)) as date\n",
    "        FROM `is3107-418011.is3107.resale_data` d\n",
    "        LEFT JOIN `is3107-418011.is3107.Property_new` p ON d.property_id = p.property_id\n",
    "        LEFT JOIN `is3107-418011.is3107.Address_new` a ON d.address_id = a.address_id\n",
    "        LEFT JOIN `is3107-418011.is3107.Transaction_new` t ON d.transaction_id = t.transaction_id\n",
    "        GROUP BY flat_model, town, date\n",
    "    \"\"\"\n",
    "\n",
    "    return client.query(query).to_dataframe()\n",
    "temp2 = query_table_from_bq2()"
   ],
   "metadata": {
    "collapsed": false,
    "ExecuteTime": {
     "end_time": "2024-04-20T18:06:09.890952Z",
     "start_time": "2024-04-20T18:06:05.622010Z"
    }
   },
   "id": "de504d4494c8d541",
   "execution_count": 111
  },
  {
   "cell_type": "code",
   "outputs": [
    {
     "data": {
      "text/plain": "                   flat_model        town  avg_resale_price        date\n0                    improved  ang mo kio      3.605714e+05  2000-01-31\n1                    improved  ang mo kio      3.230000e+05  2000-02-29\n2                    improved  ang mo kio      3.923056e+05  2000-03-31\n3                    improved  ang mo kio      3.651250e+05  2000-05-31\n4                    improved  ang mo kio      3.309286e+05  2000-06-30\n...                       ...         ...               ...         ...\n46814       premium apartment  queenstown      8.500000e+05  2023-05-31\n46815       premium apartment  queenstown      7.300000e+05  2023-06-30\n46816  premium apartment loft  queenstown      1.092000e+06  2023-06-30\n46817  premium apartment loft  queenstown      1.038000e+06  2023-08-31\n46818                  2-room    sengkang      3.380000e+05  2022-10-31\n\n[46819 rows x 4 columns]",
      "text/html": "<div>\n<style scoped>\n    .dataframe tbody tr th:only-of-type {\n        vertical-align: middle;\n    }\n\n    .dataframe tbody tr th {\n        vertical-align: top;\n    }\n\n    .dataframe thead th {\n        text-align: right;\n    }\n</style>\n<table border=\"1\" class=\"dataframe\">\n  <thead>\n    <tr style=\"text-align: right;\">\n      <th></th>\n      <th>flat_model</th>\n      <th>town</th>\n      <th>avg_resale_price</th>\n      <th>date</th>\n    </tr>\n  </thead>\n  <tbody>\n    <tr>\n      <th>0</th>\n      <td>improved</td>\n      <td>ang mo kio</td>\n      <td>3.605714e+05</td>\n      <td>2000-01-31</td>\n    </tr>\n    <tr>\n      <th>1</th>\n      <td>improved</td>\n      <td>ang mo kio</td>\n      <td>3.230000e+05</td>\n      <td>2000-02-29</td>\n    </tr>\n    <tr>\n      <th>2</th>\n      <td>improved</td>\n      <td>ang mo kio</td>\n      <td>3.923056e+05</td>\n      <td>2000-03-31</td>\n    </tr>\n    <tr>\n      <th>3</th>\n      <td>improved</td>\n      <td>ang mo kio</td>\n      <td>3.651250e+05</td>\n      <td>2000-05-31</td>\n    </tr>\n    <tr>\n      <th>4</th>\n      <td>improved</td>\n      <td>ang mo kio</td>\n      <td>3.309286e+05</td>\n      <td>2000-06-30</td>\n    </tr>\n    <tr>\n      <th>...</th>\n      <td>...</td>\n      <td>...</td>\n      <td>...</td>\n      <td>...</td>\n    </tr>\n    <tr>\n      <th>46814</th>\n      <td>premium apartment</td>\n      <td>queenstown</td>\n      <td>8.500000e+05</td>\n      <td>2023-05-31</td>\n    </tr>\n    <tr>\n      <th>46815</th>\n      <td>premium apartment</td>\n      <td>queenstown</td>\n      <td>7.300000e+05</td>\n      <td>2023-06-30</td>\n    </tr>\n    <tr>\n      <th>46816</th>\n      <td>premium apartment loft</td>\n      <td>queenstown</td>\n      <td>1.092000e+06</td>\n      <td>2023-06-30</td>\n    </tr>\n    <tr>\n      <th>46817</th>\n      <td>premium apartment loft</td>\n      <td>queenstown</td>\n      <td>1.038000e+06</td>\n      <td>2023-08-31</td>\n    </tr>\n    <tr>\n      <th>46818</th>\n      <td>2-room</td>\n      <td>sengkang</td>\n      <td>3.380000e+05</td>\n      <td>2022-10-31</td>\n    </tr>\n  </tbody>\n</table>\n<p>46819 rows × 4 columns</p>\n</div>"
     },
     "execution_count": 112,
     "metadata": {},
     "output_type": "execute_result"
    }
   ],
   "source": [
    "temp2"
   ],
   "metadata": {
    "collapsed": false,
    "ExecuteTime": {
     "end_time": "2024-04-20T18:06:14.987824Z",
     "start_time": "2024-04-20T18:06:14.949123Z"
    }
   },
   "id": "b6cb9bd93cfada27",
   "execution_count": 112
  },
  {
   "cell_type": "code",
   "outputs": [],
   "source": [
    "def query_table_from_bq():\n",
    "    # job_config = bigquery.QueryJobConfig()\n",
    "    #\n",
    "    # # Set the destination table\n",
    "    # table = client.dataset(dataset_id='is3107-418011.is3107').table(table_id=f\"is3107-418011.is3107.Transation_new\")\n",
    "    # job_config.destination = table\n",
    "\n",
    "    query = \"\"\"\n",
    "        SELECT d.resale_price, LOWER(p.flat_model) as flat_model, LOWER(a.town) as town, LAST_DAY(PARSE_DATE('%Y-%m', t.month)) as date\n",
    "        FROM `is3107-418011.is3107.resale_data` d\n",
    "        LEFT JOIN `is3107-418011.is3107.Property_new` p ON d.property_id = p.property_id\n",
    "        LEFT JOIN `is3107-418011.is3107.Address_new` a ON d.address_id = a.address_id\n",
    "        LEFT JOIN `is3107-418011.is3107.Transaction_new` t ON d.transaction_id = t.transaction_id\n",
    "        \"\"\"\n",
    "\n",
    "    return client.query(query).to_dataframe()"
   ],
   "metadata": {
    "collapsed": false,
    "ExecuteTime": {
     "end_time": "2024-04-20T09:34:27.106411Z",
     "start_time": "2024-04-20T09:34:27.101586Z"
    }
   },
   "id": "b81368d32937b44e",
   "execution_count": 102
  },
  {
   "cell_type": "code",
   "outputs": [],
   "source": [
    "temp = query_table_from_bq()"
   ],
   "metadata": {
    "collapsed": false,
    "ExecuteTime": {
     "end_time": "2024-04-20T09:34:52.297001Z",
     "start_time": "2024-04-20T09:34:28.877752Z"
    }
   },
   "id": "b317a22596773b48",
   "execution_count": 103
  },
  {
   "cell_type": "code",
   "outputs": [
    {
     "data": {
      "text/plain": "   resale_price flat_model        town        date\n0      147000.0   improved  ang mo kio  2000-01-31\n1      130000.0   improved  ang mo kio  2000-02-29\n2      105000.0   improved  ang mo kio  2000-03-31\n3      125000.0   improved  ang mo kio  2000-05-31\n4      117000.0   improved  ang mo kio  2000-06-30",
      "text/html": "<div>\n<style scoped>\n    .dataframe tbody tr th:only-of-type {\n        vertical-align: middle;\n    }\n\n    .dataframe tbody tr th {\n        vertical-align: top;\n    }\n\n    .dataframe thead th {\n        text-align: right;\n    }\n</style>\n<table border=\"1\" class=\"dataframe\">\n  <thead>\n    <tr style=\"text-align: right;\">\n      <th></th>\n      <th>resale_price</th>\n      <th>flat_model</th>\n      <th>town</th>\n      <th>date</th>\n    </tr>\n  </thead>\n  <tbody>\n    <tr>\n      <th>0</th>\n      <td>147000.0</td>\n      <td>improved</td>\n      <td>ang mo kio</td>\n      <td>2000-01-31</td>\n    </tr>\n    <tr>\n      <th>1</th>\n      <td>130000.0</td>\n      <td>improved</td>\n      <td>ang mo kio</td>\n      <td>2000-02-29</td>\n    </tr>\n    <tr>\n      <th>2</th>\n      <td>105000.0</td>\n      <td>improved</td>\n      <td>ang mo kio</td>\n      <td>2000-03-31</td>\n    </tr>\n    <tr>\n      <th>3</th>\n      <td>125000.0</td>\n      <td>improved</td>\n      <td>ang mo kio</td>\n      <td>2000-05-31</td>\n    </tr>\n    <tr>\n      <th>4</th>\n      <td>117000.0</td>\n      <td>improved</td>\n      <td>ang mo kio</td>\n      <td>2000-06-30</td>\n    </tr>\n  </tbody>\n</table>\n</div>"
     },
     "execution_count": 94,
     "metadata": {},
     "output_type": "execute_result"
    }
   ],
   "source": [
    "temp.head()"
   ],
   "metadata": {
    "collapsed": false,
    "ExecuteTime": {
     "end_time": "2024-04-20T09:30:03.260936Z",
     "start_time": "2024-04-20T09:30:03.256681Z"
    }
   },
   "id": "93ae50ba65126a9b",
   "execution_count": 94
  },
  {
   "cell_type": "code",
   "outputs": [
    {
     "data": {
      "text/plain": "        resale_price flat_model     town        date\n629384      292800.0   improved  punggol  2005-04-30\n629385      295000.0   improved  punggol  2006-07-31\n629386      304000.0   improved  punggol  2006-08-31\n629387      315000.0   improved  punggol  2007-04-30\n629388      258000.0    model a  punggol  2007-05-31\n...              ...        ...      ...         ...\n716764      675000.0   improved  punggol  2021-10-31\n716765      510000.0    model a  punggol  2022-01-31\n716766      688000.0   improved  punggol  2022-04-30\n716767      545000.0    model a  punggol  2023-09-30\n716768      620888.0    model a  punggol  2023-10-31\n\n[17715 rows x 4 columns]",
      "text/html": "<div>\n<style scoped>\n    .dataframe tbody tr th:only-of-type {\n        vertical-align: middle;\n    }\n\n    .dataframe tbody tr th {\n        vertical-align: top;\n    }\n\n    .dataframe thead th {\n        text-align: right;\n    }\n</style>\n<table border=\"1\" class=\"dataframe\">\n  <thead>\n    <tr style=\"text-align: right;\">\n      <th></th>\n      <th>resale_price</th>\n      <th>flat_model</th>\n      <th>town</th>\n      <th>date</th>\n    </tr>\n  </thead>\n  <tbody>\n    <tr>\n      <th>629384</th>\n      <td>292800.0</td>\n      <td>improved</td>\n      <td>punggol</td>\n      <td>2005-04-30</td>\n    </tr>\n    <tr>\n      <th>629385</th>\n      <td>295000.0</td>\n      <td>improved</td>\n      <td>punggol</td>\n      <td>2006-07-31</td>\n    </tr>\n    <tr>\n      <th>629386</th>\n      <td>304000.0</td>\n      <td>improved</td>\n      <td>punggol</td>\n      <td>2006-08-31</td>\n    </tr>\n    <tr>\n      <th>629387</th>\n      <td>315000.0</td>\n      <td>improved</td>\n      <td>punggol</td>\n      <td>2007-04-30</td>\n    </tr>\n    <tr>\n      <th>629388</th>\n      <td>258000.0</td>\n      <td>model a</td>\n      <td>punggol</td>\n      <td>2007-05-31</td>\n    </tr>\n    <tr>\n      <th>...</th>\n      <td>...</td>\n      <td>...</td>\n      <td>...</td>\n      <td>...</td>\n    </tr>\n    <tr>\n      <th>716764</th>\n      <td>675000.0</td>\n      <td>improved</td>\n      <td>punggol</td>\n      <td>2021-10-31</td>\n    </tr>\n    <tr>\n      <th>716765</th>\n      <td>510000.0</td>\n      <td>model a</td>\n      <td>punggol</td>\n      <td>2022-01-31</td>\n    </tr>\n    <tr>\n      <th>716766</th>\n      <td>688000.0</td>\n      <td>improved</td>\n      <td>punggol</td>\n      <td>2022-04-30</td>\n    </tr>\n    <tr>\n      <th>716767</th>\n      <td>545000.0</td>\n      <td>model a</td>\n      <td>punggol</td>\n      <td>2023-09-30</td>\n    </tr>\n    <tr>\n      <th>716768</th>\n      <td>620888.0</td>\n      <td>model a</td>\n      <td>punggol</td>\n      <td>2023-10-31</td>\n    </tr>\n  </tbody>\n</table>\n<p>17715 rows × 4 columns</p>\n</div>"
     },
     "execution_count": 97,
     "metadata": {},
     "output_type": "execute_result"
    }
   ],
   "source": [
    "dict2 = {\"flat_model\":\"new generation\",\n",
    "\"town\":\"punggol\"}\n",
    "temp[temp[\"town\"] == dict2[\"town\"]]"
   ],
   "metadata": {
    "collapsed": false,
    "ExecuteTime": {
     "end_time": "2024-04-20T09:30:43.644027Z",
     "start_time": "2024-04-20T09:30:43.634339Z"
    }
   },
   "id": "42a2caf01ecd2278",
   "execution_count": 97
  }
 ],
 "metadata": {
  "kernelspec": {
   "display_name": "Python 3",
   "language": "python",
   "name": "python3"
  },
  "language_info": {
   "codemirror_mode": {
    "name": "ipython",
    "version": 3
   },
   "file_extension": ".py",
   "mimetype": "text/x-python",
   "name": "python",
   "nbconvert_exporter": "python",
   "pygments_lexer": "ipython3",
   "version": "3.9.16"
  }
 },
 "nbformat": 4,
 "nbformat_minor": 5
}
