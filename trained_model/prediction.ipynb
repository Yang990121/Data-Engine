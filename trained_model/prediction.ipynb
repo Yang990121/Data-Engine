{
 "cells": [
  {
   "cell_type": "code",
   "outputs": [],
   "source": [
    "import joblib\n",
    "import numpy as np"
   ],
   "metadata": {
    "collapsed": false,
    "ExecuteTime": {
     "end_time": "2024-04-06T16:41:43.299869Z",
     "start_time": "2024-04-06T16:41:43.275225Z"
    }
   },
   "execution_count": 5
  },
  {
   "cell_type": "code",
   "execution_count": 6,
   "metadata": {
    "ExecuteTime": {
     "end_time": "2024-04-06T16:41:44.815114Z",
     "start_time": "2024-04-06T16:41:44.778819Z"
    }
   },
   "outputs": [],
   "source": [
    "model = joblib.load(\"random_forest_model.pkl\")"
   ]
  },
  {
   "cell_type": "code",
   "execution_count": 7,
   "metadata": {
    "ExecuteTime": {
     "end_time": "2024-04-06T16:41:45.830415Z",
     "start_time": "2024-04-06T16:41:45.826342Z"
    }
   },
   "outputs": [],
   "source": [
    "def prediction_price(feature_value, model):\n",
    "    array = np.full(136, feature_value)\n",
    "    feature_values = np.array(array).reshape(1, -1)\n",
    "    return model.predict(feature_values)[0]"
   ]
  },
  {
   "cell_type": "code",
   "execution_count": 19,
   "metadata": {
    "ExecuteTime": {
     "end_time": "2024-04-06T16:43:21.852742Z",
     "start_time": "2024-04-06T16:43:21.843350Z"
    }
   },
   "outputs": [
    {
     "name": "stderr",
     "output_type": "stream",
     "text": [
      "/Users/jianyang/miniforge3/envs/DataEngine/lib/python3.9/site-packages/sklearn/base.py:464: UserWarning: X does not have valid feature names, but RandomForestRegressor was fitted with feature names\n",
      "  warnings.warn(\n"
     ]
    },
    {
     "data": {
      "text/plain": "0.31420116994906616"
     },
     "execution_count": 19,
     "metadata": {},
     "output_type": "execute_result"
    }
   ],
   "source": [
    "# pass in all zero, size of 136\n",
    "array = np.full(136, 0.4)\n",
    "prediction_price(array, model)"
   ]
  },
  {
   "cell_type": "code",
   "execution_count": null,
   "metadata": {},
   "outputs": [],
   "source": []
  }
 ],
 "metadata": {
  "kernelspec": {
   "display_name": "pred_analytics",
   "language": "python",
   "name": "python3"
  },
  "language_info": {
   "codemirror_mode": {
    "name": "ipython",
    "version": 3
   },
   "file_extension": ".py",
   "mimetype": "text/x-python",
   "name": "python",
   "nbconvert_exporter": "python",
   "pygments_lexer": "ipython3",
   "version": "3.9.18"
  }
 },
 "nbformat": 4,
 "nbformat_minor": 2
}
